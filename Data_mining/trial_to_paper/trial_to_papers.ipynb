{
 "cells": [
  {
   "cell_type": "code",
   "execution_count": 2,
   "id": "e1d3437e-094c-46aa-9acd-6700d447ee66",
   "metadata": {},
   "outputs": [],
   "source": [
    "# !pip3 install -r requirements.txt\n",
    "# !pip install ipywidgets\n",
    "\n",
    "# ## If widgets misbehave, run below commands and restart jupyter\n",
    "\n",
    "# !pip install jupyter_contrib_nbextensions\n",
    "# !jupyter contrib nbextension install --user\n",
    "# !jupyter nbextension enable varInspector/main"
   ]
  },
  {
   "cell_type": "markdown",
   "id": "eb4abeb1-8ad3-4215-965f-199a367170a5",
   "metadata": {},
   "source": [
    "### Postgres AACT login\n",
    "variables.py file lists required entities for trial_to_paper_utils functions in this notebook.\n",
    "\n",
    "One of note is to fill in your username and password for your AACT account"
   ]
  },
  {
   "cell_type": "code",
   "execution_count": 2,
   "id": "9ad22740-b673-470d-9fbe-3fc02c1986d6",
   "metadata": {},
   "outputs": [],
   "source": [
    "import ipywidgets as widgets\n",
    "import pandas as pd\n",
    "from transformers import pipeline\n",
    "from tqdm import tqdm\n",
    "from trial_to_paper_utils import *\n",
    "from pprint import pprint"
   ]
  },
  {
   "cell_type": "markdown",
   "id": "c2294aba-78f1-4552-8082-33c28fb3e868",
   "metadata": {},
   "source": [
    "### Notes on TODOs\n",
    "\n",
    "- [] % trials with associated papers at all\n",
    "- [] What AEs are unique, if any, to the papers (not mentioned in trial)\n",
    "- [] How do authors prioritise which AEs they are discussing in paper? Are there any trends in this?\n",
    "- [] What is the lag time between trial completion and papers being published?\n",
    "- [] Extract target - drug - AEs\n",
    "- [] Is there any other data in CT.gov which could help inform on AE prioritisation\n",
    "- [] Can we define 'severity' of AEs with models - check w Ines for severity score model\n",
    "- [x] Compare examples from OTs paper (less severe indications) to cancer examples, intention to link to Ines' severity score\n",
    "- [x] Sort the AE hits so they read as intended based on their indices"
   ]
  },
  {
   "cell_type": "code",
   "execution_count": 7,
   "id": "d9e0f932-52d2-4074-8837-9a2c1eba11a2",
   "metadata": {},
   "outputs": [],
   "source": [
    "nct_id = \"NCT01753193\" # 'Easy' SLE example - only 1 patient group\n",
    "# nct_id = \"NCT05034952\" # Efficacy and Safety VX-548\n",
    "\n",
    "# Nav18_17 trials v results\n",
    "# NCT02215252 NCT01769274 NCT01529346\n",
    "# nct_id = \"NCT01769274\" #x\n",
    "\n",
    "# Diabetes\n",
    "# nct_id = \"NCT03084965\"\n",
    "\n",
    "query = f\"\"\"\n",
    "SELECT \n",
    "\tc.names AS indication,\n",
    "    s.{nct_id},\n",
    "    s.brief_title AS study_title,\n",
    "    s.phase AS study_phase,\n",
    "\tae.adverse_event_term as adverse_event,\n",
    "    ae.event_type,\n",
    "\tae.organ_system,\n",
    "\tae.subjects_at_risk,\n",
    "    ae.subjects_affected as subjects_affected,\n",
    "\tae.ctgov_group_code,\n",
    "    -- ae.description,\n",
    "\tae.result_group_id\n",
    "FROM \n",
    "    \"reported_events\" as ae\n",
    "JOIN\n",
    "\tall_conditions as c on c.nct_id = ae.nct_id\n",
    "JOIN\n",
    "    studies as s ON s.nct_id = ae.nct_id\n",
    "WHERE\n",
    "\tae.nct_id = '{nct_id}';\n",
    "\"\"\""
   ]
  },
  {
   "cell_type": "markdown",
   "id": "caf8f7e8-7cd6-4ad2-abf1-35588e8c4beb",
   "metadata": {},
   "source": [
    "## AACT queried with starting NCT ID of interest to collect referenced adverse events"
   ]
  },
  {
   "cell_type": "code",
   "execution_count": 9,
   "id": "3fa9deaa-5f86-47cd-86ef-ba31829c8d7f",
   "metadata": {},
   "outputs": [
    {
     "ename": "UndefinedColumn",
     "evalue": "column s.nct01753193 does not exist\nLINE 4:     s.NCT01753193,\n            ^",
     "output_type": "error",
     "traceback": [
      "\u001b[0;31m---------------------------------------------------------------------------\u001b[0m",
      "\u001b[0;31mUndefinedColumn\u001b[0m                           Traceback (most recent call last)",
      "Cell \u001b[0;32mIn[9], line 1\u001b[0m\n\u001b[0;32m----> 1\u001b[0m study_title, aes, severe_aes, other_aes, patient_groups \u001b[38;5;241m=\u001b[39m \u001b[43maact_data_gather\u001b[49m\u001b[43m(\u001b[49m\u001b[43mnct_id\u001b[49m\u001b[43m,\u001b[49m\u001b[43m \u001b[49m\u001b[43mquery\u001b[49m\u001b[43m)\u001b[49m\n\u001b[1;32m      2\u001b[0m \u001b[38;5;66;03m# TODO Get % affected / see relevance of 'other' vs 'serious'\u001b[39;00m\n\u001b[1;32m      3\u001b[0m \u001b[38;5;28;01mif\u001b[39;00m study_title:\n",
      "File \u001b[0;32m~/Documents/PythonProjects/trial_to_paper/trial_to_paper_utils.py:28\u001b[0m, in \u001b[0;36maact_data_gather\u001b[0;34m(nct_id, query)\u001b[0m\n\u001b[1;32m     27\u001b[0m \u001b[38;5;28;01mdef\u001b[39;00m\u001b[38;5;250m \u001b[39m\u001b[38;5;21maact_data_gather\u001b[39m(nct_id: \u001b[38;5;28mstr\u001b[39m, query: \u001b[38;5;28mstr\u001b[39m) \u001b[38;5;241m-\u001b[39m\u001b[38;5;241m>\u001b[39m Tuple[\u001b[38;5;28mstr\u001b[39m, List, List, List, List]:\n\u001b[0;32m---> 28\u001b[0m     response_df \u001b[38;5;241m=\u001b[39m \u001b[43maact_query\u001b[49m\u001b[43m(\u001b[49m\u001b[43mquery\u001b[49m\u001b[43m)\u001b[49m\n\u001b[1;32m     29\u001b[0m     \u001b[38;5;28;01mif\u001b[39;00m \u001b[38;5;129;01mnot\u001b[39;00m response_df\u001b[38;5;241m.\u001b[39mempty:\n\u001b[1;32m     30\u001b[0m         severe_aes_filter \u001b[38;5;241m=\u001b[39m response_df[response_df[\u001b[38;5;124m\"\u001b[39m\u001b[38;5;124mevent_type\u001b[39m\u001b[38;5;124m\"\u001b[39m] \u001b[38;5;241m==\u001b[39m \u001b[38;5;124m\"\u001b[39m\u001b[38;5;124mserious\u001b[39m\u001b[38;5;124m\"\u001b[39m]\n",
      "File \u001b[0;32m~/Documents/PythonProjects/trial_to_paper/trial_to_paper_utils.py:22\u001b[0m, in \u001b[0;36maact_query\u001b[0;34m(query)\u001b[0m\n\u001b[1;32m     15\u001b[0m conn \u001b[38;5;241m=\u001b[39m psycopg\u001b[38;5;241m.\u001b[39mconnect(dbname\u001b[38;5;241m=\u001b[39m\u001b[38;5;124m\"\u001b[39m\u001b[38;5;124maact\u001b[39m\u001b[38;5;124m\"\u001b[39m,\n\u001b[1;32m     16\u001b[0m                        host\u001b[38;5;241m=\u001b[39m\u001b[38;5;124m\"\u001b[39m\u001b[38;5;124maact-db.ctti-clinicaltrials.org\u001b[39m\u001b[38;5;124m\"\u001b[39m,\n\u001b[1;32m     17\u001b[0m                        user\u001b[38;5;241m=\u001b[39muser,\n\u001b[1;32m     18\u001b[0m                        password\u001b[38;5;241m=\u001b[39mpassword,\n\u001b[1;32m     19\u001b[0m                        port\u001b[38;5;241m=\u001b[39m\u001b[38;5;241m5432\u001b[39m)\n\u001b[1;32m     20\u001b[0m cursor \u001b[38;5;241m=\u001b[39m conn\u001b[38;5;241m.\u001b[39mcursor()\n\u001b[0;32m---> 22\u001b[0m \u001b[43mcursor\u001b[49m\u001b[38;5;241;43m.\u001b[39;49m\u001b[43mexecute\u001b[49m\u001b[43m(\u001b[49m\u001b[43mquery\u001b[49m\u001b[43m)\u001b[49m\n\u001b[1;32m     23\u001b[0m response_df \u001b[38;5;241m=\u001b[39m pd\u001b[38;5;241m.\u001b[39mDataFrame(cursor\u001b[38;5;241m.\u001b[39mfetchall(), columns\u001b[38;5;241m=\u001b[39mheaders)\n\u001b[1;32m     24\u001b[0m \u001b[38;5;28;01mreturn\u001b[39;00m response_df\n",
      "File \u001b[0;32m~/Documents/PythonProjects/trial_to_paper/t2paper/lib/python3.13/site-packages/psycopg/cursor.py:97\u001b[0m, in \u001b[0;36mCursor.execute\u001b[0;34m(self, query, params, prepare, binary)\u001b[0m\n\u001b[1;32m     93\u001b[0m         \u001b[38;5;28mself\u001b[39m\u001b[38;5;241m.\u001b[39m_conn\u001b[38;5;241m.\u001b[39mwait(\n\u001b[1;32m     94\u001b[0m             \u001b[38;5;28mself\u001b[39m\u001b[38;5;241m.\u001b[39m_execute_gen(query, params, prepare\u001b[38;5;241m=\u001b[39mprepare, binary\u001b[38;5;241m=\u001b[39mbinary)\n\u001b[1;32m     95\u001b[0m         )\n\u001b[1;32m     96\u001b[0m \u001b[38;5;28;01mexcept\u001b[39;00m e\u001b[38;5;241m.\u001b[39m_NO_TRACEBACK \u001b[38;5;28;01mas\u001b[39;00m ex:\n\u001b[0;32m---> 97\u001b[0m     \u001b[38;5;28;01mraise\u001b[39;00m ex\u001b[38;5;241m.\u001b[39mwith_traceback(\u001b[38;5;28;01mNone\u001b[39;00m)\n\u001b[1;32m     98\u001b[0m \u001b[38;5;28;01mreturn\u001b[39;00m \u001b[38;5;28mself\u001b[39m\n",
      "\u001b[0;31mUndefinedColumn\u001b[0m: column s.nct01753193 does not exist\nLINE 4:     s.NCT01753193,\n            ^"
     ]
    }
   ],
   "source": [
    "study_title, aes, severe_aes, other_aes, patient_groups = aact_data_gather(nct_id, query)\n",
    "# TODO Get % affected / see relevance of 'other' vs 'serious'\n",
    "if study_title:\n",
    "    print(\n",
    "        f\"For CT.gov trial:\\n\\t'{study_title}' ({nct_id}),\\n{len(aes)} unique AEs were recorded in {len(patient_groups)} patient group(s)\\n\")\n",
    "    # [print(f\"- {a}\\n\") for a in aes]\n",
    "else:\n",
    "    print(f\"No trials were found searching for ID: {nct_id}\")"
   ]
  },
  {
   "cell_type": "code",
   "execution_count": 13,
   "id": "b42b6ec0-d0b4-4eab-bb13-de03e72ccc79",
   "metadata": {},
   "outputs": [
    {
     "ename": "NameError",
     "evalue": "name 'widgets' is not defined",
     "output_type": "error",
     "traceback": [
      "\u001b[0;31m---------------------------------------------------------------------------\u001b[0m",
      "\u001b[0;31mNameError\u001b[0m                                 Traceback (most recent call last)",
      "Cell \u001b[0;32mIn[13], line 2\u001b[0m\n\u001b[1;32m      1\u001b[0m start_statement \u001b[38;5;241m=\u001b[39m \u001b[38;5;124mf\u001b[39m\u001b[38;5;124m'\u001b[39m\u001b[38;5;124mAdverse events recorded for trial: \u001b[39m\u001b[38;5;132;01m{\u001b[39;00mnct_id\u001b[38;5;132;01m}\u001b[39;00m\u001b[38;5;124m'\u001b[39m\n\u001b[0;32m----> 2\u001b[0m \u001b[43mdisplay_widget\u001b[49m\u001b[43m(\u001b[49m\u001b[43mtext\u001b[49m\u001b[38;5;241;43m=\u001b[39;49m\u001b[43maes\u001b[49m\u001b[43m,\u001b[49m\u001b[43m \u001b[49m\u001b[43mplaceholder\u001b[49m\u001b[38;5;241;43m=\u001b[39;49m\u001b[38;5;124;43m'\u001b[39;49m\u001b[38;5;124;43mAEs\u001b[39;49m\u001b[38;5;124;43m'\u001b[39;49m\u001b[43m,\u001b[49m\u001b[43m \u001b[49m\u001b[43mstart_statement\u001b[49m\u001b[38;5;241;43m=\u001b[39;49m\u001b[43mstart_statement\u001b[49m\u001b[43m)\u001b[49m\n",
      "File \u001b[0;32m~/Documents/PythonProjects/trial_to_paper/trial_to_paper_utils.py:50\u001b[0m, in \u001b[0;36mdisplay_widget\u001b[0;34m(text, placeholder, start_statement)\u001b[0m\n\u001b[1;32m     47\u001b[0m \u001b[38;5;28;01mdef\u001b[39;00m\u001b[38;5;250m \u001b[39m\u001b[38;5;21mdisplay_widget\u001b[39m(text: List, placeholder:\u001b[38;5;28mstr\u001b[39m, start_statement:\u001b[38;5;28mstr\u001b[39m):\n\u001b[1;32m     48\u001b[0m     display_text \u001b[38;5;241m=\u001b[39m \u001b[38;5;124m\"\u001b[39m\u001b[38;5;124m<br>\u001b[39m\u001b[38;5;124m\"\u001b[39m\u001b[38;5;241m.\u001b[39mjoin([\u001b[38;5;124mf\u001b[39m\u001b[38;5;124m\"\u001b[39m\u001b[38;5;124m- \u001b[39m\u001b[38;5;132;01m{\u001b[39;00ma\u001b[38;5;132;01m}\u001b[39;00m\u001b[38;5;124m\"\u001b[39m \u001b[38;5;28;01mfor\u001b[39;00m a \u001b[38;5;129;01min\u001b[39;00m text])\n\u001b[0;32m---> 50\u001b[0m     b \u001b[38;5;241m=\u001b[39m \u001b[43mwidgets\u001b[49m\u001b[38;5;241m.\u001b[39mHTML(\n\u001b[1;32m     51\u001b[0m         value \u001b[38;5;241m=\u001b[39m display_text,\n\u001b[1;32m     52\u001b[0m         placeholder \u001b[38;5;241m=\u001b[39m placeholder,\n\u001b[1;32m     53\u001b[0m         description \u001b[38;5;241m=\u001b[39m \u001b[38;5;124m'\u001b[39m\u001b[38;5;124mScroll\u001b[39m\u001b[38;5;124m'\u001b[39m,\n\u001b[1;32m     54\u001b[0m         disabled\u001b[38;5;241m=\u001b[39m\u001b[38;5;28;01mTrue\u001b[39;00m\n\u001b[1;32m     55\u001b[0m     )\n\u001b[1;32m     57\u001b[0m     a \u001b[38;5;241m=\u001b[39m widgets\u001b[38;5;241m.\u001b[39mHBox([b], layout\u001b[38;5;241m=\u001b[39mwidgets\u001b[38;5;241m.\u001b[39mLayout(height\u001b[38;5;241m=\u001b[39m\u001b[38;5;124m'\u001b[39m\u001b[38;5;124m150px\u001b[39m\u001b[38;5;124m'\u001b[39m, width\u001b[38;5;241m=\u001b[39m\u001b[38;5;124m'\u001b[39m\u001b[38;5;124m1000px\u001b[39m\u001b[38;5;124m'\u001b[39m, overflow_y\u001b[38;5;241m=\u001b[39m\u001b[38;5;124m'\u001b[39m\u001b[38;5;124mauto\u001b[39m\u001b[38;5;124m'\u001b[39m))\n\u001b[1;32m     59\u001b[0m     \u001b[38;5;28mprint\u001b[39m(start_statement)\n",
      "\u001b[0;31mNameError\u001b[0m: name 'widgets' is not defined"
     ]
    }
   ],
   "source": [
    "start_statement = f'Adverse events recorded for trial: {nct_id}'\n",
    "display_widget(text=aes, placeholder='AEs', start_statement=start_statement)"
   ]
  },
  {
   "cell_type": "markdown",
   "id": "1cb34a6b-d5f8-457c-944f-dd90f4264434",
   "metadata": {},
   "source": [
    "## Search ePMC for papers mentioning trial ID, failing this search for papers relating to compound name"
   ]
  },
  {
   "cell_type": "code",
   "execution_count": 108,
   "id": "b8cd79b2-912e-4871-840f-3d56cf596d61",
   "metadata": {},
   "outputs": [
    {
     "name": "stdout",
     "output_type": "stream",
     "text": [
      "NCT ID referenced in 6 PubMed paper(s).\n",
      "['39193183', '37148484', '31190735', '33225631', '34768756', '35383948']\n",
      "39193183\n"
     ]
    }
   ],
   "source": [
    "trial_in_pmids = query_epmc(query=nct_id, page_size=25)\n",
    "print(f\"NCT ID referenced in {len(trial_in_pmids)} PubMed paper(s).\\n{trial_in_pmids}\")\n",
    "\n",
    "if len(trial_in_pmids) > 0:\n",
    "    test_pmid = trial_in_pmids[0] #TODO - remove test, do for all results & consider subject test groups\n",
    "    print(test_pmid)\n",
    "    text = query_bioc(pmid=test_pmid)\n",
    "else:\n",
    "    pass\n",
    "print_text = False\n",
    "if print_text:\n",
    "    print(\"\\n\".join(text))\n",
    "    print(len(text))\n",
    "    print(text[3])"
   ]
  },
  {
   "cell_type": "markdown",
   "id": "ffd02e6d-0b47-4eb5-aeaa-af1f9c01283e",
   "metadata": {},
   "source": [
    "## Testing HuggingFace AE models over literature text"
   ]
  },
  {
   "cell_type": "code",
   "execution_count": 109,
   "id": "147558da-cf3a-4c1a-b8e1-e5dfe5f8097e",
   "metadata": {},
   "outputs": [],
   "source": [
    "from typing import List\n",
    "\n",
    "\n",
    "def check_ahead(i: int, input_df: pd.DataFrame, df_set: List, entity_str: str) -> [List, str]:\n",
    "    try:\n",
    "        if input_df.iloc[i+1].entity == 'B-AE': # Next term is a new phrase\n",
    "            df_set.append(entity_str)\n",
    "        else:\n",
    "            while input_df.iloc[i+1].entity == 'I-AE':\n",
    "                if input_df.iloc[i+1].word.startswith('##'): # Clean up hashes\n",
    "                    word = input_df.iloc[i+1].word\n",
    "                    entity_str = entity_str + word[2:]\n",
    "                else:\n",
    "                    entity_str = entity_str + ' ' + input_df.iloc[i+1].word\n",
    "                i += 1\n",
    "    except IndexError as e:\n",
    "        df_set.append(entity_str) # End of df\n",
    "    return df_set, entity_str\n",
    "\n",
    "def get_set_from_col(input_df: pd.DataFrame) -> List:\n",
    "    input_df = input_df.sort_values('start')\n",
    "    df_set = []\n",
    "    entity_str = ''\n",
    "    for i, row in input_df.iterrows():\n",
    "        if row.entity == 'B-AE':\n",
    "            # Assign start of term\n",
    "            entity_str = row.word\n",
    "            # Look ahead of additional words of term\n",
    "            df_set, entity_str = check_ahead(i, input_df, df_set, entity_str)\n",
    "\n",
    "    # return list(set(df_set))\n",
    "    return df_set"
   ]
  },
  {
   "cell_type": "code",
   "execution_count": 113,
   "id": "9538f1d9-0ce3-4e09-bd81-a73ebf5fe3bc",
   "metadata": {},
   "outputs": [
    {
     "name": "stderr",
     "output_type": "stream",
     "text": [
      "Device set to use mps:0\n",
      "Asking to truncate to max_length but no maximum length is provided and the model has no predefined maximum length. Default to no truncation.\n",
      "  2%|█▉                                                                                  | 5/215 [00:00<00:12, 16.34it/s]"
     ]
    },
    {
     "name": "stdout",
     "output_type": "stream",
     "text": [
      "  entity     score  index word  start  end\n",
      "0   I-AE  0.580194     22  ##s    122  123\n"
     ]
    },
    {
     "name": "stderr",
     "output_type": "stream",
     "text": [
      " 11%|█████████▎                                                                         | 24/215 [00:00<00:05, 33.59it/s]"
     ]
    },
    {
     "name": "stdout",
     "output_type": "stream",
     "text": [
      "  entity     score  index       word  start  end\n",
      "0   B-AE  0.681990      6  increased     34   43\n",
      "1   I-AE  0.813916      7     levels     44   50\n",
      "2   I-AE  0.757584      8         of     51   53\n",
      "3   I-AE  0.537050      9        ifn     54   57\n",
      "4   I-AE  0.743058     10         in     58   60\n",
      "5   I-AE  0.565262     11      serum     61   66\n"
     ]
    },
    {
     "name": "stderr",
     "output_type": "stream",
     "text": [
      " 15%|████████████▋                                                                      | 33/215 [00:01<00:05, 31.79it/s]"
     ]
    },
    {
     "name": "stdout",
     "output_type": "stream",
     "text": [
      "  entity     score  index      word  start  end\n",
      "0   I-AE  0.583950     12   overall     57   64\n",
      "1   I-AE  0.500546     13   disease     65   72\n",
      "2   I-AE  0.712672     14  activity     73   81\n",
      "  entity     score  index       word  start  end\n",
      "0   B-AE  0.802168    147     herpes    738  744\n",
      "1   I-AE  0.969673    148     zoster    745  751\n",
      "2   I-AE  0.873056    149  incidence    752  761\n"
     ]
    },
    {
     "name": "stderr",
     "output_type": "stream",
     "text": [
      " 23%|██████████████████▉                                                                | 49/215 [00:01<00:05, 28.97it/s]"
     ]
    },
    {
     "name": "stdout",
     "output_type": "stream",
     "text": [
      "   entity     score  index        word  start  end\n",
      "0    B-AE  0.619942     87        mild    446  450\n",
      "1    I-AE  0.700091     88  infections    451  461\n",
      "2    B-AE  0.652657     90   headaches    463  472\n",
      "3    B-AE  0.639640     92         nas    474  477\n",
      "4    I-AE  0.684847     93       ##oph    477  480\n",
      "..    ...       ...    ...         ...    ...  ...\n",
      "9    I-AE  0.700623     99       ##gia    501  504\n",
      "10   B-AE  0.833818    101   injection    509  518\n",
      "11   I-AE  0.867768    102        site    519  523\n",
      "12   I-AE  0.866820    103         ind    524  527\n",
      "13   I-AE  0.858238    104   ##uration    527  534\n",
      "\n",
      "[14 rows x 6 columns]\n"
     ]
    },
    {
     "name": "stderr",
     "output_type": "stream",
     "text": [
      " 53%|███████████████████████████████████████████▊                                      | 115/215 [00:02<00:01, 63.27it/s]"
     ]
    },
    {
     "name": "stdout",
     "output_type": "stream",
     "text": [
      "  entity     score  index   word  start  end\n",
      "0   I-AE  0.532042      3  event     16   21\n"
     ]
    },
    {
     "name": "stderr",
     "output_type": "stream",
     "text": [
      " 72%|██████████████████████████████████████████████████████████▋                       | 154/215 [00:03<00:01, 35.75it/s]"
     ]
    },
    {
     "name": "stdout",
     "output_type": "stream",
     "text": [
      "  entity     score  index       word  start  end\n",
      "0   I-AE  0.551295     28  synthesis    180  189\n"
     ]
    },
    {
     "name": "stderr",
     "output_type": "stream",
     "text": [
      " 78%|████████████████████████████████████████████████████████████████                  | 168/215 [00:04<00:01, 41.22it/s]"
     ]
    },
    {
     "name": "stdout",
     "output_type": "stream",
     "text": [
      "  entity     score  index       word  start  end\n",
      "0   B-AE  0.636648      1  photosens      0    9\n",
      "1   I-AE  0.577762      2  ##itivity      9   16\n",
      "  entity     score  index       word  start  end\n",
      "0   I-AE  0.620246     14  nephritis     94  103\n"
     ]
    },
    {
     "name": "stderr",
     "output_type": "stream",
     "text": [
      " 86%|██████████████████████████████████████████████████████████████████████▌           | 185/215 [00:04<00:00, 43.07it/s]"
     ]
    },
    {
     "name": "stdout",
     "output_type": "stream",
     "text": [
      "  entity     score  index   word  start  end\n",
      "0   I-AE  0.512464      7  rates     26   31\n"
     ]
    },
    {
     "name": "stderr",
     "output_type": "stream",
     "text": [
      "100%|██████████████████████████████████████████████████████████████████████████████████| 215/215 [00:05<00:00, 38.61it/s]\n"
     ]
    }
   ],
   "source": [
    "# TODO Test open source models for AE detection in text, compare to those recorded in trial\n",
    "pipe = pipeline(task=\"token-classification\", model=\"MutazYoune/BiomedBERT-Adverse-Events-NER_pun\", tokenizer=\"MutazYoune/BiomedBERT-Adverse-Events-NER_pun\")\n",
    "# pipe = pipeline(task=\"token-classification\", model=\"MutazYoune/Medical-NER-Adverse-Events-NER\", tokenizer=\"MutazYoune/Medical-NER-Adverse-Events-NER\")\n",
    "\n",
    "all_sections = []\n",
    "all_aes = []\n",
    "for x in tqdm(text):\n",
    "    try:\n",
    "        res = pipe(x)\n",
    "        if res:\n",
    "            section_df = pd.DataFrame(res)\n",
    "            section_set = get_set_from_col(section_df)\n",
    "            [all_aes.append(x) for x in section_set]\n",
    "            pprint(section_df)\n",
    "            all_sections.append(section_df)\n",
    "    except:\n",
    "        continue\n",
    "\n",
    "paper_aes_df = pd.concat(all_sections, ignore_index=True)\n",
    "model_name = pipe.model.name_or_path\n",
    "model_name = model_name.rpartition('/')[-1]\n",
    "# paper_aes.to_csv(f'./output/{model_name}_AEs_{test_pmid}.csv')"
   ]
  },
  {
   "cell_type": "code",
   "execution_count": 111,
   "id": "db57d823-a5d4-4072-868a-73a20c489111",
   "metadata": {},
   "outputs": [
    {
     "data": {
      "text/plain": [
       "['increased levels of ifn in serum',\n",
       " 'herpes zoster incidence',\n",
       " 'headaches',\n",
       " 'injection site induration',\n",
       " 'photosensitivity']"
      ]
     },
     "execution_count": 111,
     "metadata": {},
     "output_type": "execute_result"
    }
   ],
   "source": [
    "all_aes"
   ]
  },
  {
   "cell_type": "code",
   "execution_count": 112,
   "id": "3abe3163-b42a-4951-b9c4-f831073db54e",
   "metadata": {},
   "outputs": [
    {
     "data": {
      "text/html": [
       "<div style='max-height:500px; overflow:auto'><table border=\"1\" class=\"dataframe\">\n",
       "  <thead>\n",
       "    <tr style=\"text-align: right;\">\n",
       "      <th></th>\n",
       "      <th>entity</th>\n",
       "      <th>score</th>\n",
       "      <th>index</th>\n",
       "      <th>word</th>\n",
       "      <th>start</th>\n",
       "      <th>end</th>\n",
       "    </tr>\n",
       "  </thead>\n",
       "  <tbody>\n",
       "    <tr>\n",
       "      <th>29</th>\n",
       "      <td>B-AE</td>\n",
       "      <td>0.636648</td>\n",
       "      <td>1</td>\n",
       "      <td>photosens</td>\n",
       "      <td>0</td>\n",
       "      <td>9</td>\n",
       "    </tr>\n",
       "    <tr>\n",
       "      <th>30</th>\n",
       "      <td>I-AE</td>\n",
       "      <td>0.577762</td>\n",
       "      <td>2</td>\n",
       "      <td>##itivity</td>\n",
       "      <td>9</td>\n",
       "      <td>16</td>\n",
       "    </tr>\n",
       "    <tr>\n",
       "      <th>27</th>\n",
       "      <td>I-AE</td>\n",
       "      <td>0.532042</td>\n",
       "      <td>3</td>\n",
       "      <td>event</td>\n",
       "      <td>16</td>\n",
       "      <td>21</td>\n",
       "    </tr>\n",
       "    <tr>\n",
       "      <th>32</th>\n",
       "      <td>I-AE</td>\n",
       "      <td>0.512464</td>\n",
       "      <td>7</td>\n",
       "      <td>rates</td>\n",
       "      <td>26</td>\n",
       "      <td>31</td>\n",
       "    </tr>\n",
       "    <tr>\n",
       "      <th>1</th>\n",
       "      <td>B-AE</td>\n",
       "      <td>0.681990</td>\n",
       "      <td>6</td>\n",
       "      <td>increased</td>\n",
       "      <td>34</td>\n",
       "      <td>43</td>\n",
       "    </tr>\n",
       "    <tr>\n",
       "      <th>2</th>\n",
       "      <td>I-AE</td>\n",
       "      <td>0.813916</td>\n",
       "      <td>7</td>\n",
       "      <td>levels</td>\n",
       "      <td>44</td>\n",
       "      <td>50</td>\n",
       "    </tr>\n",
       "    <tr>\n",
       "      <th>3</th>\n",
       "      <td>I-AE</td>\n",
       "      <td>0.757584</td>\n",
       "      <td>8</td>\n",
       "      <td>of</td>\n",
       "      <td>51</td>\n",
       "      <td>53</td>\n",
       "    </tr>\n",
       "    <tr>\n",
       "      <th>4</th>\n",
       "      <td>I-AE</td>\n",
       "      <td>0.537050</td>\n",
       "      <td>9</td>\n",
       "      <td>ifn</td>\n",
       "      <td>54</td>\n",
       "      <td>57</td>\n",
       "    </tr>\n",
       "    <tr>\n",
       "      <th>7</th>\n",
       "      <td>I-AE</td>\n",
       "      <td>0.583950</td>\n",
       "      <td>12</td>\n",
       "      <td>overall</td>\n",
       "      <td>57</td>\n",
       "      <td>64</td>\n",
       "    </tr>\n",
       "    <tr>\n",
       "      <th>5</th>\n",
       "      <td>I-AE</td>\n",
       "      <td>0.743058</td>\n",
       "      <td>10</td>\n",
       "      <td>in</td>\n",
       "      <td>58</td>\n",
       "      <td>60</td>\n",
       "    </tr>\n",
       "    <tr>\n",
       "      <th>6</th>\n",
       "      <td>I-AE</td>\n",
       "      <td>0.565262</td>\n",
       "      <td>11</td>\n",
       "      <td>serum</td>\n",
       "      <td>61</td>\n",
       "      <td>66</td>\n",
       "    </tr>\n",
       "    <tr>\n",
       "      <th>8</th>\n",
       "      <td>I-AE</td>\n",
       "      <td>0.500546</td>\n",
       "      <td>13</td>\n",
       "      <td>disease</td>\n",
       "      <td>65</td>\n",
       "      <td>72</td>\n",
       "    </tr>\n",
       "    <tr>\n",
       "      <th>9</th>\n",
       "      <td>I-AE</td>\n",
       "      <td>0.712672</td>\n",
       "      <td>14</td>\n",
       "      <td>activity</td>\n",
       "      <td>73</td>\n",
       "      <td>81</td>\n",
       "    </tr>\n",
       "    <tr>\n",
       "      <th>31</th>\n",
       "      <td>I-AE</td>\n",
       "      <td>0.620246</td>\n",
       "      <td>14</td>\n",
       "      <td>nephritis</td>\n",
       "      <td>94</td>\n",
       "      <td>103</td>\n",
       "    </tr>\n",
       "    <tr>\n",
       "      <th>0</th>\n",
       "      <td>I-AE</td>\n",
       "      <td>0.580194</td>\n",
       "      <td>22</td>\n",
       "      <td>##s</td>\n",
       "      <td>122</td>\n",
       "      <td>123</td>\n",
       "    </tr>\n",
       "    <tr>\n",
       "      <th>28</th>\n",
       "      <td>I-AE</td>\n",
       "      <td>0.551295</td>\n",
       "      <td>28</td>\n",
       "      <td>synthesis</td>\n",
       "      <td>180</td>\n",
       "      <td>189</td>\n",
       "    </tr>\n",
       "    <tr>\n",
       "      <th>13</th>\n",
       "      <td>B-AE</td>\n",
       "      <td>0.619942</td>\n",
       "      <td>87</td>\n",
       "      <td>mild</td>\n",
       "      <td>446</td>\n",
       "      <td>450</td>\n",
       "    </tr>\n",
       "    <tr>\n",
       "      <th>14</th>\n",
       "      <td>I-AE</td>\n",
       "      <td>0.700091</td>\n",
       "      <td>88</td>\n",
       "      <td>infections</td>\n",
       "      <td>451</td>\n",
       "      <td>461</td>\n",
       "    </tr>\n",
       "    <tr>\n",
       "      <th>15</th>\n",
       "      <td>B-AE</td>\n",
       "      <td>0.652657</td>\n",
       "      <td>90</td>\n",
       "      <td>headaches</td>\n",
       "      <td>463</td>\n",
       "      <td>472</td>\n",
       "    </tr>\n",
       "    <tr>\n",
       "      <th>16</th>\n",
       "      <td>B-AE</td>\n",
       "      <td>0.639640</td>\n",
       "      <td>92</td>\n",
       "      <td>nas</td>\n",
       "      <td>474</td>\n",
       "      <td>477</td>\n",
       "    </tr>\n",
       "    <tr>\n",
       "      <th>17</th>\n",
       "      <td>I-AE</td>\n",
       "      <td>0.684847</td>\n",
       "      <td>93</td>\n",
       "      <td>##oph</td>\n",
       "      <td>477</td>\n",
       "      <td>480</td>\n",
       "    </tr>\n",
       "    <tr>\n",
       "      <th>18</th>\n",
       "      <td>I-AE</td>\n",
       "      <td>0.616010</td>\n",
       "      <td>94</td>\n",
       "      <td>##aryng</td>\n",
       "      <td>480</td>\n",
       "      <td>485</td>\n",
       "    </tr>\n",
       "    <tr>\n",
       "      <th>19</th>\n",
       "      <td>I-AE</td>\n",
       "      <td>0.668268</td>\n",
       "      <td>95</td>\n",
       "      <td>##itis</td>\n",
       "      <td>485</td>\n",
       "      <td>489</td>\n",
       "    </tr>\n",
       "    <tr>\n",
       "      <th>20</th>\n",
       "      <td>B-AE</td>\n",
       "      <td>0.723633</td>\n",
       "      <td>97</td>\n",
       "      <td>arth</td>\n",
       "      <td>494</td>\n",
       "      <td>498</td>\n",
       "    </tr>\n",
       "    <tr>\n",
       "      <th>21</th>\n",
       "      <td>I-AE</td>\n",
       "      <td>0.725513</td>\n",
       "      <td>98</td>\n",
       "      <td>##ral</td>\n",
       "      <td>498</td>\n",
       "      <td>501</td>\n",
       "    </tr>\n",
       "    <tr>\n",
       "      <th>22</th>\n",
       "      <td>I-AE</td>\n",
       "      <td>0.700623</td>\n",
       "      <td>99</td>\n",
       "      <td>##gia</td>\n",
       "      <td>501</td>\n",
       "      <td>504</td>\n",
       "    </tr>\n",
       "    <tr>\n",
       "      <th>23</th>\n",
       "      <td>B-AE</td>\n",
       "      <td>0.833818</td>\n",
       "      <td>101</td>\n",
       "      <td>injection</td>\n",
       "      <td>509</td>\n",
       "      <td>518</td>\n",
       "    </tr>\n",
       "    <tr>\n",
       "      <th>24</th>\n",
       "      <td>I-AE</td>\n",
       "      <td>0.867768</td>\n",
       "      <td>102</td>\n",
       "      <td>site</td>\n",
       "      <td>519</td>\n",
       "      <td>523</td>\n",
       "    </tr>\n",
       "    <tr>\n",
       "      <th>25</th>\n",
       "      <td>I-AE</td>\n",
       "      <td>0.866820</td>\n",
       "      <td>103</td>\n",
       "      <td>ind</td>\n",
       "      <td>524</td>\n",
       "      <td>527</td>\n",
       "    </tr>\n",
       "    <tr>\n",
       "      <th>26</th>\n",
       "      <td>I-AE</td>\n",
       "      <td>0.858238</td>\n",
       "      <td>104</td>\n",
       "      <td>##uration</td>\n",
       "      <td>527</td>\n",
       "      <td>534</td>\n",
       "    </tr>\n",
       "    <tr>\n",
       "      <th>10</th>\n",
       "      <td>B-AE</td>\n",
       "      <td>0.802168</td>\n",
       "      <td>147</td>\n",
       "      <td>herpes</td>\n",
       "      <td>738</td>\n",
       "      <td>744</td>\n",
       "    </tr>\n",
       "    <tr>\n",
       "      <th>11</th>\n",
       "      <td>I-AE</td>\n",
       "      <td>0.969673</td>\n",
       "      <td>148</td>\n",
       "      <td>zoster</td>\n",
       "      <td>745</td>\n",
       "      <td>751</td>\n",
       "    </tr>\n",
       "    <tr>\n",
       "      <th>12</th>\n",
       "      <td>I-AE</td>\n",
       "      <td>0.873056</td>\n",
       "      <td>149</td>\n",
       "      <td>incidence</td>\n",
       "      <td>752</td>\n",
       "      <td>761</td>\n",
       "    </tr>\n",
       "  </tbody>\n",
       "</table></div>"
      ],
      "text/plain": [
       "<IPython.core.display.HTML object>"
      ]
     },
     "execution_count": 112,
     "metadata": {},
     "output_type": "execute_result"
    }
   ],
   "source": [
    "from IPython.display import display, HTML\n",
    "\n",
    "def make_scrollable(df, height=500):\n",
    "    return HTML(f\"<div style='max-height:{height}px; overflow:auto'>{df.to_html()}</div>\")\n",
    "\n",
    "paper_aes_df = paper_aes_df.sort_values('start')\n",
    "make_scrollable(paper_aes_df)"
   ]
  },
  {
   "cell_type": "code",
   "execution_count": 96,
   "id": "c3280dfd-1f54-4329-a9be-b8ae28603e2b",
   "metadata": {},
   "outputs": [
    {
     "name": "stdout",
     "output_type": "stream",
     "text": [
      "339 recorded in clinical trial, NCT ID: NCT01769274\n",
      "27 detected in paper, PMID: 26941184\n"
     ]
    }
   ],
   "source": [
    "print(f'{len(list(set(aes)))} recorded in clinical trial, NCT ID: {nct_id}')\n",
    "\n",
    "print(f'{len(all_aes)} detected in paper, PMID: {test_pmid}')"
   ]
  },
  {
   "cell_type": "markdown",
   "id": "ad3c3985-c539-436d-925b-5656876c1607",
   "metadata": {},
   "source": [
    "### Novelty / inaccuracy of trial AEs"
   ]
  },
  {
   "cell_type": "code",
   "execution_count": 103,
   "id": "c2a23b6a-4df0-4a44-929d-26acc8c2d8a5",
   "metadata": {},
   "outputs": [
    {
     "data": {
      "text/plain": [
       "{'acute',\n",
       " 'acute pain pain cold allodynia',\n",
       " 'anosmia',\n",
       " 'atrial fibrillation',\n",
       " 'congenital to',\n",
       " 'enhanced cold pain',\n",
       " 'episodic',\n",
       " 'erythromelalgia',\n",
       " 'extreme',\n",
       " 'familial',\n",
       " 'heat',\n",
       " 'heat hyperalgesia',\n",
       " 'hyperalgesia',\n",
       " 'inflammatory pain',\n",
       " 'insensitivity to pain',\n",
       " 'loss of perception',\n",
       " 'moderate to severe inadequately controlled cancer - related pain',\n",
       " 'neuropathic orofacial pain',\n",
       " 'neuropathic pain',\n",
       " 'orofacial neuropathic pain',\n",
       " 'pain',\n",
       " 'pain hypersensitivity',\n",
       " 'painful neuropathytaity',\n",
       " 'painruciating mechanically evoked pain',\n",
       " 'postetic',\n",
       " 'trigeminal'}"
      ]
     },
     "execution_count": 103,
     "metadata": {},
     "output_type": "execute_result"
    }
   ],
   "source": [
    "unique_aes_to_paper = set(all_aes).difference(set(aes))\n",
    "unique_aes_to_paper"
   ]
  },
  {
   "cell_type": "code",
   "execution_count": 104,
   "id": "98faf0cf-e399-47aa-aa74-3f024f85ebad",
   "metadata": {},
   "outputs": [
    {
     "data": {
      "text/plain": [
       "339"
      ]
     },
     "execution_count": 104,
     "metadata": {},
     "output_type": "execute_result"
    }
   ],
   "source": [
    "unique_aes_to_trial = set(aes).difference(set(all_aes))\n",
    "len(unique_aes_to_trial)"
   ]
  },
  {
   "cell_type": "markdown",
   "id": "54281b8f-096c-49b4-b59b-0b16fe5e4cbb",
   "metadata": {},
   "source": [
    "### Trying w OTs reasons for trial stoppage texts\n",
    "\n",
    "Texts not specific enough in most cases"
   ]
  },
  {
   "cell_type": "code",
   "execution_count": 42,
   "id": "ac9c2bfe-1f61-4bc1-8396-0bba67d0e5b5",
   "metadata": {},
   "outputs": [
    {
     "name": "stdout",
     "output_type": "stream",
     "text": [
      "OTs, reasons for trial stoppage\n"
     ]
    },
    {
     "data": {
      "application/vnd.jupyter.widget-view+json": {
       "model_id": "62972e4e74f146d1b86b47f5af77974a",
       "version_major": 2,
       "version_minor": 0
      },
      "text/plain": [
       "HBox(children=(HTML(value='- 1. Very low enrollment rate. Ê Ê 2. Recent studies question the effect of adding …"
      ]
     },
     "metadata": {},
     "output_type": "display_data"
    }
   ],
   "source": [
    "ots_trial_stop = pd.read_json(\"hf://datasets/opentargets/clinical_trial_reason_to_stop/data.json\", lines=True)\n",
    "ots_trial_stop_safety = ots_trial_stop[ots_trial_stop[\"label_descriptions\"].apply(lambda x: \"Safety_Sideeffects\" in x)]\n",
    "text = list(ots_trial_stop_safety[\"text\"])\n",
    "\n",
    "display_widget(text=text, placeholder='Trial stoppage AEs', start_statement='OTs, reasons for trial stoppage')"
   ]
  },
  {
   "cell_type": "code",
   "execution_count": 36,
   "id": "9bfe181d-b42e-4c1d-8289-c88eff3d6e7d",
   "metadata": {},
   "outputs": [
    {
     "name": "stderr",
     "output_type": "stream",
     "text": [
      "Device set to use mps:0\n",
      "Asking to truncate to max_length but no maximum length is provided and the model has no predefined maximum length. Default to no truncation.\n"
     ]
    },
    {
     "name": "stdout",
     "output_type": "stream",
     "text": [
      "1. Very low enrollment rate. Ê Ê 2. Recent studies question the effect of adding panitumumab in this category of patients. Ê Ê 3. Too high toxicity rate\n"
     ]
    },
    {
     "name": "stderr",
     "output_type": "stream",
     "text": [
      "  1%|▍                                          | 2/211 [00:00<00:49,  4.26it/s]"
     ]
    },
    {
     "name": "stdout",
     "output_type": "stream",
     "text": [
      "2 complications with midazolam\n",
      "5 immune related serious adverse events in Phase 1 study\n"
     ]
    },
    {
     "name": "stderr",
     "output_type": "stream",
     "text": [
      "  1%|▌                                          | 3/211 [00:00<00:47,  4.36it/s]"
     ]
    },
    {
     "name": "stdout",
     "output_type": "stream",
     "text": [
      "['▁immune', '▁related', '▁serious', '▁adverse', '▁events']\n",
      "\n",
      "\n",
      "A 300 patient safety analysis by the Data Monitoring Committee showed a trend towards higher mortality in the treatment group.\n"
     ]
    },
    {
     "name": "stderr",
     "output_type": "stream",
     "text": [
      "  2%|▊                                          | 4/211 [00:00<00:45,  4.52it/s]"
     ]
    },
    {
     "name": "stdout",
     "output_type": "stream",
     "text": [
      "A cluster of adverse events in everolimus arm was noted.\n"
     ]
    },
    {
     "name": "stderr",
     "output_type": "stream",
     "text": [
      "  2%|█                                          | 5/211 [00:01<00:46,  4.44it/s]"
     ]
    },
    {
     "name": "stdout",
     "output_type": "stream",
     "text": [
      "A cluster of deaths in the BCG-arm compared with controls\n"
     ]
    },
    {
     "name": "stderr",
     "output_type": "stream",
     "text": [
      "  3%|█▏                                         | 6/211 [00:01<00:46,  4.45it/s]"
     ]
    },
    {
     "name": "stdout",
     "output_type": "stream",
     "text": [
      "A re-evaluation of research risks to participants were greater than originally anticipated\n"
     ]
    },
    {
     "name": "stderr",
     "output_type": "stream",
     "text": [
      "  3%|█▍                                         | 7/211 [00:01<00:45,  4.52it/s]"
     ]
    },
    {
     "name": "stdout",
     "output_type": "stream",
     "text": [
      "Adverse findings from nonclinical carcinogenicity studies.\n"
     ]
    },
    {
     "name": "stderr",
     "output_type": "stream",
     "text": [
      "  4%|█▋                                         | 8/211 [00:01<00:47,  4.29it/s]"
     ]
    },
    {
     "name": "stdout",
     "output_type": "stream",
     "text": [
      "After interim analysis it was determined that the risks were too great in comparision to theÊ results\n"
     ]
    },
    {
     "name": "stderr",
     "output_type": "stream",
     "text": [
      "  4%|█▊                                         | 9/211 [00:02<00:45,  4.41it/s]"
     ]
    },
    {
     "name": "stdout",
     "output_type": "stream",
     "text": [
      "After reports of turbidity in urine in 4 of 8 volunteers in the 4th cohort, the study was halted temporarily.\"\n"
     ]
    },
    {
     "name": "stderr",
     "output_type": "stream",
     "text": [
      "  5%|█▉                                        | 10/211 [00:02<00:45,  4.42it/s]"
     ]
    },
    {
     "name": "stdout",
     "output_type": "stream",
     "text": [
      "['▁in', '▁urine']\n",
      "\n",
      "\n",
      "After review of safety events and have decided that further dose escalation of MEDI-507 as a single agent is not feasible.\n",
      "All patients during the study period were subjected to peripheral blocks or were excluded fromÊ the study due to exclusion criteria\n"
     ]
    },
    {
     "name": "stderr",
     "output_type": "stream",
     "text": [
      "  6%|██▍                                       | 12/211 [00:02<00:35,  5.61it/s]"
     ]
    },
    {
     "name": "stdout",
     "output_type": "stream",
     "text": [
      "An interim analysis revealed a significantly higher persistence/recurrence of complications of portal hypertension in the 8 mm-stent group.\n"
     ]
    },
    {
     "name": "stderr",
     "output_type": "stream",
     "text": [
      "  6%|██▌                                       | 13/211 [00:02<00:38,  5.18it/s]"
     ]
    },
    {
     "name": "stdout",
     "output_type": "stream",
     "text": [
      "Animal Toxicity Findings\n"
     ]
    },
    {
     "name": "stderr",
     "output_type": "stream",
     "text": [
      "  7%|██▊                                       | 14/211 [00:03<00:40,  4.89it/s]"
     ]
    },
    {
     "name": "stdout",
     "output_type": "stream",
     "text": [
      "Autorities vorbidden this dispositif in other trial\n",
      "Based on data collected, the combination appeared to be poorly tolearated.\"\n"
     ]
    },
    {
     "name": "stderr",
     "output_type": "stream",
     "text": [
      "  8%|███▏                                      | 16/211 [00:03<00:34,  5.67it/s]"
     ]
    },
    {
     "name": "stdout",
     "output_type": "stream",
     "text": [
      "Based on the data collected, the combination of bevacizumab and sunitinib appeared to be poorly tolerated.\"\n"
     ]
    },
    {
     "name": "stderr",
     "output_type": "stream",
     "text": [
      "  8%|███▍                                      | 17/211 [00:03<00:36,  5.26it/s]"
     ]
    },
    {
     "name": "stdout",
     "output_type": "stream",
     "text": [
      "Because of withdrawal of Avandia sale due to its risks outweigh its benefits\n",
      "Company stopped production of study drug due to excessive toxicities, lack of efficacy\n",
      "Concerns about safety at the first interim analysis\n"
     ]
    },
    {
     "name": "stderr",
     "output_type": "stream",
     "text": [
      "  9%|███▉                                      | 20/211 [00:03<00:27,  6.84it/s]"
     ]
    },
    {
     "name": "stdout",
     "output_type": "stream",
     "text": [
      "DSMC recommendation based on safety data\n"
     ]
    },
    {
     "name": "stderr",
     "output_type": "stream",
     "text": [
      " 10%|████▏                                     | 21/211 [00:04<00:31,  6.02it/s]"
     ]
    },
    {
     "name": "stdout",
     "output_type": "stream",
     "text": [
      "Data Monitoring Committee decision on 22nd August 2011 for safety issues\n",
      "Date of termination was Feb. 7, 2008. Reasons of termination were due to elevation of liver function tests and long elimination half-life of the compound.\"\n"
     ]
    },
    {
     "name": "stderr",
     "output_type": "stream",
     "text": [
      " 13%|█████▎                                    | 27/211 [00:04<00:17, 10.81it/s]"
     ]
    },
    {
     "name": "stdout",
     "output_type": "stream",
     "text": [
      "Definitive discontinuation according to safety monitoring of death from the 46th patientÊ onwards.\n",
      "Development of XL999 was stopped due to cardiac toxicities in the subjects\n",
      "['▁cardiac', '▁toxicities']\n",
      "\n",
      "\n",
      "Development program ended due to inability to pair with other cytidine analogs and higher riskÊ of hyperlipasemia when not used with 3TC/FTC.\n",
      "['▁hyper', 'lip', 'as', 'emia']\n",
      "\n",
      "\n",
      "Dose limiting tox is observed. Study put on full clinical hold.\n",
      "Dose limiting toxicities on lowest dose level\n",
      "Due to Health Canada losartan recall, a new formulation being added to the protocol/ temporaryÊ suspension\n",
      "Due to a single, unexpected serious event, the trial was stopped.\n",
      "Due to celecoxib safety issues\n",
      "Due to concerns about potential liver safety (See Detailed Description)\n"
     ]
    },
    {
     "name": "stderr",
     "output_type": "stream",
     "text": [
      " 15%|██████▎                                   | 32/211 [00:04<00:10, 16.85it/s]"
     ]
    },
    {
     "name": "stdout",
     "output_type": "stream",
     "text": [
      "Due to emerging safety data\n"
     ]
    },
    {
     "name": "stderr",
     "output_type": "stream",
     "text": [
      " 17%|██████▉                                   | 35/211 [00:04<00:13, 13.43it/s]"
     ]
    },
    {
     "name": "stdout",
     "output_type": "stream",
     "text": [
      "Due to extreme toxicity\n",
      "Due to high incidence of neurological complication in those with ilioinguinal block\n",
      "Due to potential concerns about liver safety (See Detailed Description)\n",
      "Due to reported toxicity of Celecoxib at high doses\n"
     ]
    },
    {
     "name": "stderr",
     "output_type": "stream",
     "text": [
      " 18%|███████▎                                  | 37/211 [00:05<00:15, 10.88it/s]"
     ]
    },
    {
     "name": "stdout",
     "output_type": "stream",
     "text": [
      "Due to safety concerns\n",
      "Due to safety; specifically a higher rate of deaths, including fatal infections, in the SGN33AÊ arm versus the control arm\n"
     ]
    },
    {
     "name": "stderr",
     "output_type": "stream",
     "text": [
      " 18%|███████▊                                  | 39/211 [00:05<00:18,  9.53it/s]"
     ]
    },
    {
     "name": "stdout",
     "output_type": "stream",
     "text": [
      "Due to the meta-analysis about CV adverse effects of rosiglitazone.\n",
      "Due to toxicity of cyclophosphamide\n",
      "During treatment session 3, a subject had a pattern of AEs of severe intensity, suggestive of brainstem toxicity/encephalopathy during lidocaine/saline infusion\"\n",
      "EMD Serono voluntarily decided to terminate this trial after observing increased MS disease activity in the atacicept treatment groups compared to placebo\n",
      "Effective August 13, 2004: Unanticipated high incidence of post-transplant lymphoproliferativeÊ disorder\n"
     ]
    },
    {
     "name": "stderr",
     "output_type": "stream",
     "text": [
      " 22%|█████████▏                                | 46/211 [00:06<00:13, 11.81it/s]"
     ]
    },
    {
     "name": "stdout",
     "output_type": "stream",
     "text": [
      "Effects of aripiprazole was not obvious and showed adverse reaction obviously\n",
      "Elevation of ALT and AST in some patients.\n",
      "['▁Elevation', '▁of', '▁ALT']\n",
      "\n",
      "\n",
      "Excess toxicity\n"
     ]
    },
    {
     "name": "stderr",
     "output_type": "stream",
     "text": [
      " 23%|█████████▌                                | 48/211 [00:06<00:16,  9.87it/s]"
     ]
    },
    {
     "name": "stdout",
     "output_type": "stream",
     "text": [
      "['▁Excess', '▁toxicity']\n",
      "\n",
      "\n",
      "Extreme toxicity in Phase I, study did not proceed to Phase II\n",
      "['▁toxicity']\n",
      "\n",
      "\n",
      "FDA Clinical Hold as of 12/21/07 due to safety concerns\n",
      "FDA concerns regarding Avandamet\n"
     ]
    },
    {
     "name": "stderr",
     "output_type": "stream",
     "text": [
      " 24%|█████████▉                                | 50/211 [00:06<00:17,  9.03it/s]"
     ]
    },
    {
     "name": "stdout",
     "output_type": "stream",
     "text": [
      "Failure of an inroducer sheath used in the technique specified by the study. posing a risk. No adverse outcome has occurred in a study patient.\n"
     ]
    },
    {
     "name": "stderr",
     "output_type": "stream",
     "text": [
      " 25%|██████████▎                               | 52/211 [00:07<00:21,  7.33it/s]"
     ]
    },
    {
     "name": "stdout",
     "output_type": "stream",
     "text": [
      "Field Safety Notice related to potential ventricular oversensing associated to the PhD featureÊ on Paradym ICDs\n",
      "First two patients enrolled after trial reopened, developed grade III-IV acute GVHD and Ê subsequently passed away.\n"
     ]
    },
    {
     "name": "stderr",
     "output_type": "stream",
     "text": [
      " 27%|███████████▎                              | 57/211 [00:07<00:14, 10.81it/s]"
     ]
    },
    {
     "name": "stdout",
     "output_type": "stream",
     "text": [
      "Following the recall of Ionsys, the study has been stopped. Data analysis will be undertaken in accordance with the Analysis Plan.\"\n",
      "For safety reasons the recruitment was halted prematurely. Patients on the trial continute to Ê receive treatment and are being followed up as part the protocol.\n",
      "GanLee cancelled study -FDA Draft Guidance: \"Clinical Immunogenicity Considerations forÊ Biosimilar & Interchangeable Insulin Products\" released 11/25/2019\n",
      "Given the number of toxicities seen and the difficulty with patient retention in the doseÊ escalation portion, the sponsor decided to close the trial.\n",
      "Hepatic Safety Signal Identified.\n",
      "Hepatic safety signal identified.\n",
      "High dose citrulline treatment throughout pregnancy in rats may lead to elevated blood pressure in the offspring.\n"
     ]
    },
    {
     "name": "stderr",
     "output_type": "stream",
     "text": [
      " 28%|███████████▉                              | 60/211 [00:07<00:11, 13.44it/s]"
     ]
    },
    {
     "name": "stdout",
     "output_type": "stream",
     "text": [
      "Higher than expected rate of acute rejection\n",
      "In a Phase II study in HIV-infected patients there were a number of seizures, although exactÊ causality could not be assessed phase 1 activity was terminated.\n"
     ]
    },
    {
     "name": "stderr",
     "output_type": "stream",
     "text": [
      " 29%|████████████▎                             | 62/211 [00:07<00:13, 10.65it/s]"
     ]
    },
    {
     "name": "stdout",
     "output_type": "stream",
     "text": [
      "['▁seizures']\n",
      "\n",
      "\n",
      "Inadequate toxicity\n",
      "['▁Inadequate', '▁toxicity']\n",
      "\n",
      "\n",
      "Incidence of GI Perforation\n",
      "Incidence of abnormalities of liver function tests is higher than expected in this population.\n"
     ]
    },
    {
     "name": "stderr",
     "output_type": "stream",
     "text": [
      " 32%|█████████████▎                            | 67/211 [00:08<00:13, 10.82it/s]"
     ]
    },
    {
     "name": "stdout",
     "output_type": "stream",
     "text": [
      "Interim safety analysis\n",
      "Investigations on a Suspected Unexpected Serious Adverse Reaction (SUSAR)\n",
      "Investigator letter from drug manufacturer stating animal studies showed increased risk of Ê cancer which was an unknown adverse event\n",
      "Lack of response activity in the setting of an unacceptable toxicity profile\n"
     ]
    },
    {
     "name": "stderr",
     "output_type": "stream",
     "text": [
      " 34%|██████████████▏                           | 71/211 [00:08<00:09, 14.42it/s]"
     ]
    },
    {
     "name": "stdout",
     "output_type": "stream",
     "text": [
      "Last subject enrolled experienced bradycardia; study was terminated by Sponsor.\n",
      "['▁bradycardia']\n",
      "\n",
      "\n",
      "Major side-effects\n",
      "Melagatran/ximelagatran was withdrawn from the market and clinical development in February 2006 in the interest of patient safety.\n",
      "Melagatran/ximelagatran was withdrawn from the market and clinical development in February Ê 2006 in the interest of patient safety.\n"
     ]
    },
    {
     "name": "stderr",
     "output_type": "stream",
     "text": [
      " 36%|███████████████▏                          | 76/211 [00:09<00:12, 11.13it/s]"
     ]
    },
    {
     "name": "stdout",
     "output_type": "stream",
     "text": [
      "More cases of Febrile Neutropenia were observed in experimental group compared to standard treatment.\n",
      "['▁Feb', 'rile', '▁Neu', 'trop', 'enia']\n",
      "\n",
      "\n",
      "More than 2 of 6 patients treated experienced dose limiting toxicities.\n",
      "['▁dose', '▁limiting', '▁toxicities']\n",
      "\n",
      "\n",
      "Nephrotoxicity\n",
      "['▁Nephro', 'toxicity']\n",
      "\n",
      "\n",
      "New compounds available in the indication (nivolumab/pembrolizumab), toxicity of ipilimumab\n",
      "Newly identified safety concerns have changed the risk and benefit considerations\n"
     ]
    },
    {
     "name": "stderr",
     "output_type": "stream",
     "text": [
      " 39%|████████████████▎                         | 82/211 [00:09<00:08, 15.05it/s]"
     ]
    },
    {
     "name": "stdout",
     "output_type": "stream",
     "text": [
      "Observed lower cure rates and higher mortality rates in one of the treatment groups.\n",
      "Occurrence of severe respiratory depression in the remifentanil group.\n",
      "['▁severe', '▁respiratory', '▁depression']\n",
      "\n",
      "\n",
      "On 25April2014, study was terminated before any dosing due to an AE of safety concern thatÊ occurred in protocol B1731003 with the same drug.\n",
      "Other - Higher than expected incidence of hearing loss\n",
      "['▁Higher', '▁than', '▁expected', '▁incidence', '▁of', '▁hearing', '▁loss']\n",
      "\n",
      "\n",
      "Patient safety - Unacceptable toxicity\n"
     ]
    },
    {
     "name": "stderr",
     "output_type": "stream",
     "text": [
      " 41%|█████████████████▎                        | 87/211 [00:09<00:07, 17.52it/s]"
     ]
    },
    {
     "name": "stdout",
     "output_type": "stream",
     "text": [
      "Poor tolerability of drug and side effects\n",
      "Post-marketing reports of hepatotoxicity associated with obeticholic acid emerged in June 2017,Ê investigators temporarily halted patient recruitment June 2017.\n",
      "['▁hepato', 'toxicity']\n",
      "\n",
      "\n",
      "Potential hepatic safety signal\n",
      "Pre-Clinical Safety Tox Findings\n",
      "Protocol was stopped due to the safety issue in Global\n"
     ]
    },
    {
     "name": "stderr",
     "output_type": "stream",
     "text": [
      " 43%|█████████████████▉                        | 90/211 [00:09<00:06, 18.45it/s]"
     ]
    },
    {
     "name": "stdout",
     "output_type": "stream",
     "text": [
      "Questions of the benefit efficacy/risks of ddI during the meal not resolved\n",
      "Reactogenicity met study halting criteria\n",
      "Recruitment suspended until DSMB reviews a Serious Adverse Event\n",
      "Reports of significant laboratory abnormalities and adverse events in a number of clinical Ê study participants.\n",
      "Repros stopped the study for safety and FDA put the study on hold for safety.\n"
     ]
    },
    {
     "name": "stderr",
     "output_type": "stream",
     "text": [
      " 45%|██████████████████▉                       | 95/211 [00:10<00:07, 14.73it/s]"
     ]
    },
    {
     "name": "stdout",
     "output_type": "stream",
     "text": [
      "Rofecoxib was withdrawn from the market due to safety concerns.\n",
      "SAE- risk of overall protocol treatment outweighs benefits\n",
      "SAEs with n=1 serotonin syndrome, n=2 SAEs after sertraline interruption.\n",
      "Safety\n"
     ]
    },
    {
     "name": "stderr",
     "output_type": "stream",
     "text": [
      " 47%|███████████████████▋                      | 99/211 [00:10<00:08, 12.90it/s]"
     ]
    },
    {
     "name": "stdout",
     "output_type": "stream",
     "text": [
      "Safety Issue: The trial was prematurely terminated on Dec 9, 2010, due to safety concerns,Ê specifically new emerging evidence of hepatic injury.\n",
      "Safety Issues\n",
      "Safety Review\n",
      "Safety concerns\n",
      "Safety concerns in the treatment arm\n"
     ]
    },
    {
     "name": "stderr",
     "output_type": "stream",
     "text": [
      " 49%|████████████████████▏                    | 104/211 [00:10<00:06, 15.83it/s]"
     ]
    },
    {
     "name": "stdout",
     "output_type": "stream",
     "text": [
      "Safety concerns with the COX-2 specific inhibitor class of drug.\n",
      "Safety concerns.\n",
      "Safety evaluation due to recent publications.\n",
      "Safety issue\n",
      "Safety issue observed on another hepatocellular study using OSI906\n"
     ]
    },
    {
     "name": "stderr",
     "output_type": "stream",
     "text": [
      " 53%|█████████████████████▊                   | 112/211 [00:11<00:03, 25.67it/s]"
     ]
    },
    {
     "name": "stdout",
     "output_type": "stream",
     "text": [
      "Safety issues\n",
      "Safety issues related to outpatient intravenous infusion in India\n",
      "Safety of patients\n",
      "Safety reasons\n",
      "Safety reasons, though no safety issues arose.\"\n",
      "Safety-related\n",
      "Serious adverse events with prednisolone, primarily temporary growth retardation, <5thÊ percentile.\n",
      "['▁growth', '▁retardation']\n",
      "\n",
      "\n",
      "Several enrolled subjects experienced hypotensionafter receiving Nicardipine and after revier the Principal investigator decided to stop enrollment.\n"
     ]
    },
    {
     "name": "stderr",
     "output_type": "stream",
     "text": [
      " 57%|███████████████████████▎                 | 120/211 [00:11<00:03, 25.84it/s]"
     ]
    },
    {
     "name": "stdout",
     "output_type": "stream",
     "text": [
      "['▁hypotension']\n",
      "\n",
      "\n",
      "Side effects valuation\n",
      "Significant Adverse Effects - Futility\n",
      "['▁F', 'utility']\n",
      "\n",
      "\n",
      "Significant Toxicities Experienced\n",
      "['▁Significant', '▁Toxic', 'ities']\n",
      "\n",
      "\n",
      "Some patients experienced asymptomatic, transient elevations in liver transaminases\"\n",
      "['▁elevations', '▁in', '▁liver', '▁trans', 'amina', 'ses']\n",
      "\n",
      "\n",
      "Sorafenib administered in the combination with pemetrexed-carboplatin appears to enhance thrombocytopenia compared to historical data.\n",
      "['▁thrombocytopenia']\n",
      "\n",
      "\n",
      "Stopped at the request of the Data Safety Monitoring Board for safety reasons.\n"
     ]
    },
    {
     "name": "stderr",
     "output_type": "stream",
     "text": [
      " 58%|███████████████████████▉                 | 123/211 [00:11<00:03, 25.36it/s]"
     ]
    },
    {
     "name": "stdout",
     "output_type": "stream",
     "text": [
      "Stopped by DSMB due to increased wound infection rate.\n",
      "Stopping rule-acute rejection threshold-was met based on local biopsy results\n",
      "Study closed due to unanticipated toxicity/risks to subjects.\n",
      "Study halted on Korean PI request, to await ACIP evaluation of febrile seizure reports and final CDC recommendation regarding product useage\"\n",
      "Study inactivated due to detection of hyperintensities of unclear etiology on brain MRI. Protocol discontinued with clinical &amp; radiological follow up continuing\n"
     ]
    },
    {
     "name": "stderr",
     "output_type": "stream",
     "text": [
      " 61%|█████████████████████████                | 129/211 [00:11<00:04, 17.81it/s]"
     ]
    },
    {
     "name": "stdout",
     "output_type": "stream",
     "text": [
      "Study prematurely terminated due to safety concerns leading to clinical hold\n",
      "Study stopped because of toxicity concerns.\n",
      "Study stopped due to increased cardiovascular risks associated with Celebrex\n",
      "Study suspended because of safety reasons\n",
      "Study terminated for safety and the FDA put the study on hold for safety.\n"
     ]
    },
    {
     "name": "stderr",
     "output_type": "stream",
     "text": [
      " 63%|█████████████████████████▋               | 132/211 [00:12<00:04, 18.14it/s]"
     ]
    },
    {
     "name": "stdout",
     "output_type": "stream",
     "text": [
      "Study was discontinued due to FDA recommendations of the potential toxicities of theÊ combination of drugs.\n",
      "Study was stopped because of safety concerns.\n",
      "Study was stopped due to time dependent drug accumulation\n",
      "Study was stopped early due to lack of efficacy signal and safety concerns\n"
     ]
    },
    {
     "name": "stderr",
     "output_type": "stream",
     "text": [
      " 65%|██████████████████████████▊              | 138/211 [00:12<00:03, 19.02it/s]"
     ]
    },
    {
     "name": "stdout",
     "output_type": "stream",
     "text": [
      "Study was terminated due to cardiac toxicities\n",
      "['▁cardiac', '▁toxicities']\n",
      "\n",
      "\n",
      "Study was terminated due to cardiac toxicities in the subejcts\n",
      "['▁cardiac', '▁toxicities']\n",
      "\n",
      "\n",
      "Study was terminated due to cardiac toxicities in the subjects\n",
      "['▁cardiac', '▁toxicities']\n",
      "\n",
      "\n",
      "Suspended due to lorcaserin recall\n",
      "Suspension due to a safety concern, while risk/benefit is being assessed\"\n",
      "Suspension due to a safety concern, while risk/benefit is being assessed.\"\n"
     ]
    },
    {
     "name": "stderr",
     "output_type": "stream",
     "text": [
      " 68%|███████████████████████████▉             | 144/211 [00:12<00:02, 23.05it/s]"
     ]
    },
    {
     "name": "stdout",
     "output_type": "stream",
     "text": [
      "Terminated (halted prematurely) due to tolerability issues.\n",
      "Terminated by sponsor due to general risk that aranesp caused tumor progression\n",
      "Terminated due to dose limiting toxicity\n",
      "Terminated due to poor enrollment and grade 3 toxicities noted during an interim analysis.\n",
      "['▁grade', '▁3', '▁toxicities']\n",
      "\n",
      "\n",
      "Terminated due to safety concerns\n",
      "Terminated due to safety concerns.\n",
      "Terminated for safety reasons\n"
     ]
    },
    {
     "name": "stderr",
     "output_type": "stream",
     "text": [
      " 72%|█████████████████████████████▎           | 151/211 [00:12<00:02, 23.67it/s]"
     ]
    },
    {
     "name": "stdout",
     "output_type": "stream",
     "text": [
      "Terminated: Test article, Omontys, was recalled from the market; Enrollment has haltedÊ prematurely and will not resume; participants are no longer being treated\n",
      "Termination of study was due to safety reasons\n",
      "The DMC detected an imbalance in safety outcomes between the two groups.\n",
      "The DSMB recommended stopping the study due to safety concerns.\n",
      "The DSMB stopped the trial due to unacceptable side effects in the experimental arm which has Ê not yet been verified\n"
     ]
    },
    {
     "name": "stderr",
     "output_type": "stream",
     "text": [
      " 74%|██████████████████████████████▌          | 157/211 [00:13<00:02, 24.04it/s]"
     ]
    },
    {
     "name": "stdout",
     "output_type": "stream",
     "text": [
      "The European Medical Agency granted a Paediatric Investigational Product-specific waiver on theÊ grounds that idelalisib is likely to be unsafe in paediatrics\n",
      "The decision to terminate this study after 202 mg/m2 cohort was taken as MTD achieved in other study at 185 mg/m2\n",
      "The results of the dose escalation phase did not identify a well-tolerated dose that would Ê permit further study in Phase 2.\n",
      "The risk-benefit ratio for patients has changed since we initiated the study, and that theÊ study in its current form cannot be justified\n",
      "The risk-benefit ratio for the use of onercept in this condition was not sufficiently Ê favorable to justify continued development\n"
     ]
    },
    {
     "name": "stderr",
     "output_type": "stream",
     "text": [
      " 76%|███████████████████████████████          | 160/211 [00:13<00:02, 21.89it/s]"
     ]
    },
    {
     "name": "stdout",
     "output_type": "stream",
     "text": [
      "The safety profile of combination therapy became unacceptable.\n",
      "The stopping rule for incidence of acute rejection was met.\n",
      "The study is prematurely terminated due to a safety issue\n",
      "The study terminated for safety reasons.\n"
     ]
    },
    {
     "name": "stderr",
     "output_type": "stream",
     "text": [
      " 79%|████████████████████████████████▍        | 167/211 [00:13<00:01, 23.42it/s]"
     ]
    },
    {
     "name": "stdout",
     "output_type": "stream",
     "text": [
      "The study was &quot;withdrawn&quot; due to certain adverse events [hypersensitivity].\n",
      "The study was stopped because of safety concerns\n",
      "The study was stopped due to safety concerns\n",
      "The study was terminated based on a recommendation of the DSMB following the identification of two patients with significant elevations in serum transaminases\n",
      "The study was terminated because of Early Treatment Failure in child.The justification for this decision are concerns about safety of children.\n",
      "The study was terminated due to hepatoxicity of compound\n"
     ]
    },
    {
     "name": "stderr",
     "output_type": "stream",
     "text": [
      " 81%|█████████████████████████████████▏       | 171/211 [00:13<00:01, 25.55it/s]"
     ]
    },
    {
     "name": "stdout",
     "output_type": "stream",
     "text": [
      "['▁he', 'pa', 'toxicity']\n",
      "\n",
      "\n",
      "The study was terminated in the interest of patient safety.\n",
      "This study was terminated based on preliminary safety data.\n",
      "This study was terminated on January 6, 2010, due to toxicology findings in animals exposed to Ê PF-04455242 for three months.\n",
      "This trial is being closed based on lack of substantive efficacy, slow accrual and overallÊ tolerance in patients treated to date.\n",
      "To many infants in the experimental group developed hypertriglyceridemia\n",
      "['▁hyper', 'tri', 'glyceride', 'mia']\n",
      "\n",
      "\n",
      "Too frequent grade 3-4 toxicities\n"
     ]
    },
    {
     "name": "stderr",
     "output_type": "stream",
     "text": [
      " 84%|██████████████████████████████████▍      | 177/211 [00:13<00:01, 23.49it/s]"
     ]
    },
    {
     "name": "stdout",
     "output_type": "stream",
     "text": [
      "Toxicity\n",
      "Two patients in the first dose level be counted as reaching DLT. DSMB recommend terminatedÊ early this trial.\n",
      "Unacceptable Neurotoxicity (2 cases)\n",
      "['acceptable', '▁Neuro', 'toxicity']\n",
      "\n",
      "\n",
      "Unacceptable incidence of wound dehiscence in the PDS group\n",
      "Unexpected adverse event\n"
     ]
    },
    {
     "name": "stderr",
     "output_type": "stream",
     "text": [
      " 87%|███████████████████████████████████▌     | 183/211 [00:14<00:01, 22.33it/s]"
     ]
    },
    {
     "name": "stdout",
     "output_type": "stream",
     "text": [
      "Unexpected safety events.\n",
      "Unexpected side-effects: reversible and mild to moderate neurological impairment\n",
      "['▁mild', '▁neurological', '▁impairment']\n",
      "\n",
      "\n",
      "Unrelated serious adverse events involving one of the proposed medications\n",
      "Unsatisfactory filter deployment in several cases\n",
      "Unusual high frequency of elevated liver function tests.\n"
     ]
    },
    {
     "name": "stderr",
     "output_type": "stream",
     "text": [
      " 88%|████████████████████████████████████▏    | 186/211 [00:14<00:01, 21.33it/s]"
     ]
    },
    {
     "name": "stdout",
     "output_type": "stream",
     "text": [
      "['▁elevated', '▁liver', '▁function', '▁tests']\n",
      "\n",
      "\n",
      "When used appear DNE3 toxic properties. The DSMB determined that due to higher than expected Ê risk and safety concerns the study should be closed.\n",
      "Withdrawn due to &quot;toxicity&quot; problems\n",
      "Withdrawn due to an excess of toxic deaths\n",
      "Withdrawn due to drug toxicity\n",
      "Withdrawn due to toxicity\n"
     ]
    },
    {
     "name": "stderr",
     "output_type": "stream",
     "text": [
      " 91%|█████████████████████████████████████▌   | 193/211 [00:14<00:00, 24.76it/s]"
     ]
    },
    {
     "name": "stdout",
     "output_type": "stream",
     "text": [
      "closed due to toxicity\n",
      "drug-related harm\n",
      "due to celecoxib safety issues\n",
      "due to multiple subjects reporting pain and burning at the phlebotomy sites after 38hr\n",
      "due to strong side effect\n",
      "during Period 1 due to numerous orthostatic AEs that occurred. Subsequently, RLD was reduced to 5 mg due to safety concerns.\"\n",
      "enrollment stopped for safety issues\n"
     ]
    },
    {
     "name": "stderr",
     "output_type": "stream",
     "text": [
      " 95%|██████████████████████████████████████▊  | 200/211 [00:14<00:00, 26.65it/s]"
     ]
    },
    {
     "name": "stdout",
     "output_type": "stream",
     "text": [
      "four adverse events encountered\n",
      "higher incidence of pain related sexual dysfunction in the TO arm\n",
      "['▁pain', '▁related', '▁sexual', '▁dysfunction']\n",
      "\n",
      "\n",
      "investigation of adverse events\n",
      "negative outcome\n",
      "post-surgical complications in the last 2 patients\n",
      "potential harm of insulin infusion outweights the benefit.\n",
      "reaching of step 1 (recruitment of 8 patients) per protocol -&gt; risk assessment -&gt; termination because of occurance of toxicity Grade 3 and 4\n"
     ]
    },
    {
     "name": "stderr",
     "output_type": "stream",
     "text": [
      " 98%|████████████████████████████████████████▏| 207/211 [00:15<00:00, 19.84it/s]"
     ]
    },
    {
     "name": "stdout",
     "output_type": "stream",
     "text": [
      "safety concerns regarding use of rosiglitazone\n",
      "safety issues (toxicity)\n",
      "safety reasons\n",
      "side effect profile did not match expectations\n",
      "toxicities required dose reduction compromising effectiveness\n",
      "toxicity\n"
     ]
    },
    {
     "name": "stderr",
     "output_type": "stream",
     "text": [
      "100%|█████████████████████████████████████████| 211/211 [00:15<00:00, 13.57it/s]"
     ]
    },
    {
     "name": "stdout",
     "output_type": "stream",
     "text": [
      "unexpected level of toxicity\n",
      "voluntarily by Sponsor to investigate an anticipated SAE\n"
     ]
    },
    {
     "name": "stderr",
     "output_type": "stream",
     "text": [
      "\n"
     ]
    }
   ],
   "source": [
    "# pipe = pipeline(task=\"token-classification\", model=\"MutazYoune/BiomedBERT-Adverse-Events-NER_pun\", tokenizer=\"MutazYoune/BiomedBERT-Adverse-Events-NER_pun\")\n",
    "pipe = pipeline(task=\"token-classification\", model=\"MutazYoune/Medical-NER-Adverse-Events-NER\", tokenizer=\"MutazYoune/Medical-NER-Adverse-Events-NER\")\n",
    "all_sections = []\n",
    "for x in tqdm(text):\n",
    "    try:\n",
    "        # print(x)\n",
    "        res = pipe(x)\n",
    "        if res:\n",
    "            # print([x['word'] for x in res])\n",
    "            # print('\\n')\n",
    "            section_df = pd.DataFrame(res)\n",
    "            # pprint(section_df)\n",
    "            all_sections.append(section_df)\n",
    "    except:\n",
    "        continue\n",
    "ots_trial_stoppage_aes = pd.concat(all_sections, ignore_index=True)"
   ]
  },
  {
   "cell_type": "code",
   "execution_count": 32,
   "id": "88b27bbf-69bb-4aea-be6f-1c547ff6790c",
   "metadata": {},
   "outputs": [
    {
     "data": {
      "text/html": [
       "<div>\n",
       "<style scoped>\n",
       "    .dataframe tbody tr th:only-of-type {\n",
       "        vertical-align: middle;\n",
       "    }\n",
       "\n",
       "    .dataframe tbody tr th {\n",
       "        vertical-align: top;\n",
       "    }\n",
       "\n",
       "    .dataframe thead th {\n",
       "        text-align: right;\n",
       "    }\n",
       "</style>\n",
       "<table border=\"1\" class=\"dataframe\">\n",
       "  <thead>\n",
       "    <tr style=\"text-align: right;\">\n",
       "      <th></th>\n",
       "      <th>entity</th>\n",
       "      <th>score</th>\n",
       "      <th>index</th>\n",
       "      <th>word</th>\n",
       "      <th>start</th>\n",
       "      <th>end</th>\n",
       "    </tr>\n",
       "  </thead>\n",
       "  <tbody>\n",
       "    <tr>\n",
       "      <th>0</th>\n",
       "      <td>B-AE</td>\n",
       "      <td>0.977275</td>\n",
       "      <td>2</td>\n",
       "      <td>immune</td>\n",
       "      <td>2</td>\n",
       "      <td>8</td>\n",
       "    </tr>\n",
       "    <tr>\n",
       "      <th>1</th>\n",
       "      <td>I-AE</td>\n",
       "      <td>0.981264</td>\n",
       "      <td>3</td>\n",
       "      <td>related</td>\n",
       "      <td>9</td>\n",
       "      <td>16</td>\n",
       "    </tr>\n",
       "    <tr>\n",
       "      <th>2</th>\n",
       "      <td>I-AE</td>\n",
       "      <td>0.986399</td>\n",
       "      <td>4</td>\n",
       "      <td>serious</td>\n",
       "      <td>17</td>\n",
       "      <td>24</td>\n",
       "    </tr>\n",
       "    <tr>\n",
       "      <th>3</th>\n",
       "      <td>I-AE</td>\n",
       "      <td>0.994388</td>\n",
       "      <td>5</td>\n",
       "      <td>adverse</td>\n",
       "      <td>25</td>\n",
       "      <td>32</td>\n",
       "    </tr>\n",
       "    <tr>\n",
       "      <th>4</th>\n",
       "      <td>I-AE</td>\n",
       "      <td>0.994540</td>\n",
       "      <td>6</td>\n",
       "      <td>events</td>\n",
       "      <td>33</td>\n",
       "      <td>39</td>\n",
       "    </tr>\n",
       "    <tr>\n",
       "      <th>...</th>\n",
       "      <td>...</td>\n",
       "      <td>...</td>\n",
       "      <td>...</td>\n",
       "      <td>...</td>\n",
       "      <td>...</td>\n",
       "      <td>...</td>\n",
       "    </tr>\n",
       "    <tr>\n",
       "      <th>129</th>\n",
       "      <td>B-AE</td>\n",
       "      <td>0.833021</td>\n",
       "      <td>4</td>\n",
       "      <td>pain</td>\n",
       "      <td>20</td>\n",
       "      <td>24</td>\n",
       "    </tr>\n",
       "    <tr>\n",
       "      <th>130</th>\n",
       "      <td>I-AE</td>\n",
       "      <td>0.876938</td>\n",
       "      <td>5</td>\n",
       "      <td>related</td>\n",
       "      <td>25</td>\n",
       "      <td>32</td>\n",
       "    </tr>\n",
       "    <tr>\n",
       "      <th>131</th>\n",
       "      <td>I-AE</td>\n",
       "      <td>0.484166</td>\n",
       "      <td>6</td>\n",
       "      <td>sexual</td>\n",
       "      <td>33</td>\n",
       "      <td>39</td>\n",
       "    </tr>\n",
       "    <tr>\n",
       "      <th>132</th>\n",
       "      <td>I-AE</td>\n",
       "      <td>0.989740</td>\n",
       "      <td>7</td>\n",
       "      <td>dysfunction</td>\n",
       "      <td>40</td>\n",
       "      <td>51</td>\n",
       "    </tr>\n",
       "    <tr>\n",
       "      <th>133</th>\n",
       "      <td>I-AE</td>\n",
       "      <td>0.741058</td>\n",
       "      <td>4</td>\n",
       "      <td>toxicity</td>\n",
       "      <td>20</td>\n",
       "      <td>28</td>\n",
       "    </tr>\n",
       "  </tbody>\n",
       "</table>\n",
       "<p>134 rows × 6 columns</p>\n",
       "</div>"
      ],
      "text/plain": [
       "    entity     score  index         word  start  end\n",
       "0     B-AE  0.977275      2       immune      2    8\n",
       "1     I-AE  0.981264      3      related      9   16\n",
       "2     I-AE  0.986399      4      serious     17   24\n",
       "3     I-AE  0.994388      5      adverse     25   32\n",
       "4     I-AE  0.994540      6       events     33   39\n",
       "..     ...       ...    ...          ...    ...  ...\n",
       "129   B-AE  0.833021      4         pain     20   24\n",
       "130   I-AE  0.876938      5      related     25   32\n",
       "131   I-AE  0.484166      6       sexual     33   39\n",
       "132   I-AE  0.989740      7  dysfunction     40   51\n",
       "133   I-AE  0.741058      4     toxicity     20   28\n",
       "\n",
       "[134 rows x 6 columns]"
      ]
     },
     "execution_count": 32,
     "metadata": {},
     "output_type": "execute_result"
    }
   ],
   "source": [
    "pd.set_option('display.max_columns', None)\n",
    "ots_trial_stoppage_aes"
   ]
  },
  {
   "cell_type": "markdown",
   "id": "af9f85b1-aaf9-4b03-8842-ce76c069a3ba",
   "metadata": {},
   "source": [
    "### ADE corpus"
   ]
  },
  {
   "cell_type": "code",
   "execution_count": 49,
   "id": "a26a2101-2fc5-407f-b617-52bde7602b24",
   "metadata": {},
   "outputs": [
    {
     "ename": "ReadTimeout",
     "evalue": "(ReadTimeoutError(\"HTTPSConnectionPool(host='huggingface.co', port=443): Read timed out. (read timeout=None)\"), '(Request ID: 88e37dda-af95-4a31-aa4f-697ac6c0ec69)')",
     "output_type": "error",
     "traceback": [
      "\u001b[0;31m---------------------------------------------------------------------------\u001b[0m",
      "\u001b[0;31mTimeoutError\u001b[0m                              Traceback (most recent call last)",
      "File \u001b[0;32m~/Documents/PythonProjects/trial_to_paper/t2paper/lib/python3.13/site-packages/urllib3/connectionpool.py:534\u001b[0m, in \u001b[0;36mHTTPConnectionPool._make_request\u001b[0;34m(self, conn, method, url, body, headers, retries, timeout, chunked, response_conn, preload_content, decode_content, enforce_content_length)\u001b[0m\n\u001b[1;32m    533\u001b[0m \u001b[38;5;28;01mtry\u001b[39;00m:\n\u001b[0;32m--> 534\u001b[0m     response \u001b[38;5;241m=\u001b[39m \u001b[43mconn\u001b[49m\u001b[38;5;241;43m.\u001b[39;49m\u001b[43mgetresponse\u001b[49m\u001b[43m(\u001b[49m\u001b[43m)\u001b[49m\n\u001b[1;32m    535\u001b[0m \u001b[38;5;28;01mexcept\u001b[39;00m (BaseSSLError, \u001b[38;5;167;01mOSError\u001b[39;00m) \u001b[38;5;28;01mas\u001b[39;00m e:\n",
      "File \u001b[0;32m~/Documents/PythonProjects/trial_to_paper/t2paper/lib/python3.13/site-packages/urllib3/connection.py:516\u001b[0m, in \u001b[0;36mHTTPConnection.getresponse\u001b[0;34m(self)\u001b[0m\n\u001b[1;32m    515\u001b[0m \u001b[38;5;66;03m# Get the response from http.client.HTTPConnection\u001b[39;00m\n\u001b[0;32m--> 516\u001b[0m httplib_response \u001b[38;5;241m=\u001b[39m \u001b[38;5;28;43msuper\u001b[39;49m\u001b[43m(\u001b[49m\u001b[43m)\u001b[49m\u001b[38;5;241;43m.\u001b[39;49m\u001b[43mgetresponse\u001b[49m\u001b[43m(\u001b[49m\u001b[43m)\u001b[49m\n\u001b[1;32m    518\u001b[0m \u001b[38;5;28;01mtry\u001b[39;00m:\n",
      "File \u001b[0;32m/opt/homebrew/Cellar/python@3.13/3.13.1/Frameworks/Python.framework/Versions/3.13/lib/python3.13/http/client.py:1428\u001b[0m, in \u001b[0;36mHTTPConnection.getresponse\u001b[0;34m(self)\u001b[0m\n\u001b[1;32m   1427\u001b[0m \u001b[38;5;28;01mtry\u001b[39;00m:\n\u001b[0;32m-> 1428\u001b[0m     \u001b[43mresponse\u001b[49m\u001b[38;5;241;43m.\u001b[39;49m\u001b[43mbegin\u001b[49m\u001b[43m(\u001b[49m\u001b[43m)\u001b[49m\n\u001b[1;32m   1429\u001b[0m \u001b[38;5;28;01mexcept\u001b[39;00m \u001b[38;5;167;01mConnectionError\u001b[39;00m:\n",
      "File \u001b[0;32m/opt/homebrew/Cellar/python@3.13/3.13.1/Frameworks/Python.framework/Versions/3.13/lib/python3.13/http/client.py:331\u001b[0m, in \u001b[0;36mHTTPResponse.begin\u001b[0;34m(self)\u001b[0m\n\u001b[1;32m    330\u001b[0m \u001b[38;5;28;01mwhile\u001b[39;00m \u001b[38;5;28;01mTrue\u001b[39;00m:\n\u001b[0;32m--> 331\u001b[0m     version, status, reason \u001b[38;5;241m=\u001b[39m \u001b[38;5;28;43mself\u001b[39;49m\u001b[38;5;241;43m.\u001b[39;49m\u001b[43m_read_status\u001b[49m\u001b[43m(\u001b[49m\u001b[43m)\u001b[49m\n\u001b[1;32m    332\u001b[0m     \u001b[38;5;28;01mif\u001b[39;00m status \u001b[38;5;241m!=\u001b[39m CONTINUE:\n",
      "File \u001b[0;32m/opt/homebrew/Cellar/python@3.13/3.13.1/Frameworks/Python.framework/Versions/3.13/lib/python3.13/http/client.py:292\u001b[0m, in \u001b[0;36mHTTPResponse._read_status\u001b[0;34m(self)\u001b[0m\n\u001b[1;32m    291\u001b[0m \u001b[38;5;28;01mdef\u001b[39;00m\u001b[38;5;250m \u001b[39m\u001b[38;5;21m_read_status\u001b[39m(\u001b[38;5;28mself\u001b[39m):\n\u001b[0;32m--> 292\u001b[0m     line \u001b[38;5;241m=\u001b[39m \u001b[38;5;28mstr\u001b[39m(\u001b[38;5;28;43mself\u001b[39;49m\u001b[38;5;241;43m.\u001b[39;49m\u001b[43mfp\u001b[49m\u001b[38;5;241;43m.\u001b[39;49m\u001b[43mreadline\u001b[49m\u001b[43m(\u001b[49m\u001b[43m_MAXLINE\u001b[49m\u001b[43m \u001b[49m\u001b[38;5;241;43m+\u001b[39;49m\u001b[43m \u001b[49m\u001b[38;5;241;43m1\u001b[39;49m\u001b[43m)\u001b[49m, \u001b[38;5;124m\"\u001b[39m\u001b[38;5;124miso-8859-1\u001b[39m\u001b[38;5;124m\"\u001b[39m)\n\u001b[1;32m    293\u001b[0m     \u001b[38;5;28;01mif\u001b[39;00m \u001b[38;5;28mlen\u001b[39m(line) \u001b[38;5;241m>\u001b[39m _MAXLINE:\n",
      "File \u001b[0;32m/opt/homebrew/Cellar/python@3.13/3.13.1/Frameworks/Python.framework/Versions/3.13/lib/python3.13/socket.py:719\u001b[0m, in \u001b[0;36mSocketIO.readinto\u001b[0;34m(self, b)\u001b[0m\n\u001b[1;32m    718\u001b[0m \u001b[38;5;28;01mtry\u001b[39;00m:\n\u001b[0;32m--> 719\u001b[0m     \u001b[38;5;28;01mreturn\u001b[39;00m \u001b[38;5;28;43mself\u001b[39;49m\u001b[38;5;241;43m.\u001b[39;49m\u001b[43m_sock\u001b[49m\u001b[38;5;241;43m.\u001b[39;49m\u001b[43mrecv_into\u001b[49m\u001b[43m(\u001b[49m\u001b[43mb\u001b[49m\u001b[43m)\u001b[49m\n\u001b[1;32m    720\u001b[0m \u001b[38;5;28;01mexcept\u001b[39;00m timeout:\n",
      "File \u001b[0;32m/opt/homebrew/Cellar/python@3.13/3.13.1/Frameworks/Python.framework/Versions/3.13/lib/python3.13/ssl.py:1304\u001b[0m, in \u001b[0;36mSSLSocket.recv_into\u001b[0;34m(self, buffer, nbytes, flags)\u001b[0m\n\u001b[1;32m   1301\u001b[0m         \u001b[38;5;28;01mraise\u001b[39;00m \u001b[38;5;167;01mValueError\u001b[39;00m(\n\u001b[1;32m   1302\u001b[0m           \u001b[38;5;124m\"\u001b[39m\u001b[38;5;124mnon-zero flags not allowed in calls to recv_into() on \u001b[39m\u001b[38;5;132;01m%s\u001b[39;00m\u001b[38;5;124m\"\u001b[39m \u001b[38;5;241m%\u001b[39m\n\u001b[1;32m   1303\u001b[0m           \u001b[38;5;28mself\u001b[39m\u001b[38;5;241m.\u001b[39m\u001b[38;5;18m__class__\u001b[39m)\n\u001b[0;32m-> 1304\u001b[0m     \u001b[38;5;28;01mreturn\u001b[39;00m \u001b[38;5;28;43mself\u001b[39;49m\u001b[38;5;241;43m.\u001b[39;49m\u001b[43mread\u001b[49m\u001b[43m(\u001b[49m\u001b[43mnbytes\u001b[49m\u001b[43m,\u001b[49m\u001b[43m \u001b[49m\u001b[43mbuffer\u001b[49m\u001b[43m)\u001b[49m\n\u001b[1;32m   1305\u001b[0m \u001b[38;5;28;01melse\u001b[39;00m:\n",
      "File \u001b[0;32m/opt/homebrew/Cellar/python@3.13/3.13.1/Frameworks/Python.framework/Versions/3.13/lib/python3.13/ssl.py:1138\u001b[0m, in \u001b[0;36mSSLSocket.read\u001b[0;34m(self, len, buffer)\u001b[0m\n\u001b[1;32m   1137\u001b[0m \u001b[38;5;28;01mif\u001b[39;00m buffer \u001b[38;5;129;01mis\u001b[39;00m \u001b[38;5;129;01mnot\u001b[39;00m \u001b[38;5;28;01mNone\u001b[39;00m:\n\u001b[0;32m-> 1138\u001b[0m     \u001b[38;5;28;01mreturn\u001b[39;00m \u001b[38;5;28;43mself\u001b[39;49m\u001b[38;5;241;43m.\u001b[39;49m\u001b[43m_sslobj\u001b[49m\u001b[38;5;241;43m.\u001b[39;49m\u001b[43mread\u001b[49m\u001b[43m(\u001b[49m\u001b[38;5;28;43mlen\u001b[39;49m\u001b[43m,\u001b[49m\u001b[43m \u001b[49m\u001b[43mbuffer\u001b[49m\u001b[43m)\u001b[49m\n\u001b[1;32m   1139\u001b[0m \u001b[38;5;28;01melse\u001b[39;00m:\n",
      "\u001b[0;31mTimeoutError\u001b[0m: [Errno 60] Operation timed out",
      "\nThe above exception was the direct cause of the following exception:\n",
      "\u001b[0;31mReadTimeoutError\u001b[0m                          Traceback (most recent call last)",
      "File \u001b[0;32m~/Documents/PythonProjects/trial_to_paper/t2paper/lib/python3.13/site-packages/requests/adapters.py:667\u001b[0m, in \u001b[0;36mHTTPAdapter.send\u001b[0;34m(self, request, stream, timeout, verify, cert, proxies)\u001b[0m\n\u001b[1;32m    666\u001b[0m \u001b[38;5;28;01mtry\u001b[39;00m:\n\u001b[0;32m--> 667\u001b[0m     resp \u001b[38;5;241m=\u001b[39m \u001b[43mconn\u001b[49m\u001b[38;5;241;43m.\u001b[39;49m\u001b[43murlopen\u001b[49m\u001b[43m(\u001b[49m\n\u001b[1;32m    668\u001b[0m \u001b[43m        \u001b[49m\u001b[43mmethod\u001b[49m\u001b[38;5;241;43m=\u001b[39;49m\u001b[43mrequest\u001b[49m\u001b[38;5;241;43m.\u001b[39;49m\u001b[43mmethod\u001b[49m\u001b[43m,\u001b[49m\n\u001b[1;32m    669\u001b[0m \u001b[43m        \u001b[49m\u001b[43murl\u001b[49m\u001b[38;5;241;43m=\u001b[39;49m\u001b[43murl\u001b[49m\u001b[43m,\u001b[49m\n\u001b[1;32m    670\u001b[0m \u001b[43m        \u001b[49m\u001b[43mbody\u001b[49m\u001b[38;5;241;43m=\u001b[39;49m\u001b[43mrequest\u001b[49m\u001b[38;5;241;43m.\u001b[39;49m\u001b[43mbody\u001b[49m\u001b[43m,\u001b[49m\n\u001b[1;32m    671\u001b[0m \u001b[43m        \u001b[49m\u001b[43mheaders\u001b[49m\u001b[38;5;241;43m=\u001b[39;49m\u001b[43mrequest\u001b[49m\u001b[38;5;241;43m.\u001b[39;49m\u001b[43mheaders\u001b[49m\u001b[43m,\u001b[49m\n\u001b[1;32m    672\u001b[0m \u001b[43m        \u001b[49m\u001b[43mredirect\u001b[49m\u001b[38;5;241;43m=\u001b[39;49m\u001b[38;5;28;43;01mFalse\u001b[39;49;00m\u001b[43m,\u001b[49m\n\u001b[1;32m    673\u001b[0m \u001b[43m        \u001b[49m\u001b[43massert_same_host\u001b[49m\u001b[38;5;241;43m=\u001b[39;49m\u001b[38;5;28;43;01mFalse\u001b[39;49;00m\u001b[43m,\u001b[49m\n\u001b[1;32m    674\u001b[0m \u001b[43m        \u001b[49m\u001b[43mpreload_content\u001b[49m\u001b[38;5;241;43m=\u001b[39;49m\u001b[38;5;28;43;01mFalse\u001b[39;49;00m\u001b[43m,\u001b[49m\n\u001b[1;32m    675\u001b[0m \u001b[43m        \u001b[49m\u001b[43mdecode_content\u001b[49m\u001b[38;5;241;43m=\u001b[39;49m\u001b[38;5;28;43;01mFalse\u001b[39;49;00m\u001b[43m,\u001b[49m\n\u001b[1;32m    676\u001b[0m \u001b[43m        \u001b[49m\u001b[43mretries\u001b[49m\u001b[38;5;241;43m=\u001b[39;49m\u001b[38;5;28;43mself\u001b[39;49m\u001b[38;5;241;43m.\u001b[39;49m\u001b[43mmax_retries\u001b[49m\u001b[43m,\u001b[49m\n\u001b[1;32m    677\u001b[0m \u001b[43m        \u001b[49m\u001b[43mtimeout\u001b[49m\u001b[38;5;241;43m=\u001b[39;49m\u001b[43mtimeout\u001b[49m\u001b[43m,\u001b[49m\n\u001b[1;32m    678\u001b[0m \u001b[43m        \u001b[49m\u001b[43mchunked\u001b[49m\u001b[38;5;241;43m=\u001b[39;49m\u001b[43mchunked\u001b[49m\u001b[43m,\u001b[49m\n\u001b[1;32m    679\u001b[0m \u001b[43m    \u001b[49m\u001b[43m)\u001b[49m\n\u001b[1;32m    681\u001b[0m \u001b[38;5;28;01mexcept\u001b[39;00m (ProtocolError, \u001b[38;5;167;01mOSError\u001b[39;00m) \u001b[38;5;28;01mas\u001b[39;00m err:\n",
      "File \u001b[0;32m~/Documents/PythonProjects/trial_to_paper/t2paper/lib/python3.13/site-packages/urllib3/connectionpool.py:841\u001b[0m, in \u001b[0;36mHTTPConnectionPool.urlopen\u001b[0;34m(self, method, url, body, headers, retries, redirect, assert_same_host, timeout, pool_timeout, release_conn, chunked, body_pos, preload_content, decode_content, **response_kw)\u001b[0m\n\u001b[1;32m    839\u001b[0m     new_e \u001b[38;5;241m=\u001b[39m ProtocolError(\u001b[38;5;124m\"\u001b[39m\u001b[38;5;124mConnection aborted.\u001b[39m\u001b[38;5;124m\"\u001b[39m, new_e)\n\u001b[0;32m--> 841\u001b[0m retries \u001b[38;5;241m=\u001b[39m \u001b[43mretries\u001b[49m\u001b[38;5;241;43m.\u001b[39;49m\u001b[43mincrement\u001b[49m\u001b[43m(\u001b[49m\n\u001b[1;32m    842\u001b[0m \u001b[43m    \u001b[49m\u001b[43mmethod\u001b[49m\u001b[43m,\u001b[49m\u001b[43m \u001b[49m\u001b[43murl\u001b[49m\u001b[43m,\u001b[49m\u001b[43m \u001b[49m\u001b[43merror\u001b[49m\u001b[38;5;241;43m=\u001b[39;49m\u001b[43mnew_e\u001b[49m\u001b[43m,\u001b[49m\u001b[43m \u001b[49m\u001b[43m_pool\u001b[49m\u001b[38;5;241;43m=\u001b[39;49m\u001b[38;5;28;43mself\u001b[39;49m\u001b[43m,\u001b[49m\u001b[43m \u001b[49m\u001b[43m_stacktrace\u001b[49m\u001b[38;5;241;43m=\u001b[39;49m\u001b[43msys\u001b[49m\u001b[38;5;241;43m.\u001b[39;49m\u001b[43mexc_info\u001b[49m\u001b[43m(\u001b[49m\u001b[43m)\u001b[49m\u001b[43m[\u001b[49m\u001b[38;5;241;43m2\u001b[39;49m\u001b[43m]\u001b[49m\n\u001b[1;32m    843\u001b[0m \u001b[43m\u001b[49m\u001b[43m)\u001b[49m\n\u001b[1;32m    844\u001b[0m retries\u001b[38;5;241m.\u001b[39msleep()\n",
      "File \u001b[0;32m~/Documents/PythonProjects/trial_to_paper/t2paper/lib/python3.13/site-packages/urllib3/util/retry.py:474\u001b[0m, in \u001b[0;36mRetry.increment\u001b[0;34m(self, method, url, response, error, _pool, _stacktrace)\u001b[0m\n\u001b[1;32m    473\u001b[0m \u001b[38;5;28;01mif\u001b[39;00m read \u001b[38;5;129;01mis\u001b[39;00m \u001b[38;5;28;01mFalse\u001b[39;00m \u001b[38;5;129;01mor\u001b[39;00m method \u001b[38;5;129;01mis\u001b[39;00m \u001b[38;5;28;01mNone\u001b[39;00m \u001b[38;5;129;01mor\u001b[39;00m \u001b[38;5;129;01mnot\u001b[39;00m \u001b[38;5;28mself\u001b[39m\u001b[38;5;241m.\u001b[39m_is_method_retryable(method):\n\u001b[0;32m--> 474\u001b[0m     \u001b[38;5;28;01mraise\u001b[39;00m \u001b[43mreraise\u001b[49m\u001b[43m(\u001b[49m\u001b[38;5;28;43mtype\u001b[39;49m\u001b[43m(\u001b[49m\u001b[43merror\u001b[49m\u001b[43m)\u001b[49m\u001b[43m,\u001b[49m\u001b[43m \u001b[49m\u001b[43merror\u001b[49m\u001b[43m,\u001b[49m\u001b[43m \u001b[49m\u001b[43m_stacktrace\u001b[49m\u001b[43m)\u001b[49m\n\u001b[1;32m    475\u001b[0m \u001b[38;5;28;01melif\u001b[39;00m read \u001b[38;5;129;01mis\u001b[39;00m \u001b[38;5;129;01mnot\u001b[39;00m \u001b[38;5;28;01mNone\u001b[39;00m:\n",
      "File \u001b[0;32m~/Documents/PythonProjects/trial_to_paper/t2paper/lib/python3.13/site-packages/urllib3/util/util.py:39\u001b[0m, in \u001b[0;36mreraise\u001b[0;34m(tp, value, tb)\u001b[0m\n\u001b[1;32m     38\u001b[0m         \u001b[38;5;28;01mraise\u001b[39;00m value\u001b[38;5;241m.\u001b[39mwith_traceback(tb)\n\u001b[0;32m---> 39\u001b[0m     \u001b[38;5;28;01mraise\u001b[39;00m value\n\u001b[1;32m     40\u001b[0m \u001b[38;5;28;01mfinally\u001b[39;00m:\n",
      "File \u001b[0;32m~/Documents/PythonProjects/trial_to_paper/t2paper/lib/python3.13/site-packages/urllib3/connectionpool.py:787\u001b[0m, in \u001b[0;36mHTTPConnectionPool.urlopen\u001b[0;34m(self, method, url, body, headers, retries, redirect, assert_same_host, timeout, pool_timeout, release_conn, chunked, body_pos, preload_content, decode_content, **response_kw)\u001b[0m\n\u001b[1;32m    786\u001b[0m \u001b[38;5;66;03m# Make the request on the HTTPConnection object\u001b[39;00m\n\u001b[0;32m--> 787\u001b[0m response \u001b[38;5;241m=\u001b[39m \u001b[38;5;28;43mself\u001b[39;49m\u001b[38;5;241;43m.\u001b[39;49m\u001b[43m_make_request\u001b[49m\u001b[43m(\u001b[49m\n\u001b[1;32m    788\u001b[0m \u001b[43m    \u001b[49m\u001b[43mconn\u001b[49m\u001b[43m,\u001b[49m\n\u001b[1;32m    789\u001b[0m \u001b[43m    \u001b[49m\u001b[43mmethod\u001b[49m\u001b[43m,\u001b[49m\n\u001b[1;32m    790\u001b[0m \u001b[43m    \u001b[49m\u001b[43murl\u001b[49m\u001b[43m,\u001b[49m\n\u001b[1;32m    791\u001b[0m \u001b[43m    \u001b[49m\u001b[43mtimeout\u001b[49m\u001b[38;5;241;43m=\u001b[39;49m\u001b[43mtimeout_obj\u001b[49m\u001b[43m,\u001b[49m\n\u001b[1;32m    792\u001b[0m \u001b[43m    \u001b[49m\u001b[43mbody\u001b[49m\u001b[38;5;241;43m=\u001b[39;49m\u001b[43mbody\u001b[49m\u001b[43m,\u001b[49m\n\u001b[1;32m    793\u001b[0m \u001b[43m    \u001b[49m\u001b[43mheaders\u001b[49m\u001b[38;5;241;43m=\u001b[39;49m\u001b[43mheaders\u001b[49m\u001b[43m,\u001b[49m\n\u001b[1;32m    794\u001b[0m \u001b[43m    \u001b[49m\u001b[43mchunked\u001b[49m\u001b[38;5;241;43m=\u001b[39;49m\u001b[43mchunked\u001b[49m\u001b[43m,\u001b[49m\n\u001b[1;32m    795\u001b[0m \u001b[43m    \u001b[49m\u001b[43mretries\u001b[49m\u001b[38;5;241;43m=\u001b[39;49m\u001b[43mretries\u001b[49m\u001b[43m,\u001b[49m\n\u001b[1;32m    796\u001b[0m \u001b[43m    \u001b[49m\u001b[43mresponse_conn\u001b[49m\u001b[38;5;241;43m=\u001b[39;49m\u001b[43mresponse_conn\u001b[49m\u001b[43m,\u001b[49m\n\u001b[1;32m    797\u001b[0m \u001b[43m    \u001b[49m\u001b[43mpreload_content\u001b[49m\u001b[38;5;241;43m=\u001b[39;49m\u001b[43mpreload_content\u001b[49m\u001b[43m,\u001b[49m\n\u001b[1;32m    798\u001b[0m \u001b[43m    \u001b[49m\u001b[43mdecode_content\u001b[49m\u001b[38;5;241;43m=\u001b[39;49m\u001b[43mdecode_content\u001b[49m\u001b[43m,\u001b[49m\n\u001b[1;32m    799\u001b[0m \u001b[43m    \u001b[49m\u001b[38;5;241;43m*\u001b[39;49m\u001b[38;5;241;43m*\u001b[39;49m\u001b[43mresponse_kw\u001b[49m\u001b[43m,\u001b[49m\n\u001b[1;32m    800\u001b[0m \u001b[43m\u001b[49m\u001b[43m)\u001b[49m\n\u001b[1;32m    802\u001b[0m \u001b[38;5;66;03m# Everything went great!\u001b[39;00m\n",
      "File \u001b[0;32m~/Documents/PythonProjects/trial_to_paper/t2paper/lib/python3.13/site-packages/urllib3/connectionpool.py:536\u001b[0m, in \u001b[0;36mHTTPConnectionPool._make_request\u001b[0;34m(self, conn, method, url, body, headers, retries, timeout, chunked, response_conn, preload_content, decode_content, enforce_content_length)\u001b[0m\n\u001b[1;32m    535\u001b[0m \u001b[38;5;28;01mexcept\u001b[39;00m (BaseSSLError, \u001b[38;5;167;01mOSError\u001b[39;00m) \u001b[38;5;28;01mas\u001b[39;00m e:\n\u001b[0;32m--> 536\u001b[0m     \u001b[38;5;28;43mself\u001b[39;49m\u001b[38;5;241;43m.\u001b[39;49m\u001b[43m_raise_timeout\u001b[49m\u001b[43m(\u001b[49m\u001b[43merr\u001b[49m\u001b[38;5;241;43m=\u001b[39;49m\u001b[43me\u001b[49m\u001b[43m,\u001b[49m\u001b[43m \u001b[49m\u001b[43murl\u001b[49m\u001b[38;5;241;43m=\u001b[39;49m\u001b[43murl\u001b[49m\u001b[43m,\u001b[49m\u001b[43m \u001b[49m\u001b[43mtimeout_value\u001b[49m\u001b[38;5;241;43m=\u001b[39;49m\u001b[43mread_timeout\u001b[49m\u001b[43m)\u001b[49m\n\u001b[1;32m    537\u001b[0m     \u001b[38;5;28;01mraise\u001b[39;00m\n",
      "File \u001b[0;32m~/Documents/PythonProjects/trial_to_paper/t2paper/lib/python3.13/site-packages/urllib3/connectionpool.py:367\u001b[0m, in \u001b[0;36mHTTPConnectionPool._raise_timeout\u001b[0;34m(self, err, url, timeout_value)\u001b[0m\n\u001b[1;32m    366\u001b[0m \u001b[38;5;28;01mif\u001b[39;00m \u001b[38;5;28misinstance\u001b[39m(err, SocketTimeout):\n\u001b[0;32m--> 367\u001b[0m     \u001b[38;5;28;01mraise\u001b[39;00m ReadTimeoutError(\n\u001b[1;32m    368\u001b[0m         \u001b[38;5;28mself\u001b[39m, url, \u001b[38;5;124mf\u001b[39m\u001b[38;5;124m\"\u001b[39m\u001b[38;5;124mRead timed out. (read timeout=\u001b[39m\u001b[38;5;132;01m{\u001b[39;00mtimeout_value\u001b[38;5;132;01m}\u001b[39;00m\u001b[38;5;124m)\u001b[39m\u001b[38;5;124m\"\u001b[39m\n\u001b[1;32m    369\u001b[0m     ) \u001b[38;5;28;01mfrom\u001b[39;00m\u001b[38;5;250m \u001b[39m\u001b[38;5;21;01merr\u001b[39;00m\n\u001b[1;32m    371\u001b[0m \u001b[38;5;66;03m# See the above comment about EAGAIN in Python 3.\u001b[39;00m\n",
      "\u001b[0;31mReadTimeoutError\u001b[0m: HTTPSConnectionPool(host='huggingface.co', port=443): Read timed out. (read timeout=None)",
      "\nDuring handling of the above exception, another exception occurred:\n",
      "\u001b[0;31mReadTimeout\u001b[0m                               Traceback (most recent call last)",
      "Cell \u001b[0;32mIn[49], line 1\u001b[0m\n\u001b[0;32m----> 1\u001b[0m df \u001b[38;5;241m=\u001b[39m \u001b[43mpd\u001b[49m\u001b[38;5;241;43m.\u001b[39;49m\u001b[43mread_parquet\u001b[49m\u001b[43m(\u001b[49m\u001b[38;5;124;43m\"\u001b[39;49m\u001b[38;5;124;43mhf://datasets/ade-benchmark-corpus/ade_corpus_v2/Ade_corpus_v2_drug_ade_relation/train-00000-of-00001.parquet\u001b[39;49m\u001b[38;5;124;43m\"\u001b[39;49m\u001b[43m)\u001b[49m\n\u001b[1;32m      2\u001b[0m text \u001b[38;5;241m=\u001b[39m \u001b[38;5;28mlist\u001b[39m(df[\u001b[38;5;124m\"\u001b[39m\u001b[38;5;124mtext\u001b[39m\u001b[38;5;124m\"\u001b[39m])\n\u001b[1;32m      4\u001b[0m \u001b[38;5;66;03m# pipe = pipeline(task=\"token-classification\", model=\"MutazYoune/BiomedBERT-Adverse-Events-NER_pun\", tokenizer=\"MutazYoune/BiomedBERT-Adverse-Events-NER_pun\")\u001b[39;00m\n",
      "File \u001b[0;32m~/Documents/PythonProjects/trial_to_paper/t2paper/lib/python3.13/site-packages/pandas/io/parquet.py:667\u001b[0m, in \u001b[0;36mread_parquet\u001b[0;34m(path, engine, columns, storage_options, use_nullable_dtypes, dtype_backend, filesystem, filters, **kwargs)\u001b[0m\n\u001b[1;32m    664\u001b[0m     use_nullable_dtypes \u001b[38;5;241m=\u001b[39m \u001b[38;5;28;01mFalse\u001b[39;00m\n\u001b[1;32m    665\u001b[0m check_dtype_backend(dtype_backend)\n\u001b[0;32m--> 667\u001b[0m \u001b[38;5;28;01mreturn\u001b[39;00m \u001b[43mimpl\u001b[49m\u001b[38;5;241;43m.\u001b[39;49m\u001b[43mread\u001b[49m\u001b[43m(\u001b[49m\n\u001b[1;32m    668\u001b[0m \u001b[43m    \u001b[49m\u001b[43mpath\u001b[49m\u001b[43m,\u001b[49m\n\u001b[1;32m    669\u001b[0m \u001b[43m    \u001b[49m\u001b[43mcolumns\u001b[49m\u001b[38;5;241;43m=\u001b[39;49m\u001b[43mcolumns\u001b[49m\u001b[43m,\u001b[49m\n\u001b[1;32m    670\u001b[0m \u001b[43m    \u001b[49m\u001b[43mfilters\u001b[49m\u001b[38;5;241;43m=\u001b[39;49m\u001b[43mfilters\u001b[49m\u001b[43m,\u001b[49m\n\u001b[1;32m    671\u001b[0m \u001b[43m    \u001b[49m\u001b[43mstorage_options\u001b[49m\u001b[38;5;241;43m=\u001b[39;49m\u001b[43mstorage_options\u001b[49m\u001b[43m,\u001b[49m\n\u001b[1;32m    672\u001b[0m \u001b[43m    \u001b[49m\u001b[43muse_nullable_dtypes\u001b[49m\u001b[38;5;241;43m=\u001b[39;49m\u001b[43muse_nullable_dtypes\u001b[49m\u001b[43m,\u001b[49m\n\u001b[1;32m    673\u001b[0m \u001b[43m    \u001b[49m\u001b[43mdtype_backend\u001b[49m\u001b[38;5;241;43m=\u001b[39;49m\u001b[43mdtype_backend\u001b[49m\u001b[43m,\u001b[49m\n\u001b[1;32m    674\u001b[0m \u001b[43m    \u001b[49m\u001b[43mfilesystem\u001b[49m\u001b[38;5;241;43m=\u001b[39;49m\u001b[43mfilesystem\u001b[49m\u001b[43m,\u001b[49m\n\u001b[1;32m    675\u001b[0m \u001b[43m    \u001b[49m\u001b[38;5;241;43m*\u001b[39;49m\u001b[38;5;241;43m*\u001b[39;49m\u001b[43mkwargs\u001b[49m\u001b[43m,\u001b[49m\n\u001b[1;32m    676\u001b[0m \u001b[43m\u001b[49m\u001b[43m)\u001b[49m\n",
      "File \u001b[0;32m~/Documents/PythonProjects/trial_to_paper/t2paper/lib/python3.13/site-packages/pandas/io/parquet.py:274\u001b[0m, in \u001b[0;36mPyArrowImpl.read\u001b[0;34m(self, path, columns, filters, use_nullable_dtypes, dtype_backend, storage_options, filesystem, **kwargs)\u001b[0m\n\u001b[1;32m    267\u001b[0m path_or_handle, handles, filesystem \u001b[38;5;241m=\u001b[39m _get_path_or_handle(\n\u001b[1;32m    268\u001b[0m     path,\n\u001b[1;32m    269\u001b[0m     filesystem,\n\u001b[1;32m    270\u001b[0m     storage_options\u001b[38;5;241m=\u001b[39mstorage_options,\n\u001b[1;32m    271\u001b[0m     mode\u001b[38;5;241m=\u001b[39m\u001b[38;5;124m\"\u001b[39m\u001b[38;5;124mrb\u001b[39m\u001b[38;5;124m\"\u001b[39m,\n\u001b[1;32m    272\u001b[0m )\n\u001b[1;32m    273\u001b[0m \u001b[38;5;28;01mtry\u001b[39;00m:\n\u001b[0;32m--> 274\u001b[0m     pa_table \u001b[38;5;241m=\u001b[39m \u001b[38;5;28;43mself\u001b[39;49m\u001b[38;5;241;43m.\u001b[39;49m\u001b[43mapi\u001b[49m\u001b[38;5;241;43m.\u001b[39;49m\u001b[43mparquet\u001b[49m\u001b[38;5;241;43m.\u001b[39;49m\u001b[43mread_table\u001b[49m\u001b[43m(\u001b[49m\n\u001b[1;32m    275\u001b[0m \u001b[43m        \u001b[49m\u001b[43mpath_or_handle\u001b[49m\u001b[43m,\u001b[49m\n\u001b[1;32m    276\u001b[0m \u001b[43m        \u001b[49m\u001b[43mcolumns\u001b[49m\u001b[38;5;241;43m=\u001b[39;49m\u001b[43mcolumns\u001b[49m\u001b[43m,\u001b[49m\n\u001b[1;32m    277\u001b[0m \u001b[43m        \u001b[49m\u001b[43mfilesystem\u001b[49m\u001b[38;5;241;43m=\u001b[39;49m\u001b[43mfilesystem\u001b[49m\u001b[43m,\u001b[49m\n\u001b[1;32m    278\u001b[0m \u001b[43m        \u001b[49m\u001b[43mfilters\u001b[49m\u001b[38;5;241;43m=\u001b[39;49m\u001b[43mfilters\u001b[49m\u001b[43m,\u001b[49m\n\u001b[1;32m    279\u001b[0m \u001b[43m        \u001b[49m\u001b[38;5;241;43m*\u001b[39;49m\u001b[38;5;241;43m*\u001b[39;49m\u001b[43mkwargs\u001b[49m\u001b[43m,\u001b[49m\n\u001b[1;32m    280\u001b[0m \u001b[43m    \u001b[49m\u001b[43m)\u001b[49m\n\u001b[1;32m    281\u001b[0m     result \u001b[38;5;241m=\u001b[39m pa_table\u001b[38;5;241m.\u001b[39mto_pandas(\u001b[38;5;241m*\u001b[39m\u001b[38;5;241m*\u001b[39mto_pandas_kwargs)\n\u001b[1;32m    283\u001b[0m     \u001b[38;5;28;01mif\u001b[39;00m manager \u001b[38;5;241m==\u001b[39m \u001b[38;5;124m\"\u001b[39m\u001b[38;5;124marray\u001b[39m\u001b[38;5;124m\"\u001b[39m:\n",
      "File \u001b[0;32m~/Documents/PythonProjects/trial_to_paper/t2paper/lib/python3.13/site-packages/pyarrow/parquet/core.py:1793\u001b[0m, in \u001b[0;36mread_table\u001b[0;34m(source, columns, use_threads, schema, use_pandas_metadata, read_dictionary, memory_map, buffer_size, partitioning, filesystem, filters, use_legacy_dataset, ignore_prefixes, pre_buffer, coerce_int96_timestamp_unit, decryption_properties, thrift_string_size_limit, thrift_container_size_limit, page_checksum_verification)\u001b[0m\n\u001b[1;32m   1787\u001b[0m     warnings\u001b[38;5;241m.\u001b[39mwarn(\n\u001b[1;32m   1788\u001b[0m         \u001b[38;5;124m\"\u001b[39m\u001b[38;5;124mPassing \u001b[39m\u001b[38;5;124m'\u001b[39m\u001b[38;5;124muse_legacy_dataset\u001b[39m\u001b[38;5;124m'\u001b[39m\u001b[38;5;124m is deprecated as of pyarrow 15.0.0 \u001b[39m\u001b[38;5;124m\"\u001b[39m\n\u001b[1;32m   1789\u001b[0m         \u001b[38;5;124m\"\u001b[39m\u001b[38;5;124mand will be removed in a future version.\u001b[39m\u001b[38;5;124m\"\u001b[39m,\n\u001b[1;32m   1790\u001b[0m         \u001b[38;5;167;01mFutureWarning\u001b[39;00m, stacklevel\u001b[38;5;241m=\u001b[39m\u001b[38;5;241m2\u001b[39m)\n\u001b[1;32m   1792\u001b[0m \u001b[38;5;28;01mtry\u001b[39;00m:\n\u001b[0;32m-> 1793\u001b[0m     dataset \u001b[38;5;241m=\u001b[39m \u001b[43mParquetDataset\u001b[49m\u001b[43m(\u001b[49m\n\u001b[1;32m   1794\u001b[0m \u001b[43m        \u001b[49m\u001b[43msource\u001b[49m\u001b[43m,\u001b[49m\n\u001b[1;32m   1795\u001b[0m \u001b[43m        \u001b[49m\u001b[43mschema\u001b[49m\u001b[38;5;241;43m=\u001b[39;49m\u001b[43mschema\u001b[49m\u001b[43m,\u001b[49m\n\u001b[1;32m   1796\u001b[0m \u001b[43m        \u001b[49m\u001b[43mfilesystem\u001b[49m\u001b[38;5;241;43m=\u001b[39;49m\u001b[43mfilesystem\u001b[49m\u001b[43m,\u001b[49m\n\u001b[1;32m   1797\u001b[0m \u001b[43m        \u001b[49m\u001b[43mpartitioning\u001b[49m\u001b[38;5;241;43m=\u001b[39;49m\u001b[43mpartitioning\u001b[49m\u001b[43m,\u001b[49m\n\u001b[1;32m   1798\u001b[0m \u001b[43m        \u001b[49m\u001b[43mmemory_map\u001b[49m\u001b[38;5;241;43m=\u001b[39;49m\u001b[43mmemory_map\u001b[49m\u001b[43m,\u001b[49m\n\u001b[1;32m   1799\u001b[0m \u001b[43m        \u001b[49m\u001b[43mread_dictionary\u001b[49m\u001b[38;5;241;43m=\u001b[39;49m\u001b[43mread_dictionary\u001b[49m\u001b[43m,\u001b[49m\n\u001b[1;32m   1800\u001b[0m \u001b[43m        \u001b[49m\u001b[43mbuffer_size\u001b[49m\u001b[38;5;241;43m=\u001b[39;49m\u001b[43mbuffer_size\u001b[49m\u001b[43m,\u001b[49m\n\u001b[1;32m   1801\u001b[0m \u001b[43m        \u001b[49m\u001b[43mfilters\u001b[49m\u001b[38;5;241;43m=\u001b[39;49m\u001b[43mfilters\u001b[49m\u001b[43m,\u001b[49m\n\u001b[1;32m   1802\u001b[0m \u001b[43m        \u001b[49m\u001b[43mignore_prefixes\u001b[49m\u001b[38;5;241;43m=\u001b[39;49m\u001b[43mignore_prefixes\u001b[49m\u001b[43m,\u001b[49m\n\u001b[1;32m   1803\u001b[0m \u001b[43m        \u001b[49m\u001b[43mpre_buffer\u001b[49m\u001b[38;5;241;43m=\u001b[39;49m\u001b[43mpre_buffer\u001b[49m\u001b[43m,\u001b[49m\n\u001b[1;32m   1804\u001b[0m \u001b[43m        \u001b[49m\u001b[43mcoerce_int96_timestamp_unit\u001b[49m\u001b[38;5;241;43m=\u001b[39;49m\u001b[43mcoerce_int96_timestamp_unit\u001b[49m\u001b[43m,\u001b[49m\n\u001b[1;32m   1805\u001b[0m \u001b[43m        \u001b[49m\u001b[43mdecryption_properties\u001b[49m\u001b[38;5;241;43m=\u001b[39;49m\u001b[43mdecryption_properties\u001b[49m\u001b[43m,\u001b[49m\n\u001b[1;32m   1806\u001b[0m \u001b[43m        \u001b[49m\u001b[43mthrift_string_size_limit\u001b[49m\u001b[38;5;241;43m=\u001b[39;49m\u001b[43mthrift_string_size_limit\u001b[49m\u001b[43m,\u001b[49m\n\u001b[1;32m   1807\u001b[0m \u001b[43m        \u001b[49m\u001b[43mthrift_container_size_limit\u001b[49m\u001b[38;5;241;43m=\u001b[39;49m\u001b[43mthrift_container_size_limit\u001b[49m\u001b[43m,\u001b[49m\n\u001b[1;32m   1808\u001b[0m \u001b[43m        \u001b[49m\u001b[43mpage_checksum_verification\u001b[49m\u001b[38;5;241;43m=\u001b[39;49m\u001b[43mpage_checksum_verification\u001b[49m\u001b[43m,\u001b[49m\n\u001b[1;32m   1809\u001b[0m \u001b[43m    \u001b[49m\u001b[43m)\u001b[49m\n\u001b[1;32m   1810\u001b[0m \u001b[38;5;28;01mexcept\u001b[39;00m \u001b[38;5;167;01mImportError\u001b[39;00m:\n\u001b[1;32m   1811\u001b[0m     \u001b[38;5;66;03m# fall back on ParquetFile for simple cases when pyarrow.dataset\u001b[39;00m\n\u001b[1;32m   1812\u001b[0m     \u001b[38;5;66;03m# module is not available\u001b[39;00m\n\u001b[1;32m   1813\u001b[0m     \u001b[38;5;28;01mif\u001b[39;00m filters \u001b[38;5;129;01mis\u001b[39;00m \u001b[38;5;129;01mnot\u001b[39;00m \u001b[38;5;28;01mNone\u001b[39;00m:\n",
      "File \u001b[0;32m~/Documents/PythonProjects/trial_to_paper/t2paper/lib/python3.13/site-packages/pyarrow/parquet/core.py:1348\u001b[0m, in \u001b[0;36mParquetDataset.__init__\u001b[0;34m(self, path_or_paths, filesystem, schema, filters, read_dictionary, memory_map, buffer_size, partitioning, ignore_prefixes, pre_buffer, coerce_int96_timestamp_unit, decryption_properties, thrift_string_size_limit, thrift_container_size_limit, page_checksum_verification, use_legacy_dataset)\u001b[0m\n\u001b[1;32m   1346\u001b[0m     \u001b[38;5;28;01mexcept\u001b[39;00m \u001b[38;5;167;01mValueError\u001b[39;00m:\n\u001b[1;32m   1347\u001b[0m         filesystem \u001b[38;5;241m=\u001b[39m LocalFileSystem(use_mmap\u001b[38;5;241m=\u001b[39mmemory_map)\n\u001b[0;32m-> 1348\u001b[0m finfo \u001b[38;5;241m=\u001b[39m \u001b[43mfilesystem\u001b[49m\u001b[38;5;241;43m.\u001b[39;49m\u001b[43mget_file_info\u001b[49m\u001b[43m(\u001b[49m\u001b[43mpath_or_paths\u001b[49m\u001b[43m)\u001b[49m\n\u001b[1;32m   1349\u001b[0m \u001b[38;5;28;01mif\u001b[39;00m finfo\u001b[38;5;241m.\u001b[39mtype \u001b[38;5;241m==\u001b[39m FileType\u001b[38;5;241m.\u001b[39mDirectory:\n\u001b[1;32m   1350\u001b[0m     \u001b[38;5;28mself\u001b[39m\u001b[38;5;241m.\u001b[39m_base_dir \u001b[38;5;241m=\u001b[39m path_or_paths\n",
      "File \u001b[0;32m~/Documents/PythonProjects/trial_to_paper/t2paper/lib/python3.13/site-packages/pyarrow/_fs.pyx:590\u001b[0m, in \u001b[0;36mpyarrow._fs.FileSystem.get_file_info\u001b[0;34m()\u001b[0m\n",
      "File \u001b[0;32m~/Documents/PythonProjects/trial_to_paper/t2paper/lib/python3.13/site-packages/pyarrow/error.pxi:155\u001b[0m, in \u001b[0;36mpyarrow.lib.pyarrow_internal_check_status\u001b[0;34m()\u001b[0m\n",
      "File \u001b[0;32m~/Documents/PythonProjects/trial_to_paper/t2paper/lib/python3.13/site-packages/pyarrow/error.pxi:89\u001b[0m, in \u001b[0;36mpyarrow.lib.check_status\u001b[0;34m()\u001b[0m\n",
      "File \u001b[0;32m~/Documents/PythonProjects/trial_to_paper/t2paper/lib/python3.13/site-packages/pyarrow/_fs.pyx:1498\u001b[0m, in \u001b[0;36mpyarrow._fs._cb_get_file_info\u001b[0;34m()\u001b[0m\n",
      "File \u001b[0;32m~/Documents/PythonProjects/trial_to_paper/t2paper/lib/python3.13/site-packages/pyarrow/fs.py:322\u001b[0m, in \u001b[0;36mFSSpecHandler.get_file_info\u001b[0;34m(self, paths)\u001b[0m\n\u001b[1;32m    320\u001b[0m \u001b[38;5;28;01mfor\u001b[39;00m path \u001b[38;5;129;01min\u001b[39;00m paths:\n\u001b[1;32m    321\u001b[0m     \u001b[38;5;28;01mtry\u001b[39;00m:\n\u001b[0;32m--> 322\u001b[0m         info \u001b[38;5;241m=\u001b[39m \u001b[38;5;28;43mself\u001b[39;49m\u001b[38;5;241;43m.\u001b[39;49m\u001b[43mfs\u001b[49m\u001b[38;5;241;43m.\u001b[39;49m\u001b[43minfo\u001b[49m\u001b[43m(\u001b[49m\u001b[43mpath\u001b[49m\u001b[43m)\u001b[49m\n\u001b[1;32m    323\u001b[0m     \u001b[38;5;28;01mexcept\u001b[39;00m \u001b[38;5;167;01mFileNotFoundError\u001b[39;00m:\n\u001b[1;32m    324\u001b[0m         infos\u001b[38;5;241m.\u001b[39mappend(FileInfo(path, FileType\u001b[38;5;241m.\u001b[39mNotFound))\n",
      "File \u001b[0;32m~/Documents/PythonProjects/trial_to_paper/t2paper/lib/python3.13/site-packages/huggingface_hub/hf_file_system.py:719\u001b[0m, in \u001b[0;36mHfFileSystem.info\u001b[0;34m(self, path, refresh, revision, **kwargs)\u001b[0m\n\u001b[1;32m    717\u001b[0m     out \u001b[38;5;241m=\u001b[39m out1[\u001b[38;5;241m0\u001b[39m]\n\u001b[1;32m    718\u001b[0m \u001b[38;5;28;01mif\u001b[39;00m refresh \u001b[38;5;129;01mor\u001b[39;00m out \u001b[38;5;129;01mis\u001b[39;00m \u001b[38;5;28;01mNone\u001b[39;00m \u001b[38;5;129;01mor\u001b[39;00m (expand_info \u001b[38;5;129;01mand\u001b[39;00m out \u001b[38;5;129;01mand\u001b[39;00m out[\u001b[38;5;124m\"\u001b[39m\u001b[38;5;124mlast_commit\u001b[39m\u001b[38;5;124m\"\u001b[39m] \u001b[38;5;129;01mis\u001b[39;00m \u001b[38;5;28;01mNone\u001b[39;00m):\n\u001b[0;32m--> 719\u001b[0m     paths_info \u001b[38;5;241m=\u001b[39m \u001b[38;5;28;43mself\u001b[39;49m\u001b[38;5;241;43m.\u001b[39;49m\u001b[43m_api\u001b[49m\u001b[38;5;241;43m.\u001b[39;49m\u001b[43mget_paths_info\u001b[49m\u001b[43m(\u001b[49m\n\u001b[1;32m    720\u001b[0m \u001b[43m        \u001b[49m\u001b[43mresolved_path\u001b[49m\u001b[38;5;241;43m.\u001b[39;49m\u001b[43mrepo_id\u001b[49m\u001b[43m,\u001b[49m\n\u001b[1;32m    721\u001b[0m \u001b[43m        \u001b[49m\u001b[43mresolved_path\u001b[49m\u001b[38;5;241;43m.\u001b[39;49m\u001b[43mpath_in_repo\u001b[49m\u001b[43m,\u001b[49m\n\u001b[1;32m    722\u001b[0m \u001b[43m        \u001b[49m\u001b[43mexpand\u001b[49m\u001b[38;5;241;43m=\u001b[39;49m\u001b[43mexpand_info\u001b[49m\u001b[43m,\u001b[49m\n\u001b[1;32m    723\u001b[0m \u001b[43m        \u001b[49m\u001b[43mrevision\u001b[49m\u001b[38;5;241;43m=\u001b[39;49m\u001b[43mresolved_path\u001b[49m\u001b[38;5;241;43m.\u001b[39;49m\u001b[43mrevision\u001b[49m\u001b[43m,\u001b[49m\n\u001b[1;32m    724\u001b[0m \u001b[43m        \u001b[49m\u001b[43mrepo_type\u001b[49m\u001b[38;5;241;43m=\u001b[39;49m\u001b[43mresolved_path\u001b[49m\u001b[38;5;241;43m.\u001b[39;49m\u001b[43mrepo_type\u001b[49m\u001b[43m,\u001b[49m\n\u001b[1;32m    725\u001b[0m \u001b[43m    \u001b[49m\u001b[43m)\u001b[49m\n\u001b[1;32m    726\u001b[0m     \u001b[38;5;28;01mif\u001b[39;00m \u001b[38;5;129;01mnot\u001b[39;00m paths_info:\n\u001b[1;32m    727\u001b[0m         _raise_file_not_found(path, \u001b[38;5;28;01mNone\u001b[39;00m)\n",
      "File \u001b[0;32m~/Documents/PythonProjects/trial_to_paper/t2paper/lib/python3.13/site-packages/huggingface_hub/utils/_validators.py:114\u001b[0m, in \u001b[0;36mvalidate_hf_hub_args.<locals>._inner_fn\u001b[0;34m(*args, **kwargs)\u001b[0m\n\u001b[1;32m    111\u001b[0m \u001b[38;5;28;01mif\u001b[39;00m check_use_auth_token:\n\u001b[1;32m    112\u001b[0m     kwargs \u001b[38;5;241m=\u001b[39m smoothly_deprecate_use_auth_token(fn_name\u001b[38;5;241m=\u001b[39mfn\u001b[38;5;241m.\u001b[39m\u001b[38;5;18m__name__\u001b[39m, has_token\u001b[38;5;241m=\u001b[39mhas_token, kwargs\u001b[38;5;241m=\u001b[39mkwargs)\n\u001b[0;32m--> 114\u001b[0m \u001b[38;5;28;01mreturn\u001b[39;00m \u001b[43mfn\u001b[49m\u001b[43m(\u001b[49m\u001b[38;5;241;43m*\u001b[39;49m\u001b[43margs\u001b[49m\u001b[43m,\u001b[49m\u001b[43m \u001b[49m\u001b[38;5;241;43m*\u001b[39;49m\u001b[38;5;241;43m*\u001b[39;49m\u001b[43mkwargs\u001b[49m\u001b[43m)\u001b[49m\n",
      "File \u001b[0;32m~/Documents/PythonProjects/trial_to_paper/t2paper/lib/python3.13/site-packages/huggingface_hub/hf_api.py:3295\u001b[0m, in \u001b[0;36mHfApi.get_paths_info\u001b[0;34m(self, repo_id, paths, expand, revision, repo_type, token)\u001b[0m\n\u001b[1;32m   3292\u001b[0m revision \u001b[38;5;241m=\u001b[39m quote(revision, safe\u001b[38;5;241m=\u001b[39m\u001b[38;5;124m\"\u001b[39m\u001b[38;5;124m\"\u001b[39m) \u001b[38;5;28;01mif\u001b[39;00m revision \u001b[38;5;129;01mis\u001b[39;00m \u001b[38;5;129;01mnot\u001b[39;00m \u001b[38;5;28;01mNone\u001b[39;00m \u001b[38;5;28;01melse\u001b[39;00m constants\u001b[38;5;241m.\u001b[39mDEFAULT_REVISION\n\u001b[1;32m   3293\u001b[0m headers \u001b[38;5;241m=\u001b[39m \u001b[38;5;28mself\u001b[39m\u001b[38;5;241m.\u001b[39m_build_hf_headers(token\u001b[38;5;241m=\u001b[39mtoken)\n\u001b[0;32m-> 3295\u001b[0m response \u001b[38;5;241m=\u001b[39m \u001b[43mget_session\u001b[49m\u001b[43m(\u001b[49m\u001b[43m)\u001b[49m\u001b[38;5;241;43m.\u001b[39;49m\u001b[43mpost\u001b[49m\u001b[43m(\u001b[49m\n\u001b[1;32m   3296\u001b[0m \u001b[43m    \u001b[49m\u001b[38;5;124;43mf\u001b[39;49m\u001b[38;5;124;43m\"\u001b[39;49m\u001b[38;5;132;43;01m{\u001b[39;49;00m\u001b[38;5;28;43mself\u001b[39;49m\u001b[38;5;241;43m.\u001b[39;49m\u001b[43mendpoint\u001b[49m\u001b[38;5;132;43;01m}\u001b[39;49;00m\u001b[38;5;124;43m/api/\u001b[39;49m\u001b[38;5;132;43;01m{\u001b[39;49;00m\u001b[43mrepo_type\u001b[49m\u001b[38;5;132;43;01m}\u001b[39;49;00m\u001b[38;5;124;43ms/\u001b[39;49m\u001b[38;5;132;43;01m{\u001b[39;49;00m\u001b[43mrepo_id\u001b[49m\u001b[38;5;132;43;01m}\u001b[39;49;00m\u001b[38;5;124;43m/paths-info/\u001b[39;49m\u001b[38;5;132;43;01m{\u001b[39;49;00m\u001b[43mrevision\u001b[49m\u001b[38;5;132;43;01m}\u001b[39;49;00m\u001b[38;5;124;43m\"\u001b[39;49m\u001b[43m,\u001b[49m\n\u001b[1;32m   3297\u001b[0m \u001b[43m    \u001b[49m\u001b[43mdata\u001b[49m\u001b[38;5;241;43m=\u001b[39;49m\u001b[43m{\u001b[49m\n\u001b[1;32m   3298\u001b[0m \u001b[43m        \u001b[49m\u001b[38;5;124;43m\"\u001b[39;49m\u001b[38;5;124;43mpaths\u001b[39;49m\u001b[38;5;124;43m\"\u001b[39;49m\u001b[43m:\u001b[49m\u001b[43m \u001b[49m\u001b[43mpaths\u001b[49m\u001b[43m \u001b[49m\u001b[38;5;28;43;01mif\u001b[39;49;00m\u001b[43m \u001b[49m\u001b[38;5;28;43misinstance\u001b[39;49m\u001b[43m(\u001b[49m\u001b[43mpaths\u001b[49m\u001b[43m,\u001b[49m\u001b[43m \u001b[49m\u001b[38;5;28;43mlist\u001b[39;49m\u001b[43m)\u001b[49m\u001b[43m \u001b[49m\u001b[38;5;28;43;01melse\u001b[39;49;00m\u001b[43m \u001b[49m\u001b[43m[\u001b[49m\u001b[43mpaths\u001b[49m\u001b[43m]\u001b[49m\u001b[43m,\u001b[49m\n\u001b[1;32m   3299\u001b[0m \u001b[43m        \u001b[49m\u001b[38;5;124;43m\"\u001b[39;49m\u001b[38;5;124;43mexpand\u001b[39;49m\u001b[38;5;124;43m\"\u001b[39;49m\u001b[43m:\u001b[49m\u001b[43m \u001b[49m\u001b[43mexpand\u001b[49m\u001b[43m,\u001b[49m\n\u001b[1;32m   3300\u001b[0m \u001b[43m    \u001b[49m\u001b[43m}\u001b[49m\u001b[43m,\u001b[49m\n\u001b[1;32m   3301\u001b[0m \u001b[43m    \u001b[49m\u001b[43mheaders\u001b[49m\u001b[38;5;241;43m=\u001b[39;49m\u001b[43mheaders\u001b[49m\u001b[43m,\u001b[49m\n\u001b[1;32m   3302\u001b[0m \u001b[43m\u001b[49m\u001b[43m)\u001b[49m\n\u001b[1;32m   3303\u001b[0m hf_raise_for_status(response)\n\u001b[1;32m   3304\u001b[0m paths_info \u001b[38;5;241m=\u001b[39m response\u001b[38;5;241m.\u001b[39mjson()\n",
      "File \u001b[0;32m~/Documents/PythonProjects/trial_to_paper/t2paper/lib/python3.13/site-packages/requests/sessions.py:637\u001b[0m, in \u001b[0;36mSession.post\u001b[0;34m(self, url, data, json, **kwargs)\u001b[0m\n\u001b[1;32m    626\u001b[0m \u001b[38;5;28;01mdef\u001b[39;00m\u001b[38;5;250m \u001b[39m\u001b[38;5;21mpost\u001b[39m(\u001b[38;5;28mself\u001b[39m, url, data\u001b[38;5;241m=\u001b[39m\u001b[38;5;28;01mNone\u001b[39;00m, json\u001b[38;5;241m=\u001b[39m\u001b[38;5;28;01mNone\u001b[39;00m, \u001b[38;5;241m*\u001b[39m\u001b[38;5;241m*\u001b[39mkwargs):\n\u001b[1;32m    627\u001b[0m \u001b[38;5;250m    \u001b[39m\u001b[38;5;124mr\u001b[39m\u001b[38;5;124;03m\"\"\"Sends a POST request. Returns :class:`Response` object.\u001b[39;00m\n\u001b[1;32m    628\u001b[0m \n\u001b[1;32m    629\u001b[0m \u001b[38;5;124;03m    :param url: URL for the new :class:`Request` object.\u001b[39;00m\n\u001b[0;32m   (...)\u001b[0m\n\u001b[1;32m    634\u001b[0m \u001b[38;5;124;03m    :rtype: requests.Response\u001b[39;00m\n\u001b[1;32m    635\u001b[0m \u001b[38;5;124;03m    \"\"\"\u001b[39;00m\n\u001b[0;32m--> 637\u001b[0m     \u001b[38;5;28;01mreturn\u001b[39;00m \u001b[38;5;28;43mself\u001b[39;49m\u001b[38;5;241;43m.\u001b[39;49m\u001b[43mrequest\u001b[49m\u001b[43m(\u001b[49m\u001b[38;5;124;43m\"\u001b[39;49m\u001b[38;5;124;43mPOST\u001b[39;49m\u001b[38;5;124;43m\"\u001b[39;49m\u001b[43m,\u001b[49m\u001b[43m \u001b[49m\u001b[43murl\u001b[49m\u001b[43m,\u001b[49m\u001b[43m \u001b[49m\u001b[43mdata\u001b[49m\u001b[38;5;241;43m=\u001b[39;49m\u001b[43mdata\u001b[49m\u001b[43m,\u001b[49m\u001b[43m \u001b[49m\u001b[43mjson\u001b[49m\u001b[38;5;241;43m=\u001b[39;49m\u001b[43mjson\u001b[49m\u001b[43m,\u001b[49m\u001b[43m \u001b[49m\u001b[38;5;241;43m*\u001b[39;49m\u001b[38;5;241;43m*\u001b[39;49m\u001b[43mkwargs\u001b[49m\u001b[43m)\u001b[49m\n",
      "File \u001b[0;32m~/Documents/PythonProjects/trial_to_paper/t2paper/lib/python3.13/site-packages/requests/sessions.py:589\u001b[0m, in \u001b[0;36mSession.request\u001b[0;34m(self, method, url, params, data, headers, cookies, files, auth, timeout, allow_redirects, proxies, hooks, stream, verify, cert, json)\u001b[0m\n\u001b[1;32m    584\u001b[0m send_kwargs \u001b[38;5;241m=\u001b[39m {\n\u001b[1;32m    585\u001b[0m     \u001b[38;5;124m\"\u001b[39m\u001b[38;5;124mtimeout\u001b[39m\u001b[38;5;124m\"\u001b[39m: timeout,\n\u001b[1;32m    586\u001b[0m     \u001b[38;5;124m\"\u001b[39m\u001b[38;5;124mallow_redirects\u001b[39m\u001b[38;5;124m\"\u001b[39m: allow_redirects,\n\u001b[1;32m    587\u001b[0m }\n\u001b[1;32m    588\u001b[0m send_kwargs\u001b[38;5;241m.\u001b[39mupdate(settings)\n\u001b[0;32m--> 589\u001b[0m resp \u001b[38;5;241m=\u001b[39m \u001b[38;5;28;43mself\u001b[39;49m\u001b[38;5;241;43m.\u001b[39;49m\u001b[43msend\u001b[49m\u001b[43m(\u001b[49m\u001b[43mprep\u001b[49m\u001b[43m,\u001b[49m\u001b[43m \u001b[49m\u001b[38;5;241;43m*\u001b[39;49m\u001b[38;5;241;43m*\u001b[39;49m\u001b[43msend_kwargs\u001b[49m\u001b[43m)\u001b[49m\n\u001b[1;32m    591\u001b[0m \u001b[38;5;28;01mreturn\u001b[39;00m resp\n",
      "File \u001b[0;32m~/Documents/PythonProjects/trial_to_paper/t2paper/lib/python3.13/site-packages/requests/sessions.py:703\u001b[0m, in \u001b[0;36mSession.send\u001b[0;34m(self, request, **kwargs)\u001b[0m\n\u001b[1;32m    700\u001b[0m start \u001b[38;5;241m=\u001b[39m preferred_clock()\n\u001b[1;32m    702\u001b[0m \u001b[38;5;66;03m# Send the request\u001b[39;00m\n\u001b[0;32m--> 703\u001b[0m r \u001b[38;5;241m=\u001b[39m \u001b[43madapter\u001b[49m\u001b[38;5;241;43m.\u001b[39;49m\u001b[43msend\u001b[49m\u001b[43m(\u001b[49m\u001b[43mrequest\u001b[49m\u001b[43m,\u001b[49m\u001b[43m \u001b[49m\u001b[38;5;241;43m*\u001b[39;49m\u001b[38;5;241;43m*\u001b[39;49m\u001b[43mkwargs\u001b[49m\u001b[43m)\u001b[49m\n\u001b[1;32m    705\u001b[0m \u001b[38;5;66;03m# Total elapsed time of the request (approximately)\u001b[39;00m\n\u001b[1;32m    706\u001b[0m elapsed \u001b[38;5;241m=\u001b[39m preferred_clock() \u001b[38;5;241m-\u001b[39m start\n",
      "File \u001b[0;32m~/Documents/PythonProjects/trial_to_paper/t2paper/lib/python3.13/site-packages/huggingface_hub/utils/_http.py:93\u001b[0m, in \u001b[0;36mUniqueRequestIdAdapter.send\u001b[0;34m(self, request, *args, **kwargs)\u001b[0m\n\u001b[1;32m     91\u001b[0m \u001b[38;5;250m\u001b[39m\u001b[38;5;124;03m\"\"\"Catch any RequestException to append request id to the error message for debugging.\"\"\"\u001b[39;00m\n\u001b[1;32m     92\u001b[0m \u001b[38;5;28;01mtry\u001b[39;00m:\n\u001b[0;32m---> 93\u001b[0m     \u001b[38;5;28;01mreturn\u001b[39;00m \u001b[38;5;28;43msuper\u001b[39;49m\u001b[43m(\u001b[49m\u001b[43m)\u001b[49m\u001b[38;5;241;43m.\u001b[39;49m\u001b[43msend\u001b[49m\u001b[43m(\u001b[49m\u001b[43mrequest\u001b[49m\u001b[43m,\u001b[49m\u001b[43m \u001b[49m\u001b[38;5;241;43m*\u001b[39;49m\u001b[43margs\u001b[49m\u001b[43m,\u001b[49m\u001b[43m \u001b[49m\u001b[38;5;241;43m*\u001b[39;49m\u001b[38;5;241;43m*\u001b[39;49m\u001b[43mkwargs\u001b[49m\u001b[43m)\u001b[49m\n\u001b[1;32m     94\u001b[0m \u001b[38;5;28;01mexcept\u001b[39;00m requests\u001b[38;5;241m.\u001b[39mRequestException \u001b[38;5;28;01mas\u001b[39;00m e:\n\u001b[1;32m     95\u001b[0m     request_id \u001b[38;5;241m=\u001b[39m request\u001b[38;5;241m.\u001b[39mheaders\u001b[38;5;241m.\u001b[39mget(X_AMZN_TRACE_ID)\n",
      "File \u001b[0;32m~/Documents/PythonProjects/trial_to_paper/t2paper/lib/python3.13/site-packages/requests/adapters.py:713\u001b[0m, in \u001b[0;36mHTTPAdapter.send\u001b[0;34m(self, request, stream, timeout, verify, cert, proxies)\u001b[0m\n\u001b[1;32m    711\u001b[0m     \u001b[38;5;28;01mraise\u001b[39;00m SSLError(e, request\u001b[38;5;241m=\u001b[39mrequest)\n\u001b[1;32m    712\u001b[0m \u001b[38;5;28;01melif\u001b[39;00m \u001b[38;5;28misinstance\u001b[39m(e, ReadTimeoutError):\n\u001b[0;32m--> 713\u001b[0m     \u001b[38;5;28;01mraise\u001b[39;00m ReadTimeout(e, request\u001b[38;5;241m=\u001b[39mrequest)\n\u001b[1;32m    714\u001b[0m \u001b[38;5;28;01melif\u001b[39;00m \u001b[38;5;28misinstance\u001b[39m(e, _InvalidHeader):\n\u001b[1;32m    715\u001b[0m     \u001b[38;5;28;01mraise\u001b[39;00m InvalidHeader(e, request\u001b[38;5;241m=\u001b[39mrequest)\n",
      "\u001b[0;31mReadTimeout\u001b[0m: (ReadTimeoutError(\"HTTPSConnectionPool(host='huggingface.co', port=443): Read timed out. (read timeout=None)\"), '(Request ID: 88e37dda-af95-4a31-aa4f-697ac6c0ec69)')"
     ]
    }
   ],
   "source": [
    "df = pd.read_parquet(\"hf://datasets/ade-benchmark-corpus/ade_corpus_v2/Ade_corpus_v2_drug_ade_relation/train-00000-of-00001.parquet\")\n",
    "text = list(df[\"text\"])\n",
    "\n",
    "# pipe = pipeline(task=\"token-classification\", model=\"MutazYoune/BiomedBERT-Adverse-Events-NER_pun\", tokenizer=\"MutazYoune/BiomedBERT-Adverse-Events-NER_pun\")\n",
    "pipe = pipeline(task=\"token-classification\", model=\"MutazYoune/Medical-NER-Adverse-Events-NER\", tokenizer=\"MutazYoune/Medical-NER-Adverse-Events-NER\")\n",
    "all_sections = []\n",
    "for x in tqdm(text):\n",
    "    try:\n",
    "        print(x)\n",
    "        res = pipe(x)\n",
    "        if res:\n",
    "            print([x['word'] for x in res])\n",
    "            print('\\n')\n",
    "            section_df = pd.DataFrame(res)\n",
    "            # pprint(section_df)\n",
    "            all_sections.append(section_df)\n",
    "    except:\n",
    "        continue\n",
    "ade_bench = pd.concat(all_sections, ignore_index=True)"
   ]
  },
  {
   "cell_type": "code",
   "execution_count": 47,
   "id": "d2b42b42-7554-495e-a7b9-15dae209aa17",
   "metadata": {},
   "outputs": [
    {
     "data": {
      "text/html": [
       "<div>\n",
       "<style scoped>\n",
       "    .dataframe tbody tr th:only-of-type {\n",
       "        vertical-align: middle;\n",
       "    }\n",
       "\n",
       "    .dataframe tbody tr th {\n",
       "        vertical-align: top;\n",
       "    }\n",
       "\n",
       "    .dataframe thead th {\n",
       "        text-align: right;\n",
       "    }\n",
       "</style>\n",
       "<table border=\"1\" class=\"dataframe\">\n",
       "  <thead>\n",
       "    <tr style=\"text-align: right;\">\n",
       "      <th></th>\n",
       "      <th>text</th>\n",
       "      <th>drug</th>\n",
       "      <th>effect</th>\n",
       "      <th>indexes</th>\n",
       "    </tr>\n",
       "  </thead>\n",
       "  <tbody>\n",
       "    <tr>\n",
       "      <th>0</th>\n",
       "      <td>Intravenous azithromycin-induced ototoxicity.</td>\n",
       "      <td>azithromycin</td>\n",
       "      <td>ototoxicity</td>\n",
       "      <td>{'drug': {'start_char': [12], 'end_char': [24]...</td>\n",
       "    </tr>\n",
       "    <tr>\n",
       "      <th>1</th>\n",
       "      <td>Immobilization, while Paget's bone disease was...</td>\n",
       "      <td>dihydrotachysterol</td>\n",
       "      <td>increased calcium-release</td>\n",
       "      <td>{'drug': {'start_char': [91], 'end_char': [109...</td>\n",
       "    </tr>\n",
       "    <tr>\n",
       "      <th>2</th>\n",
       "      <td>Unaccountable severe hypercalcemia in a patien...</td>\n",
       "      <td>dihydrotachysterol</td>\n",
       "      <td>hypercalcemia</td>\n",
       "      <td>{'drug': {'start_char': [84], 'end_char': [102...</td>\n",
       "    </tr>\n",
       "    <tr>\n",
       "      <th>3</th>\n",
       "      <td>METHODS: We report two cases of pseudoporphyri...</td>\n",
       "      <td>naproxen</td>\n",
       "      <td>pseudoporphyria</td>\n",
       "      <td>{'drug': {'start_char': [58], 'end_char': [66]...</td>\n",
       "    </tr>\n",
       "    <tr>\n",
       "      <th>4</th>\n",
       "      <td>METHODS: We report two cases of pseudoporphyri...</td>\n",
       "      <td>oxaprozin</td>\n",
       "      <td>pseudoporphyria</td>\n",
       "      <td>{'drug': {'start_char': [71], 'end_char': [80]...</td>\n",
       "    </tr>\n",
       "    <tr>\n",
       "      <th>...</th>\n",
       "      <td>...</td>\n",
       "      <td>...</td>\n",
       "      <td>...</td>\n",
       "      <td>...</td>\n",
       "    </tr>\n",
       "    <tr>\n",
       "      <th>6816</th>\n",
       "      <td>Lithium treatment was terminated in 1975 becau...</td>\n",
       "      <td>Lithium</td>\n",
       "      <td>lithium intoxication</td>\n",
       "      <td>{'drug': {'start_char': [0], 'end_char': [7]},...</td>\n",
       "    </tr>\n",
       "    <tr>\n",
       "      <th>6817</th>\n",
       "      <td>Lithium treatment was terminated in 1975 becau...</td>\n",
       "      <td>lithium</td>\n",
       "      <td>lithium intoxication</td>\n",
       "      <td>{'drug': {'start_char': [52], 'end_char': [59]...</td>\n",
       "    </tr>\n",
       "    <tr>\n",
       "      <th>6818</th>\n",
       "      <td>Eosinophilia caused by clozapine was observed ...</td>\n",
       "      <td>clozapine</td>\n",
       "      <td>Eosinophilia</td>\n",
       "      <td>{'drug': {'start_char': [23], 'end_char': [32]...</td>\n",
       "    </tr>\n",
       "    <tr>\n",
       "      <th>6819</th>\n",
       "      <td>Eosinophilia has been encountered from 0.2 to ...</td>\n",
       "      <td>clozapine</td>\n",
       "      <td>Eosinophilia</td>\n",
       "      <td>{'drug': {'start_char': [55], 'end_char': [64]...</td>\n",
       "    </tr>\n",
       "    <tr>\n",
       "      <th>6820</th>\n",
       "      <td>Successful challenge with clozapine in a histo...</td>\n",
       "      <td>clozapine</td>\n",
       "      <td>eosinophilia</td>\n",
       "      <td>{'drug': {'start_char': [26], 'end_char': [35]...</td>\n",
       "    </tr>\n",
       "  </tbody>\n",
       "</table>\n",
       "<p>6821 rows × 4 columns</p>\n",
       "</div>"
      ],
      "text/plain": [
       "                                                   text                drug  \\\n",
       "0         Intravenous azithromycin-induced ototoxicity.        azithromycin   \n",
       "1     Immobilization, while Paget's bone disease was...  dihydrotachysterol   \n",
       "2     Unaccountable severe hypercalcemia in a patien...  dihydrotachysterol   \n",
       "3     METHODS: We report two cases of pseudoporphyri...            naproxen   \n",
       "4     METHODS: We report two cases of pseudoporphyri...           oxaprozin   \n",
       "...                                                 ...                 ...   \n",
       "6816  Lithium treatment was terminated in 1975 becau...             Lithium   \n",
       "6817  Lithium treatment was terminated in 1975 becau...             lithium   \n",
       "6818  Eosinophilia caused by clozapine was observed ...           clozapine   \n",
       "6819  Eosinophilia has been encountered from 0.2 to ...           clozapine   \n",
       "6820  Successful challenge with clozapine in a histo...           clozapine   \n",
       "\n",
       "                         effect  \\\n",
       "0                   ototoxicity   \n",
       "1     increased calcium-release   \n",
       "2                 hypercalcemia   \n",
       "3               pseudoporphyria   \n",
       "4               pseudoporphyria   \n",
       "...                         ...   \n",
       "6816       lithium intoxication   \n",
       "6817       lithium intoxication   \n",
       "6818               Eosinophilia   \n",
       "6819               Eosinophilia   \n",
       "6820               eosinophilia   \n",
       "\n",
       "                                                indexes  \n",
       "0     {'drug': {'start_char': [12], 'end_char': [24]...  \n",
       "1     {'drug': {'start_char': [91], 'end_char': [109...  \n",
       "2     {'drug': {'start_char': [84], 'end_char': [102...  \n",
       "3     {'drug': {'start_char': [58], 'end_char': [66]...  \n",
       "4     {'drug': {'start_char': [71], 'end_char': [80]...  \n",
       "...                                                 ...  \n",
       "6816  {'drug': {'start_char': [0], 'end_char': [7]},...  \n",
       "6817  {'drug': {'start_char': [52], 'end_char': [59]...  \n",
       "6818  {'drug': {'start_char': [23], 'end_char': [32]...  \n",
       "6819  {'drug': {'start_char': [55], 'end_char': [64]...  \n",
       "6820  {'drug': {'start_char': [26], 'end_char': [35]...  \n",
       "\n",
       "[6821 rows x 4 columns]"
      ]
     },
     "execution_count": 47,
     "metadata": {},
     "output_type": "execute_result"
    }
   ],
   "source": [
    "df = pd.read_parquet(\"hf://datasets/ade-benchmark-corpus/ade_corpus_v2/Ade_corpus_v2_drug_ade_relation/train-00000-of-00001.parquet\")\n",
    "df"
   ]
  },
  {
   "cell_type": "markdown",
   "id": "88ad2c7f-02ee-436a-a3ba-3d8eda05fc20",
   "metadata": {},
   "source": [
    "## Early phase kidney failure trials"
   ]
  },
  {
   "cell_type": "code",
   "execution_count": 5,
   "id": "d7c6346f-1cbf-4f2a-93e5-500fbe928978",
   "metadata": {},
   "outputs": [],
   "source": [
    "nct_id = \"NCT06901102\"\n",
    "nct_id = \"NCT06901011\"\n",
    "query = f\"\"\"\n",
    "SELECT \n",
    "\tc.names AS indication,\n",
    "    s.{nct_id},\n",
    "    s.brief_title AS study_title,\n",
    "    s.phase AS study_phase,\n",
    "\tae.adverse_event_term as adverse_event,\n",
    "    ae.event_type,\n",
    "\tae.organ_system,\n",
    "\tae.subjects_at_risk,\n",
    "    ae.subjects_affected as subjects_affected,\n",
    "\tae.ctgov_group_code,\n",
    "    -- ae.description,\n",
    "\tae.result_group_id\n",
    "FROM \n",
    "    \"reported_events\" as ae\n",
    "JOIN\n",
    "\tall_conditions as c on c.nct_id = ae.nct_id\n",
    "JOIN\n",
    "    studies as s ON s.nct_id = ae.nct_id\n",
    "WHERE\n",
    "\tae.nct_id = '{nct_id}';\n",
    "\"\"\""
   ]
  },
  {
   "cell_type": "code",
   "execution_count": 6,
   "id": "5669c30c-aad9-48c7-be89-b8498eec1bd8",
   "metadata": {},
   "outputs": [
    {
     "ename": "UndefinedColumn",
     "evalue": "column s.nct06901011 does not exist\nLINE 4:     s.NCT06901011,\n            ^",
     "output_type": "error",
     "traceback": [
      "\u001b[0;31m---------------------------------------------------------------------------\u001b[0m",
      "\u001b[0;31mUndefinedColumn\u001b[0m                           Traceback (most recent call last)",
      "Cell \u001b[0;32mIn[6], line 1\u001b[0m\n\u001b[0;32m----> 1\u001b[0m study_title, aes, severe_aes, other_aes, patient_groups \u001b[38;5;241m=\u001b[39m \u001b[43maact_data_gather\u001b[49m\u001b[43m(\u001b[49m\u001b[43mnct_id\u001b[49m\u001b[43m,\u001b[49m\u001b[43m \u001b[49m\u001b[43mquery\u001b[49m\u001b[43m)\u001b[49m\n\u001b[1;32m      2\u001b[0m \u001b[38;5;66;03m# TODO Get % affected / see relevance of 'other' vs 'serious'\u001b[39;00m\n\u001b[1;32m      3\u001b[0m \u001b[38;5;28;01mif\u001b[39;00m study_title:\n",
      "File \u001b[0;32m~/Documents/PythonProjects/trial_to_paper/trial_to_paper_utils.py:28\u001b[0m, in \u001b[0;36maact_data_gather\u001b[0;34m(nct_id, query)\u001b[0m\n\u001b[1;32m     27\u001b[0m \u001b[38;5;28;01mdef\u001b[39;00m\u001b[38;5;250m \u001b[39m\u001b[38;5;21maact_data_gather\u001b[39m(nct_id: \u001b[38;5;28mstr\u001b[39m, query: \u001b[38;5;28mstr\u001b[39m) \u001b[38;5;241m-\u001b[39m\u001b[38;5;241m>\u001b[39m Tuple[\u001b[38;5;28mstr\u001b[39m, List, List, List, List]:\n\u001b[0;32m---> 28\u001b[0m     response_df \u001b[38;5;241m=\u001b[39m \u001b[43maact_query\u001b[49m\u001b[43m(\u001b[49m\u001b[43mquery\u001b[49m\u001b[43m)\u001b[49m\n\u001b[1;32m     29\u001b[0m     \u001b[38;5;28;01mif\u001b[39;00m \u001b[38;5;129;01mnot\u001b[39;00m response_df\u001b[38;5;241m.\u001b[39mempty:\n\u001b[1;32m     30\u001b[0m         severe_aes_filter \u001b[38;5;241m=\u001b[39m response_df[response_df[\u001b[38;5;124m\"\u001b[39m\u001b[38;5;124mevent_type\u001b[39m\u001b[38;5;124m\"\u001b[39m] \u001b[38;5;241m==\u001b[39m \u001b[38;5;124m\"\u001b[39m\u001b[38;5;124mserious\u001b[39m\u001b[38;5;124m\"\u001b[39m]\n",
      "File \u001b[0;32m~/Documents/PythonProjects/trial_to_paper/trial_to_paper_utils.py:22\u001b[0m, in \u001b[0;36maact_query\u001b[0;34m(query)\u001b[0m\n\u001b[1;32m     15\u001b[0m conn \u001b[38;5;241m=\u001b[39m psycopg\u001b[38;5;241m.\u001b[39mconnect(dbname\u001b[38;5;241m=\u001b[39m\u001b[38;5;124m\"\u001b[39m\u001b[38;5;124maact\u001b[39m\u001b[38;5;124m\"\u001b[39m,\n\u001b[1;32m     16\u001b[0m                        host\u001b[38;5;241m=\u001b[39m\u001b[38;5;124m\"\u001b[39m\u001b[38;5;124maact-db.ctti-clinicaltrials.org\u001b[39m\u001b[38;5;124m\"\u001b[39m,\n\u001b[1;32m     17\u001b[0m                        user\u001b[38;5;241m=\u001b[39muser,\n\u001b[1;32m     18\u001b[0m                        password\u001b[38;5;241m=\u001b[39mpassword,\n\u001b[1;32m     19\u001b[0m                        port\u001b[38;5;241m=\u001b[39m\u001b[38;5;241m5432\u001b[39m)\n\u001b[1;32m     20\u001b[0m cursor \u001b[38;5;241m=\u001b[39m conn\u001b[38;5;241m.\u001b[39mcursor()\n\u001b[0;32m---> 22\u001b[0m \u001b[43mcursor\u001b[49m\u001b[38;5;241;43m.\u001b[39;49m\u001b[43mexecute\u001b[49m\u001b[43m(\u001b[49m\u001b[43mquery\u001b[49m\u001b[43m)\u001b[49m\n\u001b[1;32m     23\u001b[0m response_df \u001b[38;5;241m=\u001b[39m pd\u001b[38;5;241m.\u001b[39mDataFrame(cursor\u001b[38;5;241m.\u001b[39mfetchall(), columns\u001b[38;5;241m=\u001b[39mheaders)\n\u001b[1;32m     24\u001b[0m \u001b[38;5;28;01mreturn\u001b[39;00m response_df\n",
      "File \u001b[0;32m~/Documents/PythonProjects/trial_to_paper/t2paper/lib/python3.13/site-packages/psycopg/cursor.py:97\u001b[0m, in \u001b[0;36mCursor.execute\u001b[0;34m(self, query, params, prepare, binary)\u001b[0m\n\u001b[1;32m     93\u001b[0m         \u001b[38;5;28mself\u001b[39m\u001b[38;5;241m.\u001b[39m_conn\u001b[38;5;241m.\u001b[39mwait(\n\u001b[1;32m     94\u001b[0m             \u001b[38;5;28mself\u001b[39m\u001b[38;5;241m.\u001b[39m_execute_gen(query, params, prepare\u001b[38;5;241m=\u001b[39mprepare, binary\u001b[38;5;241m=\u001b[39mbinary)\n\u001b[1;32m     95\u001b[0m         )\n\u001b[1;32m     96\u001b[0m \u001b[38;5;28;01mexcept\u001b[39;00m e\u001b[38;5;241m.\u001b[39m_NO_TRACEBACK \u001b[38;5;28;01mas\u001b[39;00m ex:\n\u001b[0;32m---> 97\u001b[0m     \u001b[38;5;28;01mraise\u001b[39;00m ex\u001b[38;5;241m.\u001b[39mwith_traceback(\u001b[38;5;28;01mNone\u001b[39;00m)\n\u001b[1;32m     98\u001b[0m \u001b[38;5;28;01mreturn\u001b[39;00m \u001b[38;5;28mself\u001b[39m\n",
      "\u001b[0;31mUndefinedColumn\u001b[0m: column s.nct06901011 does not exist\nLINE 4:     s.NCT06901011,\n            ^"
     ]
    }
   ],
   "source": [
    "study_title, aes, severe_aes, other_aes, patient_groups = aact_data_gather(nct_id, query)\n",
    "# TODO Get % affected / see relevance of 'other' vs 'serious'\n",
    "if study_title:\n",
    "    print(\n",
    "        f\"For CT.gov trial:\\n\\t'{study_title}' ({nct_id}),\\n{len(aes)} unique AEs were recorded in {len(patient_groups)} patient group(s)\\n\")\n",
    "    # [print(f\"- {a}\\n\") for a in aes]\n",
    "else:\n",
    "    print(f\"No trials were found searching for ID: {nct_id}\")"
   ]
  },
  {
   "cell_type": "code",
   "execution_count": null,
   "id": "e38f2d79-e12c-47fa-961a-5b075c6bff6e",
   "metadata": {},
   "outputs": [],
   "source": []
  }
 ],
 "metadata": {
  "kernelspec": {
   "display_name": "t2paper",
   "language": "python",
   "name": "t2paper"
  },
  "language_info": {
   "codemirror_mode": {
    "name": "ipython",
    "version": 3
   },
   "file_extension": ".py",
   "mimetype": "text/x-python",
   "name": "python",
   "nbconvert_exporter": "python",
   "pygments_lexer": "ipython3",
   "version": "3.13.2"
  }
 },
 "nbformat": 4,
 "nbformat_minor": 5
}
