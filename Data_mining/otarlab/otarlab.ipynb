{
 "cells": [
  {
   "cell_type": "markdown",
   "metadata": {
    "vscode": {
     "languageId": "plaintext"
    }
   },
   "source": [
    "### Open Targets lab meeting 1/10/25\n",
    "\n",
    "- Run through demoing our new cellate model, showing promise of adding insight into promise of therapeutic targets\n",
    "- We can consider times where cell specificity is crucial for the complete understanding of a target's function in a given disease\n",
    "    - Think links to one of our therapeutic hypoethsis Qs:\n",
    "        - _\"What is the function of target [y] in cell type [d] in disease [x]?\"_\n",
    "\n",
    "- As an OTs user, we can search for the target PDCD1 (~ PD-1), seeing high associations with many types of cancer, including NSCLC.\n",
    "    - https://partner-platform.opentargets.org/target/ENSG00000188389/associations\n",
    "- Supporting evidence here currently links cooccurences of the target _PD-1_ to the disease _NSCLC_, but:\n",
    "    - We can see that the literature already contains cell-type specific information\n",
    "    - Our data as it stands doesn't reflcct this - potential therapeutic insights are buried here, but aren't specifically captured\n",
    "- OpenAI even gives us a nod, stating \"Specific information about PDCD1 would require additional _context_ / sources\""
   ]
  },
  {
   "cell_type": "code",
   "execution_count": 1,
   "metadata": {},
   "outputs": [
    {
     "name": "stdout",
     "output_type": "stream",
     "text": [
      "Query ran successfully\n"
     ]
    }
   ],
   "source": [
    "import requests\n",
    "import json\n",
    "\n",
    "variables = {\n",
    "  \"ensemblId\": \"ENSG00000188389\", # PDCD1\n",
    "  \"efoId\": \"EFO_0003060\", # NSCLC\n",
    "  \"size\": 100\n",
    "}\n",
    "\n",
    "# Build query string to get literature information linking PDCD1 and NSCLC\n",
    "query_string = \"\"\"\n",
    "query EuropePMCQuery(\n",
    "  $ensemblId: String!\n",
    "  $efoId: String!\n",
    "  $size: Int!\n",
    "  $cursor: String\n",
    ") {\n",
    "  disease(efoId: $efoId) {\n",
    "    id\n",
    "    europePmc: evidences(\n",
    "      ensemblIds: [$ensemblId]\n",
    "      enableIndirect: true\n",
    "      size: $size\n",
    "      datasourceIds: [\"europepmc\"]\n",
    "      cursor: $cursor\n",
    "    ) {\n",
    "      count\n",
    "      cursor\n",
    "      rows {\n",
    "        disease {\n",
    "          name\n",
    "          id\n",
    "        }\n",
    "        target {\n",
    "          approvedSymbol\n",
    "          id\n",
    "        }\n",
    "        literature\n",
    "        textMiningSentences {\n",
    "          tStart\n",
    "          tEnd\n",
    "          dStart\n",
    "          dEnd\n",
    "          section\n",
    "          text\n",
    "        }\n",
    "        resourceScore\n",
    "      }\n",
    "    }\n",
    "  }\n",
    "}\n",
    "\"\"\"\n",
    "\n",
    "# GraphQL API request\n",
    "base_url = \"https://api.platform.opentargets.org/api/v4/graphql\"\n",
    "\n",
    "r = requests.post(base_url, json={\"query\": query_string, \"variables\": variables})\n",
    "if r.status_code == 200:\n",
    "    print(\"Query ran successfully\")\n",
    "resp = json.loads(r.text)"
   ]
  },
  {
   "cell_type": "code",
   "execution_count": 2,
   "metadata": {},
   "outputs": [],
   "source": [
    "import pandas as pd\n",
    "from pprint import pprint\n",
    "\n",
    "data = resp[\"data\"][\"disease\"][\"europePmc\"][\"rows\"]\n",
    "literature_evidence = {}\n",
    "for paper in data:\n",
    "    # pprint(paper)\n",
    "    pmcid = paper[\"literature\"][0]\n",
    "    target = paper[\"target\"][\"approvedSymbol\"]\n",
    "    disease = paper[\"disease\"][\"name\"]\n",
    "    text = paper[\"textMiningSentences\"]\n",
    "    text = [t[\"text\"] for t in text]\n",
    "    literature_evidence[pmcid] = [target, disease, text]\n",
    "\n",
    "evidence_df = pd.DataFrame.from_dict(literature_evidence, orient=\"index\", columns=[\"Target\", \"Disease\", \"Text\"])"
   ]
  },
  {
   "cell_type": "code",
   "execution_count": 3,
   "metadata": {},
   "outputs": [
    {
     "data": {
      "text/html": [
       "<div>\n",
       "<style scoped>\n",
       "    .dataframe tbody tr th:only-of-type {\n",
       "        vertical-align: middle;\n",
       "    }\n",
       "\n",
       "    .dataframe tbody tr th {\n",
       "        vertical-align: top;\n",
       "    }\n",
       "\n",
       "    .dataframe thead th {\n",
       "        text-align: right;\n",
       "    }\n",
       "</style>\n",
       "<table border=\"1\" class=\"dataframe\">\n",
       "  <thead>\n",
       "    <tr style=\"text-align: right;\">\n",
       "      <th></th>\n",
       "      <th>Target</th>\n",
       "      <th>Disease</th>\n",
       "      <th>Text</th>\n",
       "    </tr>\n",
       "  </thead>\n",
       "  <tbody>\n",
       "    <tr>\n",
       "      <th>32154170</th>\n",
       "      <td>PDCD1</td>\n",
       "      <td>lung adenocarcinoma</td>\n",
       "      <td>[Given that Science-LUAD cohort was only treat...</td>\n",
       "    </tr>\n",
       "    <tr>\n",
       "      <th>38299030</th>\n",
       "      <td>PDCD1</td>\n",
       "      <td>non-small cell lung carcinoma</td>\n",
       "      <td>[In the current study, we tested the feasibili...</td>\n",
       "    </tr>\n",
       "    <tr>\n",
       "      <th>34194433</th>\n",
       "      <td>PDCD1</td>\n",
       "      <td>non-small cell lung carcinoma</td>\n",
       "      <td>[Thus, PD-1 was highly expressed on ILC2s obta...</td>\n",
       "    </tr>\n",
       "    <tr>\n",
       "      <th>30325558</th>\n",
       "      <td>PDCD1</td>\n",
       "      <td>non-small cell lung carcinoma</td>\n",
       "      <td>[However, we further compared PD‐1 expression ...</td>\n",
       "    </tr>\n",
       "    <tr>\n",
       "      <th>27191652</th>\n",
       "      <td>PDCD1</td>\n",
       "      <td>non-small cell lung carcinoma</td>\n",
       "      <td>[We report that surface expression of PD-1 on ...</td>\n",
       "    </tr>\n",
       "  </tbody>\n",
       "</table>\n",
       "</div>"
      ],
      "text/plain": [
       "         Target                        Disease  \\\n",
       "32154170  PDCD1            lung adenocarcinoma   \n",
       "38299030  PDCD1  non-small cell lung carcinoma   \n",
       "34194433  PDCD1  non-small cell lung carcinoma   \n",
       "30325558  PDCD1  non-small cell lung carcinoma   \n",
       "27191652  PDCD1  non-small cell lung carcinoma   \n",
       "\n",
       "                                                       Text  \n",
       "32154170  [Given that Science-LUAD cohort was only treat...  \n",
       "38299030  [In the current study, we tested the feasibili...  \n",
       "34194433  [Thus, PD-1 was highly expressed on ILC2s obta...  \n",
       "30325558  [However, we further compared PD‐1 expression ...  \n",
       "27191652  [We report that surface expression of PD-1 on ...  "
      ]
     },
     "execution_count": 3,
     "metadata": {},
     "output_type": "execute_result"
    }
   ],
   "source": [
    "evidence_df.head()"
   ]
  },
  {
   "cell_type": "code",
   "execution_count": 4,
   "metadata": {},
   "outputs": [
    {
     "name": "stdout",
     "output_type": "stream",
     "text": [
      "['Given that Science-LUAD cohort was only treated with PD-1 blockade and '\n",
      " 'performed better than Cancer Cell-LUAD cohort on predicting ICB efficacy '\n",
      " '(Figure 2B; AUC = 0.82 and 0.80, respectively), we stratified the '\n",
      " 'Discovery-LUAD cohort into two groups based on the TMB cutoff from '\n",
      " 'Science-LUAD cohort (Figure 2C; TMB = 166.5).',\n",
      " 'Immune checkpoint blockade (ICB) therapies that target programmed cell death '\n",
      " '1 (PD1) and PD1 ligand 1 (PDL1) have demonstrated promising benefits in lung '\n",
      " 'adenocarcinoma (LUAD), and tumor mutational burden (TMB) is the most robust '\n",
      " 'biomarker associated with the efficacy of PD-1-PD-L1 axis blockade in LUAD, '\n",
      " 'but the assessment of TMB by whole-exome sequencing (WES) is rather '\n",
      " 'expensive and time-consuming.',\n",
      " 'We retrieved many previous studies and cancer databases, only collecting '\n",
      " 'four high-quality LUAD datasets that contained both clinical and genomic '\n",
      " 'information: 29 LUAD patients treated with anti-PD-1 therapy (Science-LUAD) '\n",
      " '(1), 59 LUAD patients treated with PD-1 plus CTLA-4 blockade (Cancer '\n",
      " 'Cell-LUAD) (2), 186 LUAD patients treated with anti-PD-1/PD-L1 therapies or '\n",
      " 'in combination with anti-CTLA-4 therapy (JCO-LUAD) (3), and 478 LUAD '\n",
      " 'patients without immunotherapy (TCGA-LUAD) (Figure 1; Table S1).',\n",
      " 'Immune checkpoint blockade (ICB) therapies that target programmed cell death '\n",
      " '1 (PD1) and PD1 ligand 1 (PDL1) have demonstrated promising benefits in lung '\n",
      " 'adenocarcinoma (LUAD), and tumor mutational burden (TMB) is the most robust '\n",
      " 'biomarker associated with the efficacy of PD-1-PD-L1 axis blockade in LUAD, '\n",
      " 'but the assessment of TMB by whole-exome sequencing (WES) is rather '\n",
      " 'expensive and time-consuming.',\n",
      " 'We retrieved many previous studies and cancer databases, only collecting '\n",
      " 'four high-quality LUAD datasets that contained both clinical and genomic '\n",
      " 'information: 29 LUAD patients treated with anti-PD-1 therapy (Science-LUAD) '\n",
      " '(1), 59 LUAD patients treated with PD-1 plus CTLA-4 blockade (Cancer '\n",
      " 'Cell-LUAD) (2), 186 LUAD patients treated with anti-PD-1/PD-L1 therapies or '\n",
      " 'in combination with anti-CTLA-4 therapy (JCO-LUAD) (3), and 478 LUAD '\n",
      " 'patients without immunotherapy (TCGA-LUAD) (Figure 1; Table S1).',\n",
      " 'We retrieved many previous studies and cancer databases, only collecting '\n",
      " 'four high-quality LUAD datasets that contained both clinical and genomic '\n",
      " 'information: 29 LUAD patients treated with anti-PD-1 therapy (Science-LUAD) '\n",
      " '(1), 59 LUAD patients treated with PD-1 plus CTLA-4 blockade (Cancer '\n",
      " 'Cell-LUAD) (2), 186 LUAD patients treated with anti-PD-1/PD-L1 therapies or '\n",
      " 'in combination with anti-CTLA-4 therapy (JCO-LUAD) (3), and 478 LUAD '\n",
      " 'patients without immunotherapy (TCGA-LUAD) (Figure 1; Table S1).',\n",
      " 'Of particular note, one LUAD patient who derived durable clinical benefit '\n",
      " 'from anti-PD-1 therapy showed the strong staining of both PD-L1 expression '\n",
      " 'and CD8+ T cell infiltration.',\n",
      " 'We retrieved many previous studies and cancer databases, only collecting '\n",
      " 'four high-quality LUAD datasets that contained both clinical and genomic '\n",
      " 'information: 29 LUAD patients treated with anti-PD-1 therapy (Science-LUAD) '\n",
      " '(1), 59 LUAD patients treated with PD-1 plus CTLA-4 blockade (Cancer '\n",
      " 'Cell-LUAD) (2), 186 LUAD patients treated with anti-PD-1/PD-L1 therapies or '\n",
      " 'in combination with anti-CTLA-4 therapy (JCO-LUAD) (3), and 478 LUAD '\n",
      " 'patients without immunotherapy (TCGA-LUAD) (Figure 1; Table S1).',\n",
      " 'We retrieved many previous studies and cancer databases, only collecting '\n",
      " 'four high-quality LUAD datasets that contained both clinical and genomic '\n",
      " 'information: 29 LUAD patients treated with anti-PD-1 therapy (Science-LUAD) '\n",
      " '(1), 59 LUAD patients treated with PD-1 plus CTLA-4 blockade (Cancer '\n",
      " 'Cell-LUAD) (2), 186 LUAD patients treated with anti-PD-1/PD-L1 therapies or '\n",
      " 'in combination with anti-CTLA-4 therapy (JCO-LUAD) (3), and 478 LUAD '\n",
      " 'patients without immunotherapy (TCGA-LUAD) (Figure 1; Table S1).',\n",
      " 'However, in LUAD, the positivity rate of MMRd/MSI assessed by genomic '\n",
      " 'variations is <1% and much lower than the objective response rate to PD-1 '\n",
      " 'blockade in unselected patients (13, 19, 30–33).',\n",
      " 'We retrieved many previous studies and cancer databases, only collecting '\n",
      " 'four high-quality LUAD datasets that contained both clinical and genomic '\n",
      " 'information: 29 LUAD patients treated with anti-PD-1 therapy (Science-LUAD) '\n",
      " '(1), 59 LUAD patients treated with PD-1 plus CTLA-4 blockade (Cancer '\n",
      " 'Cell-LUAD) (2), 186 LUAD patients treated with anti-PD-1/PD-L1 therapies or '\n",
      " 'in combination with anti-CTLA-4 therapy (JCO-LUAD) (3), and 478 LUAD '\n",
      " 'patients without immunotherapy (TCGA-LUAD) (Figure 1; Table S1).',\n",
      " 'Immune checkpoint blockade (ICB) therapies that target programmed cell death '\n",
      " '1 (PD1) and PD1 ligand 1 (PDL1) have demonstrated promising benefits in lung '\n",
      " 'adenocarcinoma (LUAD), and tumor mutational burden (TMB) is the most robust '\n",
      " 'biomarker associated with the efficacy of PD-1-PD-L1 axis blockade in LUAD, '\n",
      " 'but the assessment of TMB by whole-exome sequencing (WES) is rather '\n",
      " 'expensive and time-consuming.',\n",
      " 'Given that Science-LUAD cohort was only treated with PD-1 blockade and '\n",
      " 'performed better than Cancer Cell-LUAD cohort on predicting ICB efficacy '\n",
      " '(Figure 2B; AUC = 0.82 and 0.80, respectively), we stratified the '\n",
      " 'Discovery-LUAD cohort into two groups based on the TMB cutoff from '\n",
      " 'Science-LUAD cohort (Figure 2C; TMB = 166.5).',\n",
      " 'Given that Science-LUAD cohort was only treated with PD-1 blockade and '\n",
      " 'performed better than Cancer Cell-LUAD cohort on predicting ICB efficacy '\n",
      " '(Figure 2B; AUC = 0.82 and 0.80, respectively), we stratified the '\n",
      " 'Discovery-LUAD cohort into two groups based on the TMB cutoff from '\n",
      " 'Science-LUAD cohort (Figure 2C; TMB = 166.5).',\n",
      " 'Given that Science-LUAD cohort was only treated with PD-1 blockade and '\n",
      " 'performed better than Cancer Cell-LUAD cohort on predicting ICB efficacy '\n",
      " '(Figure 2B; AUC = 0.82 and 0.80, respectively), we stratified the '\n",
      " 'Discovery-LUAD cohort into two groups based on the TMB cutoff from '\n",
      " 'Science-LUAD cohort (Figure 2C; TMB = 166.5).',\n",
      " 'Immune checkpoint blockade (ICB) therapies that target programmed cell death '\n",
      " '1 (PD1) and PD1 ligand 1 (PDL1) have demonstrated promising benefits in lung '\n",
      " 'adenocarcinoma (LUAD), and tumor mutational burden (TMB) is the most robust '\n",
      " 'biomarker associated with the efficacy of PD-1-PD-L1 axis blockade in LUAD, '\n",
      " 'but the assessment of TMB by whole-exome sequencing (WES) is rather '\n",
      " 'expensive and time-consuming.',\n",
      " 'We retrieved many previous studies and cancer databases, only collecting '\n",
      " 'four high-quality LUAD datasets that contained both clinical and genomic '\n",
      " 'information: 29 LUAD patients treated with anti-PD-1 therapy (Science-LUAD) '\n",
      " '(1), 59 LUAD patients treated with PD-1 plus CTLA-4 blockade (Cancer '\n",
      " 'Cell-LUAD) (2), 186 LUAD patients treated with anti-PD-1/PD-L1 therapies or '\n",
      " 'in combination with anti-CTLA-4 therapy (JCO-LUAD) (3), and 478 LUAD '\n",
      " 'patients without immunotherapy (TCGA-LUAD) (Figure 1; Table S1).',\n",
      " 'We retrieved many previous studies and cancer databases, only collecting '\n",
      " 'four high-quality LUAD datasets that contained both clinical and genomic '\n",
      " 'information: 29 LUAD patients treated with anti-PD-1 therapy (Science-LUAD) '\n",
      " '(1), 59 LUAD patients treated with PD-1 plus CTLA-4 blockade (Cancer '\n",
      " 'Cell-LUAD) (2), 186 LUAD patients treated with anti-PD-1/PD-L1 therapies or '\n",
      " 'in combination with anti-CTLA-4 therapy (JCO-LUAD) (3), and 478 LUAD '\n",
      " 'patients without immunotherapy (TCGA-LUAD) (Figure 1; Table S1).',\n",
      " 'Immune checkpoint blockade (ICB) therapies that target programmed cell death '\n",
      " '1 (PD1) and PD1 ligand 1 (PDL1) have demonstrated promising benefits in lung '\n",
      " 'adenocarcinoma (LUAD), and tumor mutational burden (TMB) is the most robust '\n",
      " 'biomarker associated with the efficacy of PD-1-PD-L1 axis blockade in LUAD, '\n",
      " 'but the assessment of TMB by whole-exome sequencing (WES) is rather '\n",
      " 'expensive and time-consuming.',\n",
      " 'We retrieved many previous studies and cancer databases, only collecting '\n",
      " 'four high-quality LUAD datasets that contained both clinical and genomic '\n",
      " 'information: 29 LUAD patients treated with anti-PD-1 therapy (Science-LUAD) '\n",
      " '(1), 59 LUAD patients treated with PD-1 plus CTLA-4 blockade (Cancer '\n",
      " 'Cell-LUAD) (2), 186 LUAD patients treated with anti-PD-1/PD-L1 therapies or '\n",
      " 'in combination with anti-CTLA-4 therapy (JCO-LUAD) (3), and 478 LUAD '\n",
      " 'patients without immunotherapy (TCGA-LUAD) (Figure 1; Table S1).',\n",
      " 'We retrieved many previous studies and cancer databases, only collecting '\n",
      " 'four high-quality LUAD datasets that contained both clinical and genomic '\n",
      " 'information: 29 LUAD patients treated with anti-PD-1 therapy (Science-LUAD) '\n",
      " '(1), 59 LUAD patients treated with PD-1 plus CTLA-4 blockade (Cancer '\n",
      " 'Cell-LUAD) (2), 186 LUAD patients treated with anti-PD-1/PD-L1 therapies or '\n",
      " 'in combination with anti-CTLA-4 therapy (JCO-LUAD) (3), and 478 LUAD '\n",
      " 'patients without immunotherapy (TCGA-LUAD) (Figure 1; Table S1).',\n",
      " 'We retrieved many previous studies and cancer databases, only collecting '\n",
      " 'four high-quality LUAD datasets that contained both clinical and genomic '\n",
      " 'information: 29 LUAD patients treated with anti-PD-1 therapy (Science-LUAD) '\n",
      " '(1), 59 LUAD patients treated with PD-1 plus CTLA-4 blockade (Cancer '\n",
      " 'Cell-LUAD) (2), 186 LUAD patients treated with anti-PD-1/PD-L1 therapies or '\n",
      " 'in combination with anti-CTLA-4 therapy (JCO-LUAD) (3), and 478 LUAD '\n",
      " 'patients without immunotherapy (TCGA-LUAD) (Figure 1; Table S1).',\n",
      " 'Immune checkpoint blockade (ICB) therapies that target programmed cell death '\n",
      " '1 (PD1) and PD1 ligand 1 (PDL1) have demonstrated promising benefits in lung '\n",
      " 'adenocarcinoma (LUAD), and tumor mutational burden (TMB) is the most robust '\n",
      " 'biomarker associated with the efficacy of PD-1-PD-L1 axis blockade in LUAD, '\n",
      " 'but the assessment of TMB by whole-exome sequencing (WES) is rather '\n",
      " 'expensive and time-consuming.',\n",
      " 'Immune checkpoint blockade (ICB) therapies that target programmed cell death '\n",
      " '1 (PD1) and PD1 ligand 1 (PDL1) have demonstrated promising benefits in lung '\n",
      " 'adenocarcinoma (LUAD), and tumor mutational burden (TMB) is the most robust '\n",
      " 'biomarker associated with the efficacy of PD-1-PD-L1 axis blockade in LUAD, '\n",
      " 'but the assessment of TMB by whole-exome sequencing (WES) is rather '\n",
      " 'expensive and time-consuming.',\n",
      " 'We retrieved many previous studies and cancer databases, only collecting '\n",
      " 'four high-quality LUAD datasets that contained both clinical and genomic '\n",
      " 'information: 29 LUAD patients treated with anti-PD-1 therapy (Science-LUAD) '\n",
      " '(1), 59 LUAD patients treated with PD-1 plus CTLA-4 blockade (Cancer '\n",
      " 'Cell-LUAD) (2), 186 LUAD patients treated with anti-PD-1/PD-L1 therapies or '\n",
      " 'in combination with anti-CTLA-4 therapy (JCO-LUAD) (3), and 478 LUAD '\n",
      " 'patients without immunotherapy (TCGA-LUAD) (Figure 1; Table S1).',\n",
      " 'Therefore, this study mainly focused on LUAD for anti-PD-1 therapy.']\n"
     ]
    }
   ],
   "source": [
    "pprint(evidence_df[\"Text\"].iloc[0])"
   ]
  },
  {
   "cell_type": "code",
   "execution_count": 5,
   "metadata": {},
   "outputs": [
    {
     "name": "stdout",
     "output_type": "stream",
     "text": [
      "2.8.0\n",
      "True\n"
     ]
    }
   ],
   "source": [
    "\"\"\"\n",
    "To install on M3, xcode / metal are required for successful install, execute:\n",
    "\n",
    " xcode-select --install\n",
    " python -m uv pip install --pre torch torchvision torchaudio --extra-index-url https://download.pytorch.org/whl/nightly/cpu\n",
    " python -m uv pip install --upgrade transformers tokenizers accelerate\n",
    "\n",
    " & Restart kernel, checking that install was successful below\n",
    "\"\"\"\n",
    "\n",
    "import torch\n",
    "print(torch.__version__)\n",
    "print(torch.backends.mps.is_available())  # Should print True if MPS is supported"
   ]
  },
  {
   "cell_type": "code",
   "execution_count": null,
   "metadata": {},
   "outputs": [],
   "source": [
    "print(torch.backends.mps.is_available())  # Should print: True\n",
    "print(torch.backends.mps.is_built())      # Should print: True"
   ]
  },
  {
   "cell_type": "code",
   "execution_count": 6,
   "metadata": {},
   "outputs": [
    {
     "name": "stdout",
     "output_type": "stream",
     "text": [
      "torch                   2.8.0\n",
      "torchaudio              2.8.0\n",
      "torchvision             0.23.0\n"
     ]
    }
   ],
   "source": [
    "!pip list | grep torch"
   ]
  },
  {
   "cell_type": "code",
   "execution_count": 7,
   "metadata": {},
   "outputs": [
    {
     "name": "stderr",
     "output_type": "stream",
     "text": [
      "Device set to use mps:0\n",
      "Asking to truncate to max_length but no maximum length is provided and the model has no predefined maximum length. Default to no truncation.\n"
     ]
    },
    {
     "name": "stdout",
     "output_type": "stream",
     "text": [
      "[{'entity_group': 'CellLine', 'score': np.float32(0.5906993), 'word': 'HeLa', 'start': 4, 'end': 8}]\n"
     ]
    }
   ],
   "source": [
    "from transformers import AutoTokenizer, AutoModelForTokenClassification, pipeline\n",
    "\n",
    "model_name = \"OTAR3088/bioformer-cellfinder_V1\"\n",
    "tokenizer = AutoTokenizer.from_pretrained(model_name)\n",
    "model = AutoModelForTokenClassification.from_pretrained(model_name)\n",
    "\n",
    "nlp_pipeline = pipeline(\"token-classification\", model=model, tokenizer=tokenizer, aggregation_strategy=\"simple\")\n",
    "text = \"The HeLa cell line is widely used in cancer research.\"\n",
    "entities = nlp_pipeline(text)\n",
    "print(entities)"
   ]
  },
  {
   "cell_type": "code",
   "execution_count": 11,
   "metadata": {},
   "outputs": [
    {
     "data": {
      "application/vnd.jupyter.widget-view+json": {
       "model_id": "2e4133d142524261a2d46fd2a7d6256e",
       "version_major": 2,
       "version_minor": 0
      },
      "text/plain": [
       "Processing in batches:   0%|          | 0/100 [00:00<?, ?it/s]"
      ]
     },
     "metadata": {},
     "output_type": "display_data"
    }
   ],
   "source": [
    "from tqdm.notebook import tqdm\n",
    "hit_column = []\n",
    "\n",
    "texts = evidence_df[\"Text\"].to_list()\n",
    "\n",
    "for text in tqdm(texts, desc=\"Processing in batches\"):\n",
    "    entities = []\n",
    "    res = nlp_pipeline(text)\n",
    "    ent_terms = [[hit[\"word\"] for hit in ent] for ent in res]\n",
    "    ent_terms = [x for x in ent_terms if x != []] # Remove sentences w.o. hits\n",
    "    entities.extend(ent_terms)\n",
    "    hit_column.append(entities)\n",
    "\n",
    "evidence_df[\"cellate_hits\"] = hit_column"
   ]
  },
  {
   "cell_type": "code",
   "execution_count": 12,
   "metadata": {},
   "outputs": [
    {
     "data": {
      "text/plain": [
       "32154170    [[lung, LU, LU], [LU, LU, LU, LU], [lung, LU, ...\n",
       "38299030    [[NSCLC], [TAMs, NSCLC, epithelial cells], [NS...\n",
       "34194433    [[IL, ##C2, ##s, IL, ##C2, ##s], [IL, ##C2, ##...\n",
       "30325558    [[Tfh, NSCLC, Tfh, NSCLC], [Tfh, ##17, NSCLC],...\n",
       "27191652    [[CD4, + T cells], [CD4, + T cells], [+ T cell...\n",
       "                                  ...                        \n",
       "35492873    [[cell lung cancer], [CD8 T cells], [NSCLC, ##...\n",
       "29016555    [[NSCLC], [NSCLC, SCC, ADC], [lung cancer stro...\n",
       "39004699    [[+], [CD8, + T cells, NSCLC], [NSCLC], [CD8, ...\n",
       "36472770    [[PBMCs], [CD8, + T cells, Treg cells], [CD8, ...\n",
       "38835662    [[cell, lung cancer], [cell, lung cancer], [ce...\n",
       "Name: cellate_hits, Length: 100, dtype: object"
      ]
     },
     "execution_count": 12,
     "metadata": {},
     "output_type": "execute_result"
    }
   ],
   "source": [
    "evidence_df[\"cellate_hits\"]"
   ]
  },
  {
   "cell_type": "code",
   "execution_count": 14,
   "metadata": {},
   "outputs": [],
   "source": [
    "# TODO - Retry with other cellate model\n",
    "# Highlight annotations in-text\n",
    "# Grab annotations from ePMC - either via graphQL or ePMC API - unsusre why they aren't returned as default in graphQL?"
   ]
  }
 ],
 "metadata": {
  "kernelspec": {
   "display_name": "otarlab",
   "language": "python",
   "name": "otarlab"
  },
  "language_info": {
   "codemirror_mode": {
    "name": "ipython",
    "version": 3
   },
   "file_extension": ".py",
   "mimetype": "text/x-python",
   "name": "python",
   "nbconvert_exporter": "python",
   "pygments_lexer": "ipython3",
   "version": "3.10.16"
  }
 },
 "nbformat": 4,
 "nbformat_minor": 2
}
