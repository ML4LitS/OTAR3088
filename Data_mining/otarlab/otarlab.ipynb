{
 "cells": [
  {
   "cell_type": "markdown",
   "metadata": {
    "vscode": {
     "languageId": "plaintext"
    }
   },
   "source": [
    "### Open Targets lab meeting 1/10/25"
   ]
  },
  {
   "cell_type": "code",
   "execution_count": 5,
   "metadata": {},
   "outputs": [
    {
     "name": "stdout",
     "output_type": "stream",
     "text": [
      "Query ran successfully\n"
     ]
    }
   ],
   "source": [
    "import requests\n",
    "import json\n",
    "\n",
    "variables = {\n",
    "  \"ensemblId\": \"ENSG00000188389\", # PDCD1\n",
    "  \"efoId\": \"EFO_0003060\", # NSCLC\n",
    "  \"size\": 50\n",
    "}\n",
    "\n",
    "# Build query string to get general information about AR and genetic constraint and tractability assessments \n",
    "query_string = \"\"\"\n",
    "query EuropePMCQuery(\n",
    "  $ensemblId: String!\n",
    "  $efoId: String!\n",
    "  $size: Int!\n",
    "  $cursor: String\n",
    ") {\n",
    "  disease(efoId: $efoId) {\n",
    "    id\n",
    "    europePmc: evidences(\n",
    "      ensemblIds: [$ensemblId]\n",
    "      enableIndirect: true\n",
    "      size: $size\n",
    "      datasourceIds: [\"europepmc\"]\n",
    "      cursor: $cursor\n",
    "    ) {\n",
    "      count\n",
    "      cursor\n",
    "      rows {\n",
    "        disease {\n",
    "          name\n",
    "          id\n",
    "        }\n",
    "        target {\n",
    "          approvedSymbol\n",
    "          id\n",
    "        }\n",
    "        literature\n",
    "        textMiningSentences {\n",
    "          tStart\n",
    "          tEnd\n",
    "          dStart\n",
    "          dEnd\n",
    "          section\n",
    "          text\n",
    "        }\n",
    "        resourceScore\n",
    "      }\n",
    "    }\n",
    "  }\n",
    "}\n",
    "\"\"\"\n",
    "\n",
    "# Set base URL of GraphQL API endpoint\n",
    "base_url = \"https://api.platform.opentargets.org/api/v4/graphql\"\n",
    "\n",
    "# Perform POST request and check status code of response\n",
    "r = requests.post(base_url, json={\"query\": query_string, \"variables\": variables})\n",
    "if r.status_code == 200:\n",
    "    print(\"Query ran successfully\")\n",
    "\n",
    "# Transform API response from JSON into Python dictionary and print in console\n",
    "resp = json.loads(r.text)"
   ]
  },
  {
   "cell_type": "code",
   "execution_count": 15,
   "metadata": {},
   "outputs": [
    {
     "name": "stdout",
     "output_type": "stream",
     "text": [
      "Given that Science-LUAD cohort was only treated with PD-1 blockade and performed better than Cancer Cell-LUAD cohort on predicting ICB efficacy (Figure 2B; AUC = 0.82 and 0.80, respectively), we stratified the Discovery-LUAD cohort into two groups based on the TMB cutoff from Science-LUAD cohort (Figure 2C; TMB = 166.5).\n",
      "Immune checkpoint blockade (ICB) therapies that target programmed cell death 1 (PD1) and PD1 ligand 1 (PDL1) have demonstrated promising benefits in lung adenocarcinoma (LUAD), and tumor mutational burden (TMB) is the most robust biomarker associated with the efficacy of PD-1-PD-L1 axis blockade in LUAD, but the assessment of TMB by whole-exome sequencing (WES) is rather expensive and time-consuming.\n",
      "We retrieved many previous studies and cancer databases, only collecting four high-quality LUAD datasets that contained both clinical and genomic information: 29 LUAD patients treated with anti-PD-1 therapy (Science-LUAD) (1), 59 LUAD patients treated with PD-1 plus CTLA-4 blockade (Cancer Cell-LUAD) (2), 186 LUAD patients treated with anti-PD-1/PD-L1 therapies or in combination with anti-CTLA-4 therapy (JCO-LUAD) (3), and 478 LUAD patients without immunotherapy (TCGA-LUAD) (Figure 1; Table S1).\n",
      "Immune checkpoint blockade (ICB) therapies that target programmed cell death 1 (PD1) and PD1 ligand 1 (PDL1) have demonstrated promising benefits in lung adenocarcinoma (LUAD), and tumor mutational burden (TMB) is the most robust biomarker associated with the efficacy of PD-1-PD-L1 axis blockade in LUAD, but the assessment of TMB by whole-exome sequencing (WES) is rather expensive and time-consuming.\n",
      "We retrieved many previous studies and cancer databases, only collecting four high-quality LUAD datasets that contained both clinical and genomic information: 29 LUAD patients treated with anti-PD-1 therapy (Science-LUAD) (1), 59 LUAD patients treated with PD-1 plus CTLA-4 blockade (Cancer Cell-LUAD) (2), 186 LUAD patients treated with anti-PD-1/PD-L1 therapies or in combination with anti-CTLA-4 therapy (JCO-LUAD) (3), and 478 LUAD patients without immunotherapy (TCGA-LUAD) (Figure 1; Table S1).\n",
      "We retrieved many previous studies and cancer databases, only collecting four high-quality LUAD datasets that contained both clinical and genomic information: 29 LUAD patients treated with anti-PD-1 therapy (Science-LUAD) (1), 59 LUAD patients treated with PD-1 plus CTLA-4 blockade (Cancer Cell-LUAD) (2), 186 LUAD patients treated with anti-PD-1/PD-L1 therapies or in combination with anti-CTLA-4 therapy (JCO-LUAD) (3), and 478 LUAD patients without immunotherapy (TCGA-LUAD) (Figure 1; Table S1).\n",
      "Of particular note, one LUAD patient who derived durable clinical benefit from anti-PD-1 therapy showed the strong staining of both PD-L1 expression and CD8+ T cell infiltration.\n",
      "We retrieved many previous studies and cancer databases, only collecting four high-quality LUAD datasets that contained both clinical and genomic information: 29 LUAD patients treated with anti-PD-1 therapy (Science-LUAD) (1), 59 LUAD patients treated with PD-1 plus CTLA-4 blockade (Cancer Cell-LUAD) (2), 186 LUAD patients treated with anti-PD-1/PD-L1 therapies or in combination with anti-CTLA-4 therapy (JCO-LUAD) (3), and 478 LUAD patients without immunotherapy (TCGA-LUAD) (Figure 1; Table S1).\n",
      "We retrieved many previous studies and cancer databases, only collecting four high-quality LUAD datasets that contained both clinical and genomic information: 29 LUAD patients treated with anti-PD-1 therapy (Science-LUAD) (1), 59 LUAD patients treated with PD-1 plus CTLA-4 blockade (Cancer Cell-LUAD) (2), 186 LUAD patients treated with anti-PD-1/PD-L1 therapies or in combination with anti-CTLA-4 therapy (JCO-LUAD) (3), and 478 LUAD patients without immunotherapy (TCGA-LUAD) (Figure 1; Table S1).\n",
      "However, in LUAD, the positivity rate of MMRd/MSI assessed by genomic variations is <1% and much lower than the objective response rate to PD-1 blockade in unselected patients (13, 19, 30–33).\n",
      "We retrieved many previous studies and cancer databases, only collecting four high-quality LUAD datasets that contained both clinical and genomic information: 29 LUAD patients treated with anti-PD-1 therapy (Science-LUAD) (1), 59 LUAD patients treated with PD-1 plus CTLA-4 blockade (Cancer Cell-LUAD) (2), 186 LUAD patients treated with anti-PD-1/PD-L1 therapies or in combination with anti-CTLA-4 therapy (JCO-LUAD) (3), and 478 LUAD patients without immunotherapy (TCGA-LUAD) (Figure 1; Table S1).\n",
      "Immune checkpoint blockade (ICB) therapies that target programmed cell death 1 (PD1) and PD1 ligand 1 (PDL1) have demonstrated promising benefits in lung adenocarcinoma (LUAD), and tumor mutational burden (TMB) is the most robust biomarker associated with the efficacy of PD-1-PD-L1 axis blockade in LUAD, but the assessment of TMB by whole-exome sequencing (WES) is rather expensive and time-consuming.\n",
      "Given that Science-LUAD cohort was only treated with PD-1 blockade and performed better than Cancer Cell-LUAD cohort on predicting ICB efficacy (Figure 2B; AUC = 0.82 and 0.80, respectively), we stratified the Discovery-LUAD cohort into two groups based on the TMB cutoff from Science-LUAD cohort (Figure 2C; TMB = 166.5).\n",
      "Given that Science-LUAD cohort was only treated with PD-1 blockade and performed better than Cancer Cell-LUAD cohort on predicting ICB efficacy (Figure 2B; AUC = 0.82 and 0.80, respectively), we stratified the Discovery-LUAD cohort into two groups based on the TMB cutoff from Science-LUAD cohort (Figure 2C; TMB = 166.5).\n",
      "Given that Science-LUAD cohort was only treated with PD-1 blockade and performed better than Cancer Cell-LUAD cohort on predicting ICB efficacy (Figure 2B; AUC = 0.82 and 0.80, respectively), we stratified the Discovery-LUAD cohort into two groups based on the TMB cutoff from Science-LUAD cohort (Figure 2C; TMB = 166.5).\n",
      "Immune checkpoint blockade (ICB) therapies that target programmed cell death 1 (PD1) and PD1 ligand 1 (PDL1) have demonstrated promising benefits in lung adenocarcinoma (LUAD), and tumor mutational burden (TMB) is the most robust biomarker associated with the efficacy of PD-1-PD-L1 axis blockade in LUAD, but the assessment of TMB by whole-exome sequencing (WES) is rather expensive and time-consuming.\n",
      "We retrieved many previous studies and cancer databases, only collecting four high-quality LUAD datasets that contained both clinical and genomic information: 29 LUAD patients treated with anti-PD-1 therapy (Science-LUAD) (1), 59 LUAD patients treated with PD-1 plus CTLA-4 blockade (Cancer Cell-LUAD) (2), 186 LUAD patients treated with anti-PD-1/PD-L1 therapies or in combination with anti-CTLA-4 therapy (JCO-LUAD) (3), and 478 LUAD patients without immunotherapy (TCGA-LUAD) (Figure 1; Table S1).\n",
      "We retrieved many previous studies and cancer databases, only collecting four high-quality LUAD datasets that contained both clinical and genomic information: 29 LUAD patients treated with anti-PD-1 therapy (Science-LUAD) (1), 59 LUAD patients treated with PD-1 plus CTLA-4 blockade (Cancer Cell-LUAD) (2), 186 LUAD patients treated with anti-PD-1/PD-L1 therapies or in combination with anti-CTLA-4 therapy (JCO-LUAD) (3), and 478 LUAD patients without immunotherapy (TCGA-LUAD) (Figure 1; Table S1).\n",
      "Immune checkpoint blockade (ICB) therapies that target programmed cell death 1 (PD1) and PD1 ligand 1 (PDL1) have demonstrated promising benefits in lung adenocarcinoma (LUAD), and tumor mutational burden (TMB) is the most robust biomarker associated with the efficacy of PD-1-PD-L1 axis blockade in LUAD, but the assessment of TMB by whole-exome sequencing (WES) is rather expensive and time-consuming.\n",
      "We retrieved many previous studies and cancer databases, only collecting four high-quality LUAD datasets that contained both clinical and genomic information: 29 LUAD patients treated with anti-PD-1 therapy (Science-LUAD) (1), 59 LUAD patients treated with PD-1 plus CTLA-4 blockade (Cancer Cell-LUAD) (2), 186 LUAD patients treated with anti-PD-1/PD-L1 therapies or in combination with anti-CTLA-4 therapy (JCO-LUAD) (3), and 478 LUAD patients without immunotherapy (TCGA-LUAD) (Figure 1; Table S1).\n",
      "We retrieved many previous studies and cancer databases, only collecting four high-quality LUAD datasets that contained both clinical and genomic information: 29 LUAD patients treated with anti-PD-1 therapy (Science-LUAD) (1), 59 LUAD patients treated with PD-1 plus CTLA-4 blockade (Cancer Cell-LUAD) (2), 186 LUAD patients treated with anti-PD-1/PD-L1 therapies or in combination with anti-CTLA-4 therapy (JCO-LUAD) (3), and 478 LUAD patients without immunotherapy (TCGA-LUAD) (Figure 1; Table S1).\n",
      "We retrieved many previous studies and cancer databases, only collecting four high-quality LUAD datasets that contained both clinical and genomic information: 29 LUAD patients treated with anti-PD-1 therapy (Science-LUAD) (1), 59 LUAD patients treated with PD-1 plus CTLA-4 blockade (Cancer Cell-LUAD) (2), 186 LUAD patients treated with anti-PD-1/PD-L1 therapies or in combination with anti-CTLA-4 therapy (JCO-LUAD) (3), and 478 LUAD patients without immunotherapy (TCGA-LUAD) (Figure 1; Table S1).\n",
      "Immune checkpoint blockade (ICB) therapies that target programmed cell death 1 (PD1) and PD1 ligand 1 (PDL1) have demonstrated promising benefits in lung adenocarcinoma (LUAD), and tumor mutational burden (TMB) is the most robust biomarker associated with the efficacy of PD-1-PD-L1 axis blockade in LUAD, but the assessment of TMB by whole-exome sequencing (WES) is rather expensive and time-consuming.\n",
      "Immune checkpoint blockade (ICB) therapies that target programmed cell death 1 (PD1) and PD1 ligand 1 (PDL1) have demonstrated promising benefits in lung adenocarcinoma (LUAD), and tumor mutational burden (TMB) is the most robust biomarker associated with the efficacy of PD-1-PD-L1 axis blockade in LUAD, but the assessment of TMB by whole-exome sequencing (WES) is rather expensive and time-consuming.\n",
      "We retrieved many previous studies and cancer databases, only collecting four high-quality LUAD datasets that contained both clinical and genomic information: 29 LUAD patients treated with anti-PD-1 therapy (Science-LUAD) (1), 59 LUAD patients treated with PD-1 plus CTLA-4 blockade (Cancer Cell-LUAD) (2), 186 LUAD patients treated with anti-PD-1/PD-L1 therapies or in combination with anti-CTLA-4 therapy (JCO-LUAD) (3), and 478 LUAD patients without immunotherapy (TCGA-LUAD) (Figure 1; Table S1).\n",
      "Therefore, this study mainly focused on LUAD for anti-PD-1 therapy.\n"
     ]
    },
    {
     "ename": "TypeError",
     "evalue": "list indices must be integers or slices, not str",
     "output_type": "error",
     "traceback": [
      "\u001b[0;31m---------------------------------------------------------------------------\u001b[0m",
      "\u001b[0;31mTypeError\u001b[0m                                 Traceback (most recent call last)",
      "Cell \u001b[0;32mIn[15], line 10\u001b[0m\n\u001b[1;32m      8\u001b[0m     \u001b[38;5;28;01mfor\u001b[39;00m s \u001b[38;5;129;01min\u001b[39;00m text:\n\u001b[1;32m      9\u001b[0m         \u001b[38;5;28mprint\u001b[39m(s[\u001b[38;5;124m\"\u001b[39m\u001b[38;5;124mtext\u001b[39m\u001b[38;5;124m\"\u001b[39m])\n\u001b[0;32m---> 10\u001b[0m     text_evid[pmcid] \u001b[38;5;241m=\u001b[39m [sent \u001b[38;5;28;01mfor\u001b[39;00m sent \u001b[38;5;129;01min\u001b[39;00m \u001b[43mtext\u001b[49m\u001b[43m[\u001b[49m\u001b[38;5;124;43m\"\u001b[39;49m\u001b[38;5;124;43mtext\u001b[39;49m\u001b[38;5;124;43m\"\u001b[39;49m\u001b[43m]\u001b[49m]\n\u001b[1;32m     11\u001b[0m text_evid\n",
      "\u001b[0;31mTypeError\u001b[0m: list indices must be integers or slices, not str"
     ]
    }
   ],
   "source": [
    "from pprint import pprint\n",
    "# pprint(resp)\n",
    "data = resp[\"data\"][\"disease\"][\"europePmc\"][\"rows\"]\n",
    "text_evid = {}\n",
    "for item in data:\n",
    "    pmcid = item[\"literature\"][0]\n",
    "    text = item[\"textMiningSentences\"]\n",
    "    for s in text:\n",
    "        print(s[\"text\"])\n",
    "    text_evid[pmcid] = [sent for sent in text[\"text\"]]\n",
    "text_evid"
   ]
  }
 ],
 "metadata": {
  "kernelspec": {
   "display_name": "otarlab",
   "language": "python",
   "name": "otarlab"
  },
  "language_info": {
   "codemirror_mode": {
    "name": "ipython",
    "version": 3
   },
   "file_extension": ".py",
   "mimetype": "text/x-python",
   "name": "python",
   "nbconvert_exporter": "python",
   "pygments_lexer": "ipython3",
   "version": "3.10.16"
  }
 },
 "nbformat": 4,
 "nbformat_minor": 2
}
