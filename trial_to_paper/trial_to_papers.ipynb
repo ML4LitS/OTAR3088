{
 "cells": [
  {
   "cell_type": "code",
   "execution_count": 4,
   "id": "e1d3437e-094c-46aa-9acd-6700d447ee66",
   "metadata": {},
   "outputs": [],
   "source": [
    "# !pip3 install -r requirements.txt\n",
    "# !pip install ipywidgets\n",
    "\n",
    "## If widgets misbehave, run below commands and restart jupyter\n",
    "# !pip install jupyter_contrib_nbextensions\n",
    "# !jupyter contrib nbextension install --user\n",
    "# !jupyter nbextension enable varInspector/main"
   ]
  },
  {
   "cell_type": "markdown",
   "id": "c2294aba-78f1-4552-8082-33c28fb3e868",
   "metadata": {},
   "source": [
    "### Notes on TODOs\n",
    "\n",
    "- % trials with associated papers at all\n",
    "- What AEs are unique, if any, to the papers (not mentioned in trial)\n",
    "- How do authors prioritise which AEs they are discussing in paper? Are there any trends in this?\n",
    "- What is the lag time between trial completion and papers being published?\n",
    "- Extract target - drug - AEs\n",
    "- Is there any other data in CT.gov which could help inform on AE prioritisation\n",
    "- Can we define 'severity' of AEs with models - check w Ines\n",
    "- Compare examples from OTs paper (less severe indications) to cancer examples, intention to link to Ines' severity score"
   ]
  },
  {
   "cell_type": "code",
   "execution_count": 6,
   "id": "d9e0f932-52d2-4074-8837-9a2c1eba11a2",
   "metadata": {},
   "outputs": [],
   "source": [
    "nct_id = \"NCT01753193\"\n",
    "# nct_id = \"NCT05034952\" # Efficacy and Safety VX-548"
   ]
  },
  {
   "cell_type": "code",
   "execution_count": 8,
   "id": "9ad22740-b673-470d-9fbe-3fc02c1986d6",
   "metadata": {},
   "outputs": [],
   "source": [
    "import ipywidgets as widgets\n",
    "import pandas as pd\n",
    "from transformers import pipeline\n",
    "from tqdm import tqdm\n",
    "from trial_to_paper_utils import *\n",
    "from pprint import pprint"
   ]
  },
  {
   "cell_type": "markdown",
   "id": "caf8f7e8-7cd6-4ad2-abf1-35588e8c4beb",
   "metadata": {},
   "source": [
    "## AACT queried with starting NCT ID of interest to collect referenced adverse events"
   ]
  },
  {
   "cell_type": "code",
   "execution_count": 23,
   "id": "3fa9deaa-5f86-47cd-86ef-ba31829c8d7f",
   "metadata": {},
   "outputs": [
    {
     "name": "stdout",
     "output_type": "stream",
     "text": [
      "For CT.gov trial:\n",
      "\t'An Open-label Study to Evaluate the Long-term Safety of MEDI-546, for the Treatment of SLE, in Adults' (NCT01753193),\n",
      "339 unique AEs were recorded in 1 patient group(s)\n",
      "\n"
     ]
    }
   ],
   "source": [
    "study_title, aes, severe_aes, other_aes, patient_groups = aact_data_gather(nct_id)\n",
    "# TODO Get % affected / see relevance of 'other' vs 'serious'\n",
    "if study_title:\n",
    "    print(\n",
    "        f\"For CT.gov trial:\\n\\t'{study_title}' ({nct_id}),\\n{len(aes)} unique AEs were recorded in {len(patient_groups)} patient group(s)\\n\")\n",
    "    # [print(f\"- {a}\\n\") for a in aes]\n",
    "else:\n",
    "    print(f\"No trials were found searching for ID: {nct_id}\")"
   ]
  },
  {
   "cell_type": "code",
   "execution_count": 10,
   "id": "b42b6ec0-d0b4-4eab-bb13-de03e72ccc79",
   "metadata": {},
   "outputs": [
    {
     "name": "stdout",
     "output_type": "stream",
     "text": [
      "Adverse events recorded for trial: NCT01753193\n"
     ]
    },
    {
     "data": {
      "application/vnd.jupyter.widget-view+json": {
       "model_id": "0f84f41edef34ca1a769f69d05455c81",
       "version_major": 2,
       "version_minor": 0
      },
      "text/plain": [
       "HBox(children=(HTML(value=\"- Scar<br>- Hypertransaminasaemia<br>- Chikungunya virus infection<br>- Herpes simp…"
      ]
     },
     "metadata": {},
     "output_type": "display_data"
    }
   ],
   "source": [
    "def display_widget():\n",
    "    display_text = \"<br>\".join([f\"- {a}\" for a in aes])\n",
    "\n",
    "    b = widgets.HTML(\n",
    "        value=display_text,\n",
    "        placeholder='AEs',\n",
    "        description='Scroll',\n",
    "        disabled=True\n",
    "    )\n",
    "\n",
    "    a = widgets.HBox([b], layout=widgets.Layout(height='150px', width='1000px', overflow_y='auto'))\n",
    "\n",
    "    print(f'Adverse events recorded for trial: {nct_id}')\n",
    "    display(a)\n",
    "\n",
    "display_widget()"
   ]
  },
  {
   "cell_type": "markdown",
   "id": "1cb34a6b-d5f8-457c-944f-dd90f4264434",
   "metadata": {},
   "source": [
    "## Search ePMC for papers mentioning trial ID, failing this search for papers relating to compound name"
   ]
  },
  {
   "cell_type": "code",
   "execution_count": 15,
   "id": "b8cd79b2-912e-4871-840f-3d56cf596d61",
   "metadata": {},
   "outputs": [
    {
     "name": "stdout",
     "output_type": "stream",
     "text": [
      "NCT ID referenced in 6 PubMed paper(s).\n",
      "['39193183', '37148484', '31190735', '33225631', '34768756', '35383948']\n"
     ]
    }
   ],
   "source": [
    "trial_in_pmids = query_epmc(query=nct_id, page_size=25)\n",
    "print(f\"NCT ID referenced in {len(trial_in_pmids)} PubMed paper(s).\\n{trial_in_pmids}\")\n",
    "if not trial_in_pmids:\n",
    "    print('NCT ID not referenced in papers, searching for compound name instead')\n",
    "    trial_in_pmids = query_epmc(query=\"VX-548\", page_size=25) #TODO - Drug name as alternative to NCT ID, automate this\n",
    "\n",
    "test_pmid = trial_in_pmids[3] #TODO - remove test, do for all results & consider subject test groups\n",
    "text = query_bioc(pmid=test_pmid)\n",
    "print_text = False\n",
    "if print_text:\n",
    "    print(\"\\n\".join(text))\n",
    "    print(len(text))\n",
    "    print(text[3])"
   ]
  },
  {
   "cell_type": "markdown",
   "id": "ffd02e6d-0b47-4eb5-aeaa-af1f9c01283e",
   "metadata": {},
   "source": [
    "## Testing HuggingFace AE models over literature text"
   ]
  },
  {
   "cell_type": "code",
   "execution_count": 16,
   "id": "9538f1d9-0ce3-4e09-bd81-a73ebf5fe3bc",
   "metadata": {},
   "outputs": [
    {
     "name": "stderr",
     "output_type": "stream",
     "text": [
      "Device set to use mps:0\n",
      "Asking to truncate to max_length but no maximum length is provided and the model has no predefined maximum length. Default to no truncation.\n",
      "100%|█████████████████████████████████████████| 116/116 [00:05<00:00, 22.48it/s]\n"
     ]
    }
   ],
   "source": [
    "# TODO Test open source models for AE detection in text, compare to those recorded in trial\n",
    "pipe = pipeline(task=\"token-classification\", model=\"MutazYoune/BiomedBERT-Adverse-Events-NER_pun\", tokenizer=\"MutazYoune/BiomedBERT-Adverse-Events-NER_pun\")\n",
    "# pipe = pipeline(task=\"token-classification\", model=\"MutazYoune/Medical-NER-Adverse-Events-NER\", tokenizer=\"MutazYoune/Medical-NER-Adverse-Events-NER\")\n",
    "all_sections = []\n",
    "for x in tqdm(text):\n",
    "    try:\n",
    "        # print(x)\n",
    "        res = pipe(x)\n",
    "        if res:\n",
    "            section_df = pd.DataFrame(res)\n",
    "            # pprint(section_df)\n",
    "            all_sections.append(section_df)\n",
    "    except:\n",
    "        continue\n",
    "paper_aes = pd.concat(all_sections, ignore_index=True)\n",
    "model_name = pipe.model.name_or_path\n",
    "model_name = model_name.rpartition('/')[-1]\n",
    "# paper_aes.to_csv(f'./output/{model_name}_AEs_{test_pmid}.csv')"
   ]
  },
  {
   "cell_type": "code",
   "execution_count": 17,
   "id": "311c5dc7-c5df-451b-858b-0b4fe2701125",
   "metadata": {},
   "outputs": [
    {
     "data": {
      "text/html": [
       "<div>\n",
       "<style scoped>\n",
       "    .dataframe tbody tr th:only-of-type {\n",
       "        vertical-align: middle;\n",
       "    }\n",
       "\n",
       "    .dataframe tbody tr th {\n",
       "        vertical-align: top;\n",
       "    }\n",
       "\n",
       "    .dataframe thead th {\n",
       "        text-align: right;\n",
       "    }\n",
       "</style>\n",
       "<table border=\"1\" class=\"dataframe\">\n",
       "  <thead>\n",
       "    <tr style=\"text-align: right;\">\n",
       "      <th></th>\n",
       "      <th>entity</th>\n",
       "      <th>score</th>\n",
       "      <th>index</th>\n",
       "      <th>word</th>\n",
       "      <th>start</th>\n",
       "      <th>end</th>\n",
       "    </tr>\n",
       "  </thead>\n",
       "  <tbody>\n",
       "    <tr>\n",
       "      <th>0</th>\n",
       "      <td>I-AE</td>\n",
       "      <td>0.730811</td>\n",
       "      <td>67</td>\n",
       "      <td>aes</td>\n",
       "      <td>290</td>\n",
       "      <td>293</td>\n",
       "    </tr>\n",
       "    <tr>\n",
       "      <th>1</th>\n",
       "      <td>I-AE</td>\n",
       "      <td>0.508139</td>\n",
       "      <td>150</td>\n",
       "      <td>adverse</td>\n",
       "      <td>703</td>\n",
       "      <td>710</td>\n",
       "    </tr>\n",
       "    <tr>\n",
       "      <th>2</th>\n",
       "      <td>I-AE</td>\n",
       "      <td>0.712941</td>\n",
       "      <td>151</td>\n",
       "      <td>events</td>\n",
       "      <td>711</td>\n",
       "      <td>717</td>\n",
       "    </tr>\n",
       "    <tr>\n",
       "      <th>3</th>\n",
       "      <td>B-AE</td>\n",
       "      <td>0.959111</td>\n",
       "      <td>174</td>\n",
       "      <td>herpes</td>\n",
       "      <td>831</td>\n",
       "      <td>837</td>\n",
       "    </tr>\n",
       "    <tr>\n",
       "      <th>4</th>\n",
       "      <td>I-AE</td>\n",
       "      <td>0.954907</td>\n",
       "      <td>175</td>\n",
       "      <td>zoster</td>\n",
       "      <td>838</td>\n",
       "      <td>844</td>\n",
       "    </tr>\n",
       "    <tr>\n",
       "      <th>...</th>\n",
       "      <td>...</td>\n",
       "      <td>...</td>\n",
       "      <td>...</td>\n",
       "      <td>...</td>\n",
       "      <td>...</td>\n",
       "      <td>...</td>\n",
       "    </tr>\n",
       "    <tr>\n",
       "      <th>64</th>\n",
       "      <td>B-AE</td>\n",
       "      <td>0.566466</td>\n",
       "      <td>286</td>\n",
       "      <td>herpes</td>\n",
       "      <td>1490</td>\n",
       "      <td>1496</td>\n",
       "    </tr>\n",
       "    <tr>\n",
       "      <th>65</th>\n",
       "      <td>I-AE</td>\n",
       "      <td>0.533914</td>\n",
       "      <td>4</td>\n",
       "      <td>organ</td>\n",
       "      <td>20</td>\n",
       "      <td>25</td>\n",
       "    </tr>\n",
       "    <tr>\n",
       "      <th>66</th>\n",
       "      <td>I-AE</td>\n",
       "      <td>0.566280</td>\n",
       "      <td>5</td>\n",
       "      <td>damage</td>\n",
       "      <td>26</td>\n",
       "      <td>32</td>\n",
       "    </tr>\n",
       "    <tr>\n",
       "      <th>67</th>\n",
       "      <td>B-AE</td>\n",
       "      <td>0.488388</td>\n",
       "      <td>53</td>\n",
       "      <td>antid</td>\n",
       "      <td>253</td>\n",
       "      <td>258</td>\n",
       "    </tr>\n",
       "    <tr>\n",
       "      <th>68</th>\n",
       "      <td>I-AE</td>\n",
       "      <td>0.544966</td>\n",
       "      <td>55</td>\n",
       "      <td>antibody</td>\n",
       "      <td>262</td>\n",
       "      <td>270</td>\n",
       "    </tr>\n",
       "  </tbody>\n",
       "</table>\n",
       "<p>69 rows × 6 columns</p>\n",
       "</div>"
      ],
      "text/plain": [
       "   entity     score  index      word  start   end\n",
       "0    I-AE  0.730811     67       aes    290   293\n",
       "1    I-AE  0.508139    150   adverse    703   710\n",
       "2    I-AE  0.712941    151    events    711   717\n",
       "3    B-AE  0.959111    174    herpes    831   837\n",
       "4    I-AE  0.954907    175    zoster    838   844\n",
       "..    ...       ...    ...       ...    ...   ...\n",
       "64   B-AE  0.566466    286    herpes   1490  1496\n",
       "65   I-AE  0.533914      4     organ     20    25\n",
       "66   I-AE  0.566280      5    damage     26    32\n",
       "67   B-AE  0.488388     53     antid    253   258\n",
       "68   I-AE  0.544966     55  antibody    262   270\n",
       "\n",
       "[69 rows x 6 columns]"
      ]
     },
     "execution_count": 17,
     "metadata": {},
     "output_type": "execute_result"
    }
   ],
   "source": [
    "pd.set_option('display.max_columns', None)\n",
    "paper_aes"
   ]
  },
  {
   "cell_type": "code",
   "execution_count": 18,
   "id": "1d98303a-861c-4ebd-80f9-0356720d9250",
   "metadata": {},
   "outputs": [
    {
     "data": {
      "application/vnd.jupyter.widget-view+json": {
       "model_id": "9f34300a3492463eae96ab3f27d64e92",
       "version_major": 2,
       "version_minor": 0
      },
      "text/plain": [
       "HTML(value='<table border=\"1\" class=\"dataframe\">\\n  <thead>\\n    <tr style=\"text-align: right;\">\\n      <th>en…"
      ]
     },
     "execution_count": 18,
     "metadata": {},
     "output_type": "execute_result"
    }
   ],
   "source": [
    "widgets.HTML(paper_aes.to_html(index=False))"
   ]
  },
  {
   "cell_type": "code",
   "execution_count": null,
   "id": "ac9c2bfe-1f61-4bc1-8396-0bba67d0e5b5",
   "metadata": {},
   "outputs": [],
   "source": []
  }
 ],
 "metadata": {
  "kernelspec": {
   "display_name": "t2paper",
   "language": "python",
   "name": "t2paper"
  },
  "language_info": {
   "codemirror_mode": {
    "name": "ipython",
    "version": 3
   },
   "file_extension": ".py",
   "mimetype": "text/x-python",
   "name": "python",
   "nbconvert_exporter": "python",
   "pygments_lexer": "ipython3",
   "version": "3.13.1"
  }
 },
 "nbformat": 4,
 "nbformat_minor": 5
}
