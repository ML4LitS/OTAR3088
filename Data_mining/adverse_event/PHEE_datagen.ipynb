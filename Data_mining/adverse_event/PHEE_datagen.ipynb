{
 "cells": [
  {
   "cell_type": "markdown",
   "metadata": {},
   "source": [
    "# Processing of PHEE adverse-event data to .CoNLL\n",
    "\n",
    "Related thoughts for use cases: \n",
    "- https://docs.google.com/document/d/1HDpOcQQOmT5A398j_qr-Hm3my4fjuZd8To1YTXhlXNg/edit?tab=t.0#heading=h.kt9y0vodzhfp\n",
    "- https://docs.google.com/document/d/1KGyr_zPBAdTophA-XGzkW0ObhVNMoKBhioJdpVpdnA0/edit?tab=t.0#heading=h.kfugo3aqnalh\n",
    "    - With this second example, we can see value in having models which can capture genevar, drug targets and adverse events"
   ]
  },
  {
   "cell_type": "code",
   "execution_count": null,
   "metadata": {},
   "outputs": [
    {
     "name": "stdout",
     "output_type": "stream",
     "text": [
      "Full dataset:\n",
      "DatasetDict({\n",
      "    train: Dataset({\n",
      "        features: ['id', 'context', 'is_mult_event', 'annotations'],\n",
      "        num_rows: 2898\n",
      "    })\n",
      "    test: Dataset({\n",
      "        features: ['id', 'context', 'is_mult_event', 'annotations'],\n",
      "        num_rows: 968\n",
      "    })\n",
      "    dev: Dataset({\n",
      "        features: ['id', 'context', 'is_mult_event', 'annotations'],\n",
      "        num_rows: 961\n",
      "    })\n",
      "})\n",
      "Train set:\n",
      "Dataset({\n",
      "    features: ['id', 'context', 'is_mult_event', 'annotations'],\n",
      "    num_rows: 2898\n",
      "})\n"
     ]
    }
   ],
   "source": [
    "from datasets import load_dataset\n",
    "\n",
    "phee_dataset = load_dataset(\"phee_builder.py\", \"json\", trust_remote_code=True)\n",
    "\n",
    "# \"phee_dataset\" = DatasetDict, split for 'train', 'test', and 'dev'\n",
    "print(\"Full dataset:\")\n",
    "print(phee_dataset)\n",
    "\n",
    "train_split = phee_dataset['train']\n",
    "test_split = phee_dataset['test']\n",
    "eval_split = phee_dataset['dev']"
   ]
  },
  {
   "cell_type": "code",
   "execution_count": null,
   "metadata": {},
   "outputs": [
    {
     "data": {
      "text/plain": [
       "<generator object PHEE._generate_examples at 0x1500d07b0>"
      ]
     },
     "execution_count": 95,
     "metadata": {},
     "output_type": "execute_result"
    }
   ],
   "source": [
    "from Data_mining.adverse_event.phee_builder import PHEE\n",
    "out = PHEE._generate_examples(phee_dataset, \".\")"
   ]
  },
  {
   "cell_type": "code",
   "execution_count": null,
   "metadata": {},
   "outputs": [
    {
     "name": "stdout",
     "output_type": "stream",
     "text": [
      "{'Effect': {'entity_id': ['T5'], 'start': [[170]], 'text': [['lipoatrophies']]},\n",
      " 'Treatment': {'Disorder': {'entity_id': ['T7'],\n",
      "                            'start': [[189]],\n",
      "                            'text': [['diabetic']]},\n",
      "               'Drug': {'entity_id': ['T6'],\n",
      "                        'start': [[154]],\n",
      "                        'text': [['insulin']]},\n",
      "               'entity_id': ['T3'],\n",
      "               'start': [[154]],\n",
      "               'text': [['insulin']]},\n",
      " 'Trigger': {'entity_id': ['T4'], 'start': [[162]], 'text': [['induced']]},\n",
      " 'event_id': 'E1',\n",
      " 'event_type': 'Adverse_event'}\n",
      "OBJECTIVE: To test the hypothesis that tumor necrosis factor (TNF)-alpha may mediate the loss and the dedifferentiation of subcutaneous fat tissue in the insulin-induced  __START__ lipoatrophies __END__  of a diabetic patient who presented extensive lesions.\n"
     ]
    }
   ],
   "source": [
    "import ast\n",
    "from pprint import pprint\n",
    "from typing import Dict\n",
    "\n",
    "annot = train_split[0][\"annotations\"]\n",
    "context = train_split[0][\"context\"]\n",
    "for e in annot:\n",
    "    events = e[\"events\"]\n",
    "    for text in events:\n",
    "        # pprint(text)\n",
    "        event_data = ast.literal_eval(\"\".join(text[\"event_data\"]))\n",
    "        pprint(event_data)\n",
    "# print(context)\n",
    "int_map = {}\n",
    "for i, char in enumerate(list(context)):\n",
    "    int_map[i] = char\n",
    "# int_map = {0: \"T\", 1: \"h\", 2: \"i\", 3: \"s\" ... and so on}\n",
    "\n",
    "def capture_ae(event_data: List, int_map: Dict, context: str)-> str:\n",
    "    \"\"\"\n",
    "    Catching the adverse event recorded in annotations in the context\n",
    "    of surrounding text \n",
    "    \"\"\"\n",
    "    if event_data[\"event_type\"] == \"Adverse_event\": # Sanity check\n",
    "        try:\n",
    "            ae_desc = event_data[\"Effect\"]\n",
    "        except:\n",
    "            # Something odd here, see example context:\n",
    "            # \"Pulmonary edema during acute infusion of epoprostenol in a patient with pulmonary hypertension and limited scleroderma.\"\n",
    "            # Tagged as an AdEv, but no Event described in data, returning with no annotations for now but TODO - Review\n",
    "            return context\n",
    "        ae_start = ae_desc[\"start\"][0][0]\n",
    "        if len(ae_desc[\"text\"]) == 1:\n",
    "            ae_str = ae_desc[\"text\"][0][0] # TODO - this may span multiple words - check\n",
    "        else:\n",
    "            ae_str = ae_desc[\"text\"] # Will break if caught?\n",
    "        beginning_chars = max(0, ae_start - len(context))\n",
    "        beginning_text = context[beginning_chars:ae_start]\n",
    "\n",
    "        output = f\"{beginning_text} __START__ {ae_str} __END__ {context[ae_start + len(ae_str):]}\"\n",
    "\n",
    "        return output\n",
    "    else:\n",
    "        # This seems to often be \"potential therapeutic event\"\n",
    "        # No adverse event recorded, so treat as 0 annotations of AdEv\n",
    "        return context\n",
    "\n",
    "out = capture_ae(event_data=event_data, int_map=int_map, context=context)\n",
    "print(out)\n"
   ]
  },
  {
   "cell_type": "code",
   "execution_count": null,
   "metadata": {},
   "outputs": [],
   "source": [
    "import re\n",
    "\n",
    "def format_to_conll(text):\n",
    "    \"\"\"Formats a string with __START__/__END__ into CoNLL format.\"\"\"\n",
    "\n",
    "    conll_lines = []\n",
    "    for sentence in text:\n",
    "\n",
    "        # Split the sentence into tokens\n",
    "        tokens = sentence.strip().split()\n",
    "        \n",
    "        # Flag to check if we are inside an annotated span\n",
    "        in_entity = False\n",
    "        tag = \"O\"\n",
    "        \n",
    "        for token in tokens:\n",
    "            if token == '__START__':\n",
    "                in_entity = True\n",
    "                continue\n",
    "            elif token == '__END__':\n",
    "                in_entity = False\n",
    "                continue\n",
    "            # Remove punctuation from tokens for cleaner tagging\n",
    "            clean_token = re.sub(r'[.,;:]$', '', token)\n",
    "            \n",
    "            if in_entity and tag == \"O\":\n",
    "                tag = \"B-Adev\" # Entity starts\n",
    "            elif in_entity and tag == \"B-Adev\":\n",
    "                tag = \"I-Adev\" # Inside entity\n",
    "            elif in_entity:\n",
    "                tag = \"I-Adev\" # Following I- tag\n",
    "            else:\n",
    "                tag = \"O\"\n",
    "            conll_lines.append(f\"{clean_token}\\t{tag}\")\n",
    "\n",
    "\n",
    "        # Add a blank line to separate sentences\n",
    "        conll_lines.append(\"\")\n",
    "        \n",
    "    return \"\\n\".join(conll_lines)"
   ]
  },
  {
   "cell_type": "code",
   "execution_count": 184,
   "metadata": {},
   "outputs": [],
   "source": [
    "import json\n",
    "\n",
    "full_data = {\"train\": train_split,\n",
    "             \"test\": test_split,\n",
    "             \"eval\": eval_split}\n",
    "\n",
    "for name in full_data:\n",
    "    data = full_data[name]\n",
    "\n",
    "    res_list = []\n",
    "    for i, data in enumerate(data):\n",
    "        if i > 1000:\n",
    "            break\n",
    "        annot = data[\"annotations\"]\n",
    "        context = data[\"context\"]\n",
    "        for e in annot:\n",
    "            events = e[\"events\"]\n",
    "            for text in events:\n",
    "                event_data = json.loads(text[\"event_data\"])\n",
    "                int_map = {}\n",
    "                for i, char in enumerate(list(context)):\n",
    "                    int_map[i] = char\n",
    "                out = capture_ae(event_data=event_data, int_map=int_map, context=context)\n",
    "                # print(out)\n",
    "                res_list.append(out)\n",
    "\n",
    "    res_list\n",
    "    conll_output = format_to_conll(res_list)\n",
    "    with open(f\"PHEE_{name}_v1.conll\", \"w+\") as f:\n",
    "        f.writelines(conll_output)\n",
    "    f.close()"
   ]
  }
 ],
 "metadata": {
  "kernelspec": {
   "display_name": "ner-model",
   "language": "python",
   "name": "python3"
  },
  "language_info": {
   "codemirror_mode": {
    "name": "ipython",
    "version": 3
   },
   "file_extension": ".py",
   "mimetype": "text/x-python",
   "name": "python",
   "nbconvert_exporter": "python",
   "pygments_lexer": "ipython3",
   "version": "3.10.16"
  }
 },
 "nbformat": 4,
 "nbformat_minor": 2
}
